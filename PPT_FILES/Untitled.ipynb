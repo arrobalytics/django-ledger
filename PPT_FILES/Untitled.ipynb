{
 "cells": [
  {
   "cell_type": "code",
   "execution_count": 4,
   "id": "0a8ca360",
   "metadata": {},
   "outputs": [],
   "source": [
    "from django.utils.translation import gettext_lazy as _\n",
    "\n",
    "REL_NAME_PREFIX = 'bill'\n",
    "IS_DEBIT_BALANCE = False\n",
    "ALLOW_MIGRATE = True\n",
    "\n",
    "BILL_STATUS_DRAFT = 'draft'\n",
    "BILL_STATUS_REVIEW = 'in_review'\n",
    "BILL_STATUS_APPROVED = 'approved'\n",
    "BILL_STATUS_PAID = 'paid'\n",
    "BILL_STATUS_VOID = 'void'\n",
    "BILL_STATUS_CANCELED = 'canceled'\n",
    "\n",
    "\n",
    "BILL_STATUS = [\n",
    "        (BILL_STATUS_DRAFT, _('Draft')),\n",
    "        (BILL_STATUS_REVIEW, _('In Review')),\n",
    "        (BILL_STATUS_APPROVED, _('Approved')),\n",
    "        (BILL_STATUS_PAID, _('Paid')),\n",
    "        (BILL_STATUS_CANCELED, _('Canceled')),\n",
    "        (BILL_STATUS_VOID, _('Void'))\n",
    "    ]"
   ]
  },
  {
   "cell_type": "code",
   "execution_count": 14,
   "id": "c9d1bf19",
   "metadata": {},
   "outputs": [
    {
     "name": "stdout",
     "output_type": "stream",
     "text": [
      "draft\n"
     ]
    }
   ],
   "source": [
    "print(BILL_STATUS[0][0])"
   ]
  },
  {
   "cell_type": "code",
   "execution_count": null,
   "id": "6887c02e",
   "metadata": {},
   "outputs": [],
   "source": []
  }
 ],
 "metadata": {
  "kernelspec": {
   "display_name": "Python 3",
   "language": "python",
   "name": "python3"
  },
  "language_info": {
   "codemirror_mode": {
    "name": "ipython",
    "version": 3
   },
   "file_extension": ".py",
   "mimetype": "text/x-python",
   "name": "python",
   "nbconvert_exporter": "python",
   "pygments_lexer": "ipython3",
   "version": "3.9.5"
  }
 },
 "nbformat": 4,
 "nbformat_minor": 5
}
