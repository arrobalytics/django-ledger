{
 "cells": [
  {
   "cell_type": "code",
   "execution_count": 1,
   "metadata": {
    "ExecuteTime": {
     "end_time": "2023-04-22T17:31:33.946119Z",
     "start_time": "2023-04-22T17:31:33.170515Z"
    }
   },
   "outputs": [],
   "source": [
    "import os\n",
    "\n",
    "import django\n",
    "import pandas as pd\n",
    "\n",
    "os.environ['DJANGO_ALLOW_ASYNC_UNSAFE'] = 'true'\n",
    "os.environ['DJANGO_SETTINGS_MODULE'] = 'dev_env.settings'\n",
    "os.chdir('/Users/s64420/git/django-ledger/')\n",
    "\n",
    "django.setup()\n",
    "\n",
    "from django_ledger.models.entity import EntityModel\n",
    "from django.contrib.auth import get_user_model\n",
    "from django_ledger.io import roles"
   ]
  },
  {
   "cell_type": "code",
   "execution_count": 2,
   "metadata": {
    "ExecuteTime": {
     "end_time": "2023-04-22T17:31:33.958105Z",
     "start_time": "2023-04-22T17:31:33.948918Z"
    }
   },
   "outputs": [
    {
     "data": {
      "text/plain": [
       "<User: elarroba>"
      ]
     },
     "execution_count": 2,
     "metadata": {},
     "output_type": "execute_result"
    }
   ],
   "source": [
    "UserModel = get_user_model()\n",
    "user_model = UserModel.objects.get(username__exact='elarroba')\n",
    "user_model"
   ]
  },
  {
   "cell_type": "code",
   "execution_count": 3,
   "metadata": {
    "ExecuteTime": {
     "end_time": "2023-04-22T17:31:33.964024Z",
     "start_time": "2023-04-22T17:31:33.960547Z"
    }
   },
   "outputs": [
    {
     "data": {
      "text/plain": [
       "'miguel-sanda-l28qpqar'"
      ]
     },
     "execution_count": 3,
     "metadata": {},
     "output_type": "execute_result"
    }
   ],
   "source": [
    "entity_model = EntityModel.objects.first()\n",
    "entity_model.slug"
   ]
  },
  {
   "cell_type": "markdown",
   "metadata": {},
   "source": [
    "## Get All Accounts"
   ]
  },
  {
   "cell_type": "code",
   "execution_count": 4,
   "metadata": {
    "ExecuteTime": {
     "end_time": "2023-04-22T17:28:04.192079Z",
     "start_time": "2023-04-22T17:28:04.168406Z"
    }
   },
   "outputs": [
    {
     "data": {
      "text/plain": [
       "<ChartOfAccountModelQuerySet [<ChartOfAccountModel: miguel-sanda-l28qpqarpx960x-coa: Default CoA>]>"
      ]
     },
     "execution_count": 4,
     "metadata": {},
     "output_type": "execute_result"
    }
   ],
   "source": [
    "coa_qs, coa_map = entity_model.get_all_coa_accounts()\n",
    "\n",
    "coa_qs"
   ]
  },
  {
   "cell_type": "markdown",
   "metadata": {},
   "source": [
    "## Get Default CoA Accounts"
   ]
  },
  {
   "cell_type": "code",
   "execution_count": 5,
   "metadata": {
    "ExecuteTime": {
     "end_time": "2023-04-22T17:28:04.192517Z",
     "start_time": "2023-04-22T17:28:04.183707Z"
    }
   },
   "outputs": [
    {
     "data": {
      "text/plain": [
       "<AccountModelQuerySet [<AccountModel: ASSETS - 1010: Cash (ASSET_CA_CASH/debit)>, <AccountModel: ASSETS - 1050: Short Term Investments (ASSET_CA_MKT_SEC/debit)>, <AccountModel: ASSETS - 1100: Accounts Receivable (ASSET_CA_RECV/debit)>, <AccountModel: ASSETS - 1110: Uncollectibles (ASSET_CA_UNCOLL/credit)>, <AccountModel: ASSETS - 1200: Inventory (ASSET_CA_INV/debit)>, <AccountModel: ASSETS - 1300: Prepaid Expenses (ASSET_CA_PREPAID/debit)>, <AccountModel: ASSETS - 1453AVC: A cool account created from the EntityModel API! (ASSET_CA_INV/debit)>, <AccountModel: ASSETS - 1453AVC2: A cool account created from the EntityModel API! (ASSET_CA_INV/debit)>, <AccountModel: ASSETS - 1453AVC23: A cool account created from the EntityModel API! (ASSET_CA_INV/debit)>, <AccountModel: ASSETS - 1453AVC233: A cool account created from the EntityModel API! (ASSET_CA_INV/debit)>, <AccountModel: ASSETS - 1510: Notes Receivable (ASSET_LTI_NOTES/debit)>, <AccountModel: ASSETS - 1520: Land (ASSET_LTI_LAND/debit)>, <AccountModel: ASSETS - 1530: Securities (ASSET_LTI_SEC/debit)>, <AccountModel: ASSETS - 1610: Buildings (ASSET_PPE_BUILD/debit)>, <AccountModel: ASSETS - 1611: Less: Buildings Accumulated Depreciation (ASSET_PPE_BUILD_ACCUM_DEPR/credit)>, <AccountModel: ASSETS - 1620: Plant (ASSET_PPE_PLANT/debit)>, <AccountModel: ASSETS - 1621: Less: Plant Accumulated Depreciation (ASSET_PPE_PLANT_DEPR/credit)>, <AccountModel: ASSETS - 1630: Equipment (ASSET_PPE_EQUIP/debit)>, <AccountModel: ASSETS - 1631: Less: Equipment Accumulated Depreciation (ASSET_PPE_EQUIP_ACCUM_DEPR/credit)>, <AccountModel: ASSETS - 1640: Vehicles (ASSET_PPE_PLANT/debit)>, '...(remaining elements truncated)...']>"
      ]
     },
     "execution_count": 5,
     "metadata": {},
     "output_type": "execute_result"
    }
   ],
   "source": [
    "entity_model.get_default_coa_accounts()"
   ]
  },
  {
   "cell_type": "markdown",
   "metadata": {},
   "source": [
    "## Get Given CoA Accounts"
   ]
  },
  {
   "cell_type": "code",
   "execution_count": 6,
   "metadata": {
    "ExecuteTime": {
     "end_time": "2023-04-22T17:28:04.200182Z",
     "start_time": "2023-04-22T17:28:04.191940Z"
    }
   },
   "outputs": [
    {
     "data": {
      "text/plain": [
       "<AccountModelQuerySet [<AccountModel: ASSETS - 1010: Cash (ASSET_CA_CASH/debit)>, <AccountModel: ASSETS - 1050: Short Term Investments (ASSET_CA_MKT_SEC/debit)>, <AccountModel: ASSETS - 1100: Accounts Receivable (ASSET_CA_RECV/debit)>, <AccountModel: ASSETS - 1110: Uncollectibles (ASSET_CA_UNCOLL/credit)>, <AccountModel: ASSETS - 1200: Inventory (ASSET_CA_INV/debit)>, <AccountModel: ASSETS - 1300: Prepaid Expenses (ASSET_CA_PREPAID/debit)>, <AccountModel: ASSETS - 1453AVC: A cool account created from the EntityModel API! (ASSET_CA_INV/debit)>, <AccountModel: ASSETS - 1453AVC2: A cool account created from the EntityModel API! (ASSET_CA_INV/debit)>, <AccountModel: ASSETS - 1453AVC23: A cool account created from the EntityModel API! (ASSET_CA_INV/debit)>, <AccountModel: ASSETS - 1453AVC233: A cool account created from the EntityModel API! (ASSET_CA_INV/debit)>, <AccountModel: ASSETS - 1510: Notes Receivable (ASSET_LTI_NOTES/debit)>, <AccountModel: ASSETS - 1520: Land (ASSET_LTI_LAND/debit)>, <AccountModel: ASSETS - 1530: Securities (ASSET_LTI_SEC/debit)>, <AccountModel: ASSETS - 1610: Buildings (ASSET_PPE_BUILD/debit)>, <AccountModel: ASSETS - 1611: Less: Buildings Accumulated Depreciation (ASSET_PPE_BUILD_ACCUM_DEPR/credit)>, <AccountModel: ASSETS - 1620: Plant (ASSET_PPE_PLANT/debit)>, <AccountModel: ASSETS - 1621: Less: Plant Accumulated Depreciation (ASSET_PPE_PLANT_DEPR/credit)>, <AccountModel: ASSETS - 1630: Equipment (ASSET_PPE_EQUIP/debit)>, <AccountModel: ASSETS - 1631: Less: Equipment Accumulated Depreciation (ASSET_PPE_EQUIP_ACCUM_DEPR/credit)>, <AccountModel: ASSETS - 1640: Vehicles (ASSET_PPE_PLANT/debit)>, '...(remaining elements truncated)...']>"
      ]
     },
     "execution_count": 6,
     "metadata": {},
     "output_type": "execute_result"
    }
   ],
   "source": [
    "account_qs = entity_model.get_coa_accounts(coa_model=coa_qs.first())\n",
    "account_qs"
   ]
  },
  {
   "cell_type": "code",
   "execution_count": 7,
   "metadata": {
    "ExecuteTime": {
     "end_time": "2023-04-22T17:28:04.208190Z",
     "start_time": "2023-04-22T17:28:04.200830Z"
    }
   },
   "outputs": [
    {
     "data": {
      "text/plain": [
       "<AccountModelQuerySet [<AccountModel: ASSETS - 1010: Cash (ASSET_CA_CASH/debit)>, <AccountModel: ASSETS - 1050: Short Term Investments (ASSET_CA_MKT_SEC/debit)>, <AccountModel: ASSETS - 1100: Accounts Receivable (ASSET_CA_RECV/debit)>, <AccountModel: ASSETS - 1110: Uncollectibles (ASSET_CA_UNCOLL/credit)>, <AccountModel: ASSETS - 1200: Inventory (ASSET_CA_INV/debit)>, <AccountModel: ASSETS - 1300: Prepaid Expenses (ASSET_CA_PREPAID/debit)>, <AccountModel: ASSETS - 1453AVC: A cool account created from the EntityModel API! (ASSET_CA_INV/debit)>, <AccountModel: ASSETS - 1453AVC2: A cool account created from the EntityModel API! (ASSET_CA_INV/debit)>, <AccountModel: ASSETS - 1453AVC23: A cool account created from the EntityModel API! (ASSET_CA_INV/debit)>, <AccountModel: ASSETS - 1453AVC233: A cool account created from the EntityModel API! (ASSET_CA_INV/debit)>, <AccountModel: ASSETS - 1510: Notes Receivable (ASSET_LTI_NOTES/debit)>, <AccountModel: ASSETS - 1520: Land (ASSET_LTI_LAND/debit)>, <AccountModel: ASSETS - 1530: Securities (ASSET_LTI_SEC/debit)>, <AccountModel: ASSETS - 1610: Buildings (ASSET_PPE_BUILD/debit)>, <AccountModel: ASSETS - 1611: Less: Buildings Accumulated Depreciation (ASSET_PPE_BUILD_ACCUM_DEPR/credit)>, <AccountModel: ASSETS - 1620: Plant (ASSET_PPE_PLANT/debit)>, <AccountModel: ASSETS - 1621: Less: Plant Accumulated Depreciation (ASSET_PPE_PLANT_DEPR/credit)>, <AccountModel: ASSETS - 1630: Equipment (ASSET_PPE_EQUIP/debit)>, <AccountModel: ASSETS - 1631: Less: Equipment Accumulated Depreciation (ASSET_PPE_EQUIP_ACCUM_DEPR/credit)>, <AccountModel: ASSETS - 1640: Vehicles (ASSET_PPE_PLANT/debit)>, '...(remaining elements truncated)...']>"
      ]
     },
     "execution_count": 7,
     "metadata": {},
     "output_type": "execute_result"
    }
   ],
   "source": [
    "entity_model.get_coa_accounts(coa_model=coa_qs.first().uuid)"
   ]
  },
  {
   "cell_type": "code",
   "execution_count": 8,
   "metadata": {
    "ExecuteTime": {
     "end_time": "2023-04-22T17:28:04.257558Z",
     "start_time": "2023-04-22T17:28:04.209327Z"
    }
   },
   "outputs": [
    {
     "data": {
      "text/plain": [
       "<AccountModelQuerySet [<AccountModel: ASSETS - 1010: Cash (ASSET_CA_CASH/debit)>, <AccountModel: ASSETS - 1050: Short Term Investments (ASSET_CA_MKT_SEC/debit)>, <AccountModel: ASSETS - 1100: Accounts Receivable (ASSET_CA_RECV/debit)>, <AccountModel: ASSETS - 1110: Uncollectibles (ASSET_CA_UNCOLL/credit)>, <AccountModel: ASSETS - 1200: Inventory (ASSET_CA_INV/debit)>, <AccountModel: ASSETS - 1300: Prepaid Expenses (ASSET_CA_PREPAID/debit)>, <AccountModel: ASSETS - 1453AVC: A cool account created from the EntityModel API! (ASSET_CA_INV/debit)>, <AccountModel: ASSETS - 1453AVC2: A cool account created from the EntityModel API! (ASSET_CA_INV/debit)>, <AccountModel: ASSETS - 1453AVC23: A cool account created from the EntityModel API! (ASSET_CA_INV/debit)>, <AccountModel: ASSETS - 1453AVC233: A cool account created from the EntityModel API! (ASSET_CA_INV/debit)>, <AccountModel: ASSETS - 1510: Notes Receivable (ASSET_LTI_NOTES/debit)>, <AccountModel: ASSETS - 1520: Land (ASSET_LTI_LAND/debit)>, <AccountModel: ASSETS - 1530: Securities (ASSET_LTI_SEC/debit)>, <AccountModel: ASSETS - 1610: Buildings (ASSET_PPE_BUILD/debit)>, <AccountModel: ASSETS - 1611: Less: Buildings Accumulated Depreciation (ASSET_PPE_BUILD_ACCUM_DEPR/credit)>, <AccountModel: ASSETS - 1620: Plant (ASSET_PPE_PLANT/debit)>, <AccountModel: ASSETS - 1621: Less: Plant Accumulated Depreciation (ASSET_PPE_PLANT_DEPR/credit)>, <AccountModel: ASSETS - 1630: Equipment (ASSET_PPE_EQUIP/debit)>, <AccountModel: ASSETS - 1631: Less: Equipment Accumulated Depreciation (ASSET_PPE_EQUIP_ACCUM_DEPR/credit)>, <AccountModel: ASSETS - 1640: Vehicles (ASSET_PPE_PLANT/debit)>, '...(remaining elements truncated)...']>"
      ]
     },
     "execution_count": 8,
     "metadata": {},
     "output_type": "execute_result"
    }
   ],
   "source": [
    "entity_model.get_coa_accounts(coa_model=coa_qs.first().slug)"
   ]
  },
  {
   "cell_type": "markdown",
   "metadata": {},
   "source": [
    "## Get Accounts With Codes"
   ]
  },
  {
   "cell_type": "code",
   "execution_count": 15,
   "metadata": {
    "ExecuteTime": {
     "end_time": "2023-04-22T17:29:10.313350Z",
     "start_time": "2023-04-22T17:29:10.305581Z"
    }
   },
   "outputs": [
    {
     "data": {
      "text/plain": [
       "<AccountModelQuerySet [<AccountModel: ASSETS - 1453AVC234: A cool account created from the EntityModel API! (ASSET_CA_INV/debit)>]>"
      ]
     },
     "execution_count": 15,
     "metadata": {},
     "output_type": "execute_result"
    }
   ],
   "source": [
    "entity_model.get_accounts_with_codes(code_list='1453AVC234')"
   ]
  },
  {
   "cell_type": "markdown",
   "metadata": {},
   "source": [
    "## Create Account Model"
   ]
  },
  {
   "cell_type": "code",
   "execution_count": 12,
   "metadata": {
    "ExecuteTime": {
     "end_time": "2023-04-22T17:28:48.761881Z",
     "start_time": "2023-04-22T17:28:48.747597Z"
    }
   },
   "outputs": [],
   "source": [
    "coa_model, account_model = entity_model.create_account_model(\n",
    "    account_model_kwargs={\n",
    "        'code': '1453AVC234',\n",
    "        'role': roles.ASSET_CA_INVENTORY,\n",
    "        'name': 'A cool account created from the EntityModel API!',\n",
    "        'balance_type': roles.DEBIT,\n",
    "        'active': True\n",
    "    })"
   ]
  },
  {
   "cell_type": "code",
   "execution_count": 4,
   "metadata": {
    "ExecuteTime": {
     "end_time": "2023-04-22T17:29:36.769953Z",
     "start_time": "2023-04-22T17:29:36.764737Z"
    }
   },
   "outputs": [
    {
     "ename": "NameError",
     "evalue": "name 'account_model' is not defined",
     "output_type": "error",
     "traceback": [
      "\u001b[0;31m---------------------------------------------------------------------------\u001b[0m",
      "\u001b[0;31mNameError\u001b[0m                                 Traceback (most recent call last)",
      "Cell \u001b[0;32mIn[4], line 1\u001b[0m\n\u001b[0;32m----> 1\u001b[0m \u001b[43maccount_model\u001b[49m\n",
      "\u001b[0;31mNameError\u001b[0m: name 'account_model' is not defined"
     ]
    }
   ],
   "source": [
    "account_model"
   ]
  },
  {
   "cell_type": "code",
   "execution_count": 5,
   "metadata": {
    "ExecuteTime": {
     "end_time": "2023-04-22T17:31:34.006305Z",
     "start_time": "2023-04-22T17:31:33.964230Z"
    }
   },
   "outputs": [
    {
     "data": {
      "text/plain": [
       "<CustomerModelQueryset [<CustomerModel: C-0000000001: Bridget Ewing>, <CustomerModel: C-0000000002: Leslie Robles>, <CustomerModel: C-0000000003: Peterson, Butler and Perry>, <CustomerModel: C-0000000004: Paula Cook>, <CustomerModel: C-0000000005: William Wallace>, <CustomerModel: C-0000000006: Hinton-Scott>, <CustomerModel: C-0000000007: Heidi Perez>, <CustomerModel: C-0000000008: Jonathan Vasquez>, <CustomerModel: C-0000000009: Laurie Watkins>, <CustomerModel: C-0000000010: Kenneth Perez>, <CustomerModel: C-0000000011: Sara Hurley>, <CustomerModel: C-0000000012: Michael Dennis>, <CustomerModel: C-0000000013: Connie Johnson>, <CustomerModel: C-0000000014: Brandi Mills>, <CustomerModel: C-0000000015: Seth Garrison>, <CustomerModel: C-0000000016: Joann Delgado DVM>, <CustomerModel: C-0000000017: Joyce Murphy>]>"
      ]
     },
     "execution_count": 5,
     "metadata": {},
     "output_type": "execute_result"
    }
   ],
   "source": [
    "entity_model.get_customers()"
   ]
  },
  {
   "cell_type": "code",
   "execution_count": 6,
   "metadata": {
    "ExecuteTime": {
     "end_time": "2023-04-22T17:29:47.364949Z",
     "start_time": "2023-04-22T17:29:47.359045Z"
    }
   },
   "outputs": [],
   "source": [
    "invoice_model = entity_model.create_invoice_model(customer_model='C-0000000006')"
   ]
  },
  {
   "cell_type": "code",
   "execution_count": 8,
   "metadata": {},
   "outputs": [
    {
     "data": {
      "text/plain": [
       "<InvoiceModel: Invoice: I-2023-0000000005>"
      ]
     },
     "execution_count": 8,
     "metadata": {},
     "output_type": "execute_result"
    }
   ],
   "source": [
    "invoice_model"
   ]
  },
  {
   "cell_type": "code",
   "execution_count": 9,
   "metadata": {},
   "outputs": [
    {
     "data": {
      "text/plain": [
       "<VendorModelQuerySet [<VendorModel: V-0000000001: Brown-Perez>, <VendorModel: V-0000000002: Anthony Mullins>, <VendorModel: V-0000000004: Howard, Schmidt and Scott>, <VendorModel: V-0000000005: Griffin, Turner and Nelson>, <VendorModel: V-0000000006: Miller-Hughes>, <VendorModel: V-0000000007: Barton LLC>, <VendorModel: V-0000000010: Roach, Smith and Jenkins>, <VendorModel: V-0000000011: Michelle Hahn>]>"
      ]
     },
     "execution_count": 9,
     "metadata": {},
     "output_type": "execute_result"
    }
   ],
   "source": [
    "entity_model.get_vendors()"
   ]
  },
  {
   "cell_type": "code",
   "execution_count": 10,
   "metadata": {},
   "outputs": [],
   "source": [
    "bill_model = entity_model.create_bill_model(vendor_model='V-0000000002')"
   ]
  },
  {
   "cell_type": "code",
   "execution_count": 11,
   "metadata": {},
   "outputs": [
    {
     "data": {
      "text/plain": [
       "<BillModel: Bill: B-2023-0000000010>"
      ]
     },
     "execution_count": 11,
     "metadata": {},
     "output_type": "execute_result"
    }
   ],
   "source": [
    "bill_model"
   ]
  },
  {
   "cell_type": "code",
   "execution_count": null,
   "metadata": {},
   "outputs": [],
   "source": []
  }
 ],
 "metadata": {
  "kernelspec": {
   "display_name": "Python 3 (ipykernel)",
   "language": "python",
   "name": "python3"
  },
  "language_info": {
   "codemirror_mode": {
    "name": "ipython",
    "version": 3
   },
   "file_extension": ".py",
   "mimetype": "text/x-python",
   "name": "python",
   "nbconvert_exporter": "python",
   "pygments_lexer": "ipython3",
   "version": "3.11.3"
  }
 },
 "nbformat": 4,
 "nbformat_minor": 1
}
