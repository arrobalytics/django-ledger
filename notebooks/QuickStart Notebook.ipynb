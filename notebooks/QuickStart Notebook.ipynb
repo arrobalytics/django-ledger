{
 "cells": [
  {
   "cell_type": "markdown",
   "metadata": {},
   "source": [
    "![Django Ledger](../django_ledger/static/django_ledger/logo_2/django_ledger_logo_dark@2x.png \"Django Ledger Logo\")"
   ]
  },
  {
   "cell_type": "code",
   "metadata": {
    "tags": [],
    "ExecuteTime": {
     "end_time": "2025-09-09T17:34:06.701684Z",
     "start_time": "2025-09-09T17:34:06.453297Z"
    }
   },
   "source": [
    "import os\n",
    "from datetime import date, datetime\n",
    "from random import randint, choices, random\n",
    "from zoneinfo import ZoneInfo\n",
    "\n",
    "import django\n",
    "# for easier visualization it is recommended to use pandas to render data...\n",
    "# if pandas is not installed, you may install it with this command: pip install -U pandas\n",
    "# pandas is not a dependency of django_ledger...\n",
    "from django.core.exceptions import ObjectDoesNotExist\n",
    "\n",
    "# Set your django settings module if needed...\n",
    "os.environ['DJANGO_SETTINGS_MODULE'] = 'dev_env.settings'\n",
    "\n",
    "# if using jupyter notebook need to set DJANGO_ALLOW_ASYNC_UNSAFE as \"true\"\n",
    "os.environ['DJANGO_ALLOW_ASYNC_UNSAFE'] = 'true'\n",
    "\n",
    "# change your working directory as needed...\n",
    "# os.chdir('../')\n",
    "\n",
    "django.setup()\n",
    "\n",
    "from django_ledger.models.entity import EntityModel\n",
    "from django_ledger.models.items import ItemModel\n",
    "from django_ledger.models.invoice import InvoiceModel\n",
    "from django_ledger.models.bill import BillModel\n",
    "from django_ledger.models.estimate import EstimateModel\n",
    "from django.contrib.auth import get_user_model\n",
    "from django_ledger.io import roles\n",
    "from django_ledger.io.io_library import IOBluePrint, IOLibrary\n",
    "\n",
    "try:\n",
    "    import pandas as pd\n",
    "\n",
    "    PANDAS_INSTALLED = True\n",
    "except ImportError:\n",
    "    PANDAS_INSTALLED = False"
   ],
   "outputs": [],
   "execution_count": 1
  },
  {
   "cell_type": "markdown",
   "metadata": {},
   "source": [
    "# Get Your Entity Administrator UserModel"
   ]
  },
  {
   "cell_type": "code",
   "metadata": {
    "tags": [],
    "ExecuteTime": {
     "end_time": "2025-09-09T17:34:06.713529Z",
     "start_time": "2025-09-09T17:34:06.707101Z"
    }
   },
   "source": [
    "# change this to your preferred django username...\n",
    "MY_USERNAME = 'ceo_user'\n",
    "MY_PASSWORD = 'NeverUseMe|VeryInsecure!'\n",
    "UserModel = get_user_model()\n",
    "\n",
    "try:\n",
    "    user_model = UserModel.objects.get(username__exact=MY_USERNAME)\n",
    "except ObjectDoesNotExist:\n",
    "    user_model = UserModel(username=MY_USERNAME)\n",
    "    user_model.set_password(MY_PASSWORD)\n",
    "    user_model.save()"
   ],
   "outputs": [],
   "execution_count": 2
  },
  {
   "cell_type": "markdown",
   "metadata": {},
   "source": [
    "# Get or Create an Entity Model"
   ]
  },
  {
   "cell_type": "code",
   "metadata": {
    "tags": [],
    "ExecuteTime": {
     "end_time": "2025-09-09T17:34:06.729614Z",
     "start_time": "2025-09-09T17:34:06.722544Z"
    }
   },
   "source": [
    "ENTITY_NAME = 'One Big Company, LLC'\n",
    "\n",
    "entity_model = EntityModel.create_entity(\n",
    "    name=ENTITY_NAME,\n",
    "    admin=user_model,\n",
    "    use_accrual_method=True,\n",
    "    fy_start_month=1\n",
    ")\n",
    "\n",
    "entity_model"
   ],
   "outputs": [
    {
     "data": {
      "text/plain": [
       "<EntityModel: EntityModel one-big-company-llc-8s39adzs: One Big Company, LLC>"
      ]
     },
     "execution_count": 3,
     "metadata": {},
     "output_type": "execute_result"
    }
   ],
   "execution_count": 3
  },
  {
   "cell_type": "markdown",
   "metadata": {},
   "source": [
    "# Chart of Accounts"
   ]
  },
  {
   "cell_type": "markdown",
   "metadata": {},
   "source": [
    "## Create a Default Chart of Accounts\n",
    "- Newly created EntityModel do not have a default Code of Accounts yet.\n",
    "- Django Ledger support multiple chart of accounts, but only one can be assigned as default."
   ]
  },
  {
   "cell_type": "markdown",
   "metadata": {},
   "source": [
    "### Check if entity has a default CoA"
   ]
  },
  {
   "cell_type": "code",
   "metadata": {
    "tags": [],
    "ExecuteTime": {
     "end_time": "2025-09-09T17:34:06.746427Z",
     "start_time": "2025-09-09T17:34:06.744049Z"
    }
   },
   "source": [
    "entity_model.has_default_coa()"
   ],
   "outputs": [
    {
     "data": {
      "text/plain": [
       "False"
      ]
     },
     "execution_count": 4,
     "metadata": {},
     "output_type": "execute_result"
    }
   ],
   "execution_count": 4
  },
  {
   "cell_type": "code",
   "metadata": {
    "tags": [],
    "ExecuteTime": {
     "end_time": "2025-09-09T17:34:06.783901Z",
     "start_time": "2025-09-09T17:34:06.757485Z"
    }
   },
   "source": [
    "default_coa_model = entity_model.create_chart_of_accounts(\n",
    "    assign_as_default=True,\n",
    "    commit=True,\n",
    "    coa_name='My QuickStart CoA'\n",
    ")"
   ],
   "outputs": [],
   "execution_count": 5
  },
  {
   "cell_type": "code",
   "metadata": {
    "tags": [],
    "ExecuteTime": {
     "end_time": "2025-09-09T17:34:06.794120Z",
     "start_time": "2025-09-09T17:34:06.792081Z"
    }
   },
   "source": [
    "default_coa_model"
   ],
   "outputs": [
    {
     "data": {
      "text/plain": [
       "<ChartOfAccountModel: My QuickStart CoA (coa-9adzs-a7sjgs81fkl9sm4)>"
      ]
     },
     "execution_count": 6,
     "metadata": {},
     "output_type": "execute_result"
    }
   ],
   "execution_count": 6
  },
  {
   "cell_type": "markdown",
   "metadata": {},
   "source": [
    "### EntityModel has now a Default Chart of Accounts"
   ]
  },
  {
   "cell_type": "code",
   "metadata": {
    "tags": [],
    "ExecuteTime": {
     "end_time": "2025-09-09T17:34:06.812588Z",
     "start_time": "2025-09-09T17:34:06.809957Z"
    }
   },
   "source": [
    "entity_model.has_default_coa()"
   ],
   "outputs": [
    {
     "data": {
      "text/plain": [
       "True"
      ]
     },
     "execution_count": 7,
     "metadata": {},
     "output_type": "execute_result"
    }
   ],
   "execution_count": 7
  },
  {
   "cell_type": "code",
   "metadata": {
    "tags": [],
    "ExecuteTime": {
     "end_time": "2025-09-09T17:34:06.828659Z",
     "start_time": "2025-09-09T17:34:06.824878Z"
    }
   },
   "source": [
    "default_coa_model = entity_model.get_default_coa()\n",
    "default_coa_model"
   ],
   "outputs": [
    {
     "data": {
      "text/plain": [
       "<ChartOfAccountModel: My QuickStart CoA (coa-9adzs-a7sjgs81fkl9sm4)>"
      ]
     },
     "execution_count": 8,
     "metadata": {},
     "output_type": "execute_result"
    }
   ],
   "execution_count": 8
  },
  {
   "cell_type": "markdown",
   "metadata": {},
   "source": [
    "### Default Chart of Accounts is accessible from the Entity Model"
   ]
  },
  {
   "cell_type": "code",
   "metadata": {
    "collapsed": false,
    "jupyter": {
     "outputs_hidden": false
    },
    "ExecuteTime": {
     "end_time": "2025-09-09T17:34:06.841708Z",
     "start_time": "2025-09-09T17:34:06.839232Z"
    }
   },
   "source": [
    "entity_model.default_coa == default_coa_model"
   ],
   "outputs": [
    {
     "data": {
      "text/plain": [
       "True"
      ]
     },
     "execution_count": 9,
     "metadata": {},
     "output_type": "execute_result"
    }
   ],
   "execution_count": 9
  },
  {
   "cell_type": "markdown",
   "metadata": {},
   "source": [
    "# Populate Entity with Random Data (Optional)"
   ]
  },
  {
   "cell_type": "markdown",
   "metadata": {},
   "source": [
    "If you are getting started with Django Ledger, you may want to populate an entity with random data to help you get familiar with the API."
   ]
  },
  {
   "cell_type": "markdown",
   "metadata": {},
   "source": [
    "### Define a Start Date for Transactions"
   ]
  },
  {
   "cell_type": "code",
   "metadata": {
    "tags": [],
    "ExecuteTime": {
     "end_time": "2025-09-09T17:34:06.857341Z",
     "start_time": "2025-09-09T17:34:06.853798Z"
    }
   },
   "source": [
    "START_DTTM = datetime(year=2022, month=10, day=1, tzinfo=ZoneInfo('UTC'))"
   ],
   "outputs": [],
   "execution_count": 10
  },
  {
   "cell_type": "markdown",
   "metadata": {
    "collapsed": false,
    "jupyter": {
     "outputs_hidden": false
    }
   },
   "source": [
    "### Fill the entity with random data.\n",
    "- This action will populate the EntityModel with random data.\n",
    "- It will populate a Code of Accounts using a default pre-defined list.\n",
    "- This approach is for illustration, educational and testing purposes, not encouraged for new production entities.\n",
    "- Only Entities with no transactions can use this method."
   ]
  },
  {
   "cell_type": "code",
   "metadata": {
    "tags": [],
    "ExecuteTime": {
     "end_time": "2025-09-09T17:34:11.317073Z",
     "start_time": "2025-09-09T17:34:06.869955Z"
    }
   },
   "source": [
    "entity_model.populate_random_data(start_date=START_DTTM)"
   ],
   "outputs": [],
   "execution_count": 11
  },
  {
   "cell_type": "markdown",
   "metadata": {},
   "source": [
    "# Chart of Accounts (CoA)\n",
    "- A Chart of Accounts is a user-defined list of accounts. \n",
    "- Each Entity Model must have at least one default Chart of Accounts."
   ]
  },
  {
   "cell_type": "markdown",
   "metadata": {},
   "source": [
    "## Django Ledger supports multiple chart of accounts."
   ]
  },
  {
   "cell_type": "code",
   "metadata": {
    "tags": [],
    "ExecuteTime": {
     "end_time": "2025-09-09T17:34:11.386282Z",
     "start_time": "2025-09-09T17:34:11.366459Z"
    }
   },
   "source": [
    "another_coa_model = entity_model.create_chart_of_accounts(\n",
    "    assign_as_default=False,\n",
    "    commit=True,\n",
    "    coa_name='My Empty Chart of Accounts'\n",
    ")"
   ],
   "outputs": [],
   "execution_count": 12
  },
  {
   "cell_type": "code",
   "metadata": {
    "collapsed": false,
    "jupyter": {
     "outputs_hidden": false
    },
    "ExecuteTime": {
     "end_time": "2025-09-09T17:34:11.396717Z",
     "start_time": "2025-09-09T17:34:11.394558Z"
    }
   },
   "source": [
    "another_coa_model"
   ],
   "outputs": [
    {
     "data": {
      "text/plain": [
       "<ChartOfAccountModel: My Empty Chart of Accounts (coa-9adzs-gim7may1bdymr55)>"
      ]
     },
     "execution_count": 13,
     "metadata": {},
     "output_type": "execute_result"
    }
   ],
   "execution_count": 13
  },
  {
   "cell_type": "markdown",
   "metadata": {},
   "source": [
    "# Accounts"
   ]
  },
  {
   "cell_type": "markdown",
   "metadata": {
    "collapsed": false,
    "jupyter": {
     "outputs_hidden": false
    }
   },
   "source": [
    "## Default CoA Accounts\n",
    "- These accounts are automatically created when populating the Entity with random data."
   ]
  },
  {
   "cell_type": "code",
   "metadata": {
    "tags": [],
    "ExecuteTime": {
     "end_time": "2025-09-09T17:34:11.422125Z",
     "start_time": "2025-09-09T17:34:11.418771Z"
    }
   },
   "source": [
    "default_coa_accounts_qs = entity_model.get_default_coa_accounts().values('code', 'name', 'role', 'balance_type',\n",
    "                                                                         'active', 'locked')\n",
    "pd.DataFrame(default_coa_accounts_qs) if PANDAS_INSTALLED else default_coa_accounts_qs\n"
   ],
   "outputs": [
    {
     "data": {
      "text/plain": [
       "<AccountModelQuerySet [{'code': '1010', 'name': 'Cash', 'role': 'asset_ca_cash', 'balance_type': 'debit', 'active': True, 'locked': False}, {'code': '1050', 'name': 'Short Term Investments', 'role': 'asset_ca_mkt_sec', 'balance_type': 'debit', 'active': True, 'locked': False}, {'code': '1100', 'name': 'Accounts Receivable', 'role': 'asset_ca_recv', 'balance_type': 'debit', 'active': True, 'locked': False}, {'code': '1110', 'name': 'Uncollectibles', 'role': 'asset_ca_uncoll', 'balance_type': 'credit', 'active': True, 'locked': False}, {'code': '1200', 'name': 'Inventory', 'role': 'asset_ca_inv', 'balance_type': 'debit', 'active': True, 'locked': False}, {'code': '1300', 'name': 'Prepaid Expenses', 'role': 'asset_ca_prepaid', 'balance_type': 'debit', 'active': True, 'locked': False}, {'code': '1510', 'name': 'Notes Receivable', 'role': 'asset_lti_notes', 'balance_type': 'debit', 'active': True, 'locked': False}, {'code': '1520', 'name': 'Land', 'role': 'asset_lti_land', 'balance_type': 'debit', 'active': True, 'locked': False}, {'code': '1530', 'name': 'Securities', 'role': 'asset_lti_sec', 'balance_type': 'debit', 'active': True, 'locked': False}, {'code': '1610', 'name': 'Buildings', 'role': 'asset_ppe_build', 'balance_type': 'debit', 'active': True, 'locked': False}, {'code': '1611', 'name': 'Less: Buildings Accumulated Depreciation', 'role': 'asset_ppe_build_accum_depr', 'balance_type': 'credit', 'active': True, 'locked': False}, {'code': '1620', 'name': 'Plant', 'role': 'asset_ppe_plant', 'balance_type': 'debit', 'active': True, 'locked': False}, {'code': '1621', 'name': 'Less: Plant Accumulated Depreciation', 'role': 'asset_ppe_plant_depr', 'balance_type': 'credit', 'active': True, 'locked': False}, {'code': '1630', 'name': 'Equipment', 'role': 'asset_ppe_equip', 'balance_type': 'debit', 'active': True, 'locked': False}, {'code': '1631', 'name': 'Less: Equipment Accumulated Depreciation', 'role': 'asset_ppe_equip_accum_depr', 'balance_type': 'credit', 'active': True, 'locked': False}, {'code': '1640', 'name': 'Vehicles', 'role': 'asset_ppe_plant', 'balance_type': 'debit', 'active': True, 'locked': False}, {'code': '1641', 'name': 'Less: Vehicles Accumulated Depreciation', 'role': 'asset_ppe_plant_depr', 'balance_type': 'credit', 'active': True, 'locked': False}, {'code': '1650', 'name': 'Furniture & Fixtures', 'role': 'asset_ppe_plant', 'balance_type': 'debit', 'active': True, 'locked': False}, {'code': '1651', 'name': 'Less: Furniture & Fixtures Accumulated Depreciation', 'role': 'asset_ppe_plant_depr', 'balance_type': 'credit', 'active': True, 'locked': False}, {'code': '1810', 'name': 'Goodwill', 'role': 'asset_ia', 'balance_type': 'debit', 'active': True, 'locked': False}, '...(remaining elements truncated)...']>"
      ]
     },
     "execution_count": 14,
     "metadata": {},
     "output_type": "execute_result"
    }
   ],
   "execution_count": 14
  },
  {
   "cell_type": "markdown",
   "metadata": {},
   "source": [
    "## Get CoA Accounts by Explicit CoA Model (In case of multiple CoAs)"
   ]
  },
  {
   "cell_type": "code",
   "metadata": {
    "tags": [],
    "ExecuteTime": {
     "end_time": "2025-09-09T17:34:11.454149Z",
     "start_time": "2025-09-09T17:34:11.450735Z"
    }
   },
   "source": [
    "coa_accounts_by_coa_model_qs = entity_model.get_coa_accounts(coa_model=default_coa_model).values('code', 'name', 'role',\n",
    "                                                                                                 'balance_type',\n",
    "                                                                                                 'active', 'locked')\n",
    "pd.DataFrame(coa_accounts_by_coa_model_qs) if PANDAS_INSTALLED else coa_accounts_by_coa_model_qs"
   ],
   "outputs": [
    {
     "data": {
      "text/plain": [
       "<AccountModelQuerySet [{'code': '1010', 'name': 'Cash', 'role': 'asset_ca_cash', 'balance_type': 'debit', 'active': True, 'locked': False}, {'code': '1050', 'name': 'Short Term Investments', 'role': 'asset_ca_mkt_sec', 'balance_type': 'debit', 'active': True, 'locked': False}, {'code': '1100', 'name': 'Accounts Receivable', 'role': 'asset_ca_recv', 'balance_type': 'debit', 'active': True, 'locked': False}, {'code': '1110', 'name': 'Uncollectibles', 'role': 'asset_ca_uncoll', 'balance_type': 'credit', 'active': True, 'locked': False}, {'code': '1200', 'name': 'Inventory', 'role': 'asset_ca_inv', 'balance_type': 'debit', 'active': True, 'locked': False}, {'code': '1300', 'name': 'Prepaid Expenses', 'role': 'asset_ca_prepaid', 'balance_type': 'debit', 'active': True, 'locked': False}, {'code': '1510', 'name': 'Notes Receivable', 'role': 'asset_lti_notes', 'balance_type': 'debit', 'active': True, 'locked': False}, {'code': '1520', 'name': 'Land', 'role': 'asset_lti_land', 'balance_type': 'debit', 'active': True, 'locked': False}, {'code': '1530', 'name': 'Securities', 'role': 'asset_lti_sec', 'balance_type': 'debit', 'active': True, 'locked': False}, {'code': '1610', 'name': 'Buildings', 'role': 'asset_ppe_build', 'balance_type': 'debit', 'active': True, 'locked': False}, {'code': '1611', 'name': 'Less: Buildings Accumulated Depreciation', 'role': 'asset_ppe_build_accum_depr', 'balance_type': 'credit', 'active': True, 'locked': False}, {'code': '1620', 'name': 'Plant', 'role': 'asset_ppe_plant', 'balance_type': 'debit', 'active': True, 'locked': False}, {'code': '1621', 'name': 'Less: Plant Accumulated Depreciation', 'role': 'asset_ppe_plant_depr', 'balance_type': 'credit', 'active': True, 'locked': False}, {'code': '1630', 'name': 'Equipment', 'role': 'asset_ppe_equip', 'balance_type': 'debit', 'active': True, 'locked': False}, {'code': '1631', 'name': 'Less: Equipment Accumulated Depreciation', 'role': 'asset_ppe_equip_accum_depr', 'balance_type': 'credit', 'active': True, 'locked': False}, {'code': '1640', 'name': 'Vehicles', 'role': 'asset_ppe_plant', 'balance_type': 'debit', 'active': True, 'locked': False}, {'code': '1641', 'name': 'Less: Vehicles Accumulated Depreciation', 'role': 'asset_ppe_plant_depr', 'balance_type': 'credit', 'active': True, 'locked': False}, {'code': '1650', 'name': 'Furniture & Fixtures', 'role': 'asset_ppe_plant', 'balance_type': 'debit', 'active': True, 'locked': False}, {'code': '1651', 'name': 'Less: Furniture & Fixtures Accumulated Depreciation', 'role': 'asset_ppe_plant_depr', 'balance_type': 'credit', 'active': True, 'locked': False}, {'code': '1810', 'name': 'Goodwill', 'role': 'asset_ia', 'balance_type': 'debit', 'active': True, 'locked': False}, '...(remaining elements truncated)...']>"
      ]
     },
     "execution_count": 15,
     "metadata": {},
     "output_type": "execute_result"
    }
   ],
   "execution_count": 15
  },
  {
   "cell_type": "markdown",
   "metadata": {
    "collapsed": false,
    "jupyter": {
     "outputs_hidden": false
    }
   },
   "source": [
    "No Accounts yet on this CoA..."
   ]
  },
  {
   "cell_type": "code",
   "metadata": {
    "collapsed": false,
    "jupyter": {
     "outputs_hidden": false
    },
    "ExecuteTime": {
     "end_time": "2025-09-09T17:34:11.486619Z",
     "start_time": "2025-09-09T17:34:11.483330Z"
    }
   },
   "source": [
    "coa_accounts_by_coa_model_qs = entity_model.get_coa_accounts(coa_model=another_coa_model).values('code', 'name', 'role',\n",
    "                                                                                                 'balance_type',\n",
    "                                                                                                 'active', 'locked')\n",
    "pd.DataFrame(coa_accounts_by_coa_model_qs) if PANDAS_INSTALLED else coa_accounts_by_coa_model_qs"
   ],
   "outputs": [
    {
     "data": {
      "text/plain": [
       "<AccountModelQuerySet []>"
      ]
     },
     "execution_count": 16,
     "metadata": {},
     "output_type": "execute_result"
    }
   ],
   "execution_count": 16
  },
  {
   "cell_type": "markdown",
   "metadata": {},
   "source": [
    "## Get CoA Accounts by CoA Model UUID\n",
    "- May pass UUID instance instead of ChartOF AccountsModel.\n",
    "- Useful when using the CoA model UUID as URL kwarg."
   ]
  },
  {
   "cell_type": "code",
   "metadata": {
    "tags": [],
    "ExecuteTime": {
     "end_time": "2025-09-09T17:34:11.543973Z",
     "start_time": "2025-09-09T17:34:11.537638Z"
    }
   },
   "source": [
    "coa_accounts_by_coa_uuid_qs = entity_model.get_coa_accounts(coa_model=default_coa_model.uuid).values('code', 'name',\n",
    "                                                                                                     'role',\n",
    "                                                                                                     'balance_type',\n",
    "                                                                                                     'active', 'locked')\n",
    "pd.DataFrame(coa_accounts_by_coa_uuid_qs) if PANDAS_INSTALLED else coa_accounts_by_coa_uuid_qs"
   ],
   "outputs": [
    {
     "data": {
      "text/plain": [
       "<AccountModelQuerySet [{'code': '1010', 'name': 'Cash', 'role': 'asset_ca_cash', 'balance_type': 'debit', 'active': True, 'locked': False}, {'code': '1050', 'name': 'Short Term Investments', 'role': 'asset_ca_mkt_sec', 'balance_type': 'debit', 'active': True, 'locked': False}, {'code': '1100', 'name': 'Accounts Receivable', 'role': 'asset_ca_recv', 'balance_type': 'debit', 'active': True, 'locked': False}, {'code': '1110', 'name': 'Uncollectibles', 'role': 'asset_ca_uncoll', 'balance_type': 'credit', 'active': True, 'locked': False}, {'code': '1200', 'name': 'Inventory', 'role': 'asset_ca_inv', 'balance_type': 'debit', 'active': True, 'locked': False}, {'code': '1300', 'name': 'Prepaid Expenses', 'role': 'asset_ca_prepaid', 'balance_type': 'debit', 'active': True, 'locked': False}, {'code': '1510', 'name': 'Notes Receivable', 'role': 'asset_lti_notes', 'balance_type': 'debit', 'active': True, 'locked': False}, {'code': '1520', 'name': 'Land', 'role': 'asset_lti_land', 'balance_type': 'debit', 'active': True, 'locked': False}, {'code': '1530', 'name': 'Securities', 'role': 'asset_lti_sec', 'balance_type': 'debit', 'active': True, 'locked': False}, {'code': '1610', 'name': 'Buildings', 'role': 'asset_ppe_build', 'balance_type': 'debit', 'active': True, 'locked': False}, {'code': '1611', 'name': 'Less: Buildings Accumulated Depreciation', 'role': 'asset_ppe_build_accum_depr', 'balance_type': 'credit', 'active': True, 'locked': False}, {'code': '1620', 'name': 'Plant', 'role': 'asset_ppe_plant', 'balance_type': 'debit', 'active': True, 'locked': False}, {'code': '1621', 'name': 'Less: Plant Accumulated Depreciation', 'role': 'asset_ppe_plant_depr', 'balance_type': 'credit', 'active': True, 'locked': False}, {'code': '1630', 'name': 'Equipment', 'role': 'asset_ppe_equip', 'balance_type': 'debit', 'active': True, 'locked': False}, {'code': '1631', 'name': 'Less: Equipment Accumulated Depreciation', 'role': 'asset_ppe_equip_accum_depr', 'balance_type': 'credit', 'active': True, 'locked': False}, {'code': '1640', 'name': 'Vehicles', 'role': 'asset_ppe_plant', 'balance_type': 'debit', 'active': True, 'locked': False}, {'code': '1641', 'name': 'Less: Vehicles Accumulated Depreciation', 'role': 'asset_ppe_plant_depr', 'balance_type': 'credit', 'active': True, 'locked': False}, {'code': '1650', 'name': 'Furniture & Fixtures', 'role': 'asset_ppe_plant', 'balance_type': 'debit', 'active': True, 'locked': False}, {'code': '1651', 'name': 'Less: Furniture & Fixtures Accumulated Depreciation', 'role': 'asset_ppe_plant_depr', 'balance_type': 'credit', 'active': True, 'locked': False}, {'code': '1810', 'name': 'Goodwill', 'role': 'asset_ia', 'balance_type': 'debit', 'active': True, 'locked': False}, '...(remaining elements truncated)...']>"
      ]
     },
     "execution_count": 17,
     "metadata": {},
     "output_type": "execute_result"
    }
   ],
   "execution_count": 17
  },
  {
   "cell_type": "markdown",
   "metadata": {},
   "source": [
    "## Get CoA Accounts by CoA Model Slug\n",
    "- If string is passed, will lookup by slug.\n",
    "- Useful when using the CoA model UUID as URL kwarg."
   ]
  },
  {
   "cell_type": "code",
   "metadata": {
    "tags": [],
    "ExecuteTime": {
     "end_time": "2025-09-09T17:34:11.574361Z",
     "start_time": "2025-09-09T17:34:11.568839Z"
    }
   },
   "source": [
    "coa_accounts_by_coa_slug_qs = entity_model.get_coa_accounts(coa_model=default_coa_model.slug).values('code', 'name',\n",
    "                                                                                                     'role',\n",
    "                                                                                                     'balance_type',\n",
    "                                                                                                     'active', 'locked')\n",
    "pd.DataFrame(coa_accounts_by_coa_slug_qs) if PANDAS_INSTALLED else coa_accounts_by_coa_slug_qs"
   ],
   "outputs": [
    {
     "data": {
      "text/plain": [
       "<AccountModelQuerySet [{'code': '1010', 'name': 'Cash', 'role': 'asset_ca_cash', 'balance_type': 'debit', 'active': True, 'locked': False}, {'code': '1050', 'name': 'Short Term Investments', 'role': 'asset_ca_mkt_sec', 'balance_type': 'debit', 'active': True, 'locked': False}, {'code': '1100', 'name': 'Accounts Receivable', 'role': 'asset_ca_recv', 'balance_type': 'debit', 'active': True, 'locked': False}, {'code': '1110', 'name': 'Uncollectibles', 'role': 'asset_ca_uncoll', 'balance_type': 'credit', 'active': True, 'locked': False}, {'code': '1200', 'name': 'Inventory', 'role': 'asset_ca_inv', 'balance_type': 'debit', 'active': True, 'locked': False}, {'code': '1300', 'name': 'Prepaid Expenses', 'role': 'asset_ca_prepaid', 'balance_type': 'debit', 'active': True, 'locked': False}, {'code': '1510', 'name': 'Notes Receivable', 'role': 'asset_lti_notes', 'balance_type': 'debit', 'active': True, 'locked': False}, {'code': '1520', 'name': 'Land', 'role': 'asset_lti_land', 'balance_type': 'debit', 'active': True, 'locked': False}, {'code': '1530', 'name': 'Securities', 'role': 'asset_lti_sec', 'balance_type': 'debit', 'active': True, 'locked': False}, {'code': '1610', 'name': 'Buildings', 'role': 'asset_ppe_build', 'balance_type': 'debit', 'active': True, 'locked': False}, {'code': '1611', 'name': 'Less: Buildings Accumulated Depreciation', 'role': 'asset_ppe_build_accum_depr', 'balance_type': 'credit', 'active': True, 'locked': False}, {'code': '1620', 'name': 'Plant', 'role': 'asset_ppe_plant', 'balance_type': 'debit', 'active': True, 'locked': False}, {'code': '1621', 'name': 'Less: Plant Accumulated Depreciation', 'role': 'asset_ppe_plant_depr', 'balance_type': 'credit', 'active': True, 'locked': False}, {'code': '1630', 'name': 'Equipment', 'role': 'asset_ppe_equip', 'balance_type': 'debit', 'active': True, 'locked': False}, {'code': '1631', 'name': 'Less: Equipment Accumulated Depreciation', 'role': 'asset_ppe_equip_accum_depr', 'balance_type': 'credit', 'active': True, 'locked': False}, {'code': '1640', 'name': 'Vehicles', 'role': 'asset_ppe_plant', 'balance_type': 'debit', 'active': True, 'locked': False}, {'code': '1641', 'name': 'Less: Vehicles Accumulated Depreciation', 'role': 'asset_ppe_plant_depr', 'balance_type': 'credit', 'active': True, 'locked': False}, {'code': '1650', 'name': 'Furniture & Fixtures', 'role': 'asset_ppe_plant', 'balance_type': 'debit', 'active': True, 'locked': False}, {'code': '1651', 'name': 'Less: Furniture & Fixtures Accumulated Depreciation', 'role': 'asset_ppe_plant_depr', 'balance_type': 'credit', 'active': True, 'locked': False}, {'code': '1810', 'name': 'Goodwill', 'role': 'asset_ia', 'balance_type': 'debit', 'active': True, 'locked': False}, '...(remaining elements truncated)...']>"
      ]
     },
     "execution_count": 18,
     "metadata": {},
     "output_type": "execute_result"
    }
   ],
   "execution_count": 18
  },
  {
   "cell_type": "markdown",
   "metadata": {},
   "source": [
    "## Get Accounts With Codes and CoA Model\n",
    "- Assumes default CoA if no coa_model is passed..."
   ]
  },
  {
   "cell_type": "code",
   "metadata": {
    "tags": [],
    "ExecuteTime": {
     "end_time": "2025-09-09T17:34:11.595295Z",
     "start_time": "2025-09-09T17:34:11.591644Z"
    }
   },
   "source": [
    "coa_accounts_by_codes_qs = entity_model.get_accounts_with_codes(code_list=['1010', '1050']).values('code', 'name',\n",
    "                                                                                                   'role',\n",
    "                                                                                                   'balance_type',\n",
    "                                                                                                   'active', 'locked')\n",
    "pd.DataFrame(coa_accounts_by_codes_qs) if PANDAS_INSTALLED else coa_accounts_by_codes_qs"
   ],
   "outputs": [
    {
     "data": {
      "text/plain": [
       "<AccountModelQuerySet [{'code': '1010', 'name': 'Cash', 'role': 'asset_ca_cash', 'balance_type': 'debit', 'active': True, 'locked': False}, {'code': '1050', 'name': 'Short Term Investments', 'role': 'asset_ca_mkt_sec', 'balance_type': 'debit', 'active': True, 'locked': False}]>"
      ]
     },
     "execution_count": 19,
     "metadata": {},
     "output_type": "execute_result"
    }
   ],
   "execution_count": 19
  },
  {
   "cell_type": "markdown",
   "metadata": {
    "collapsed": false,
    "jupyter": {
     "outputs_hidden": false
    }
   },
   "source": [
    "Empty ChartOfAccountModel..."
   ]
  },
  {
   "cell_type": "code",
   "metadata": {
    "collapsed": false,
    "jupyter": {
     "outputs_hidden": false
    },
    "ExecuteTime": {
     "end_time": "2025-09-09T17:34:11.629155Z",
     "start_time": "2025-09-09T17:34:11.625832Z"
    }
   },
   "source": [
    "coa_accounts_by_codes_qs = entity_model.get_accounts_with_codes(\n",
    "    code_list=['1010', '1050'],\n",
    "    coa_model=another_coa_model\n",
    ").values('code', 'name', 'role', 'balance_type', 'active', 'locked')\n",
    "pd.DataFrame(coa_accounts_by_codes_qs) if PANDAS_INSTALLED else coa_accounts_by_codes_qs"
   ],
   "outputs": [
    {
     "data": {
      "text/plain": [
       "<AccountModelQuerySet []>"
      ]
     },
     "execution_count": 20,
     "metadata": {},
     "output_type": "execute_result"
    }
   ],
   "execution_count": 20
  },
  {
   "cell_type": "markdown",
   "metadata": {
    "collapsed": false,
    "jupyter": {
     "outputs_hidden": false
    }
   },
   "source": [
    "### Get All Accounts at Once\n",
    "- Convenience method to get all accounts from all chart of account models associated with the entity."
   ]
  },
  {
   "cell_type": "code",
   "metadata": {
    "collapsed": false,
    "jupyter": {
     "outputs_hidden": false
    },
    "ExecuteTime": {
     "end_time": "2025-09-09T17:34:11.664314Z",
     "start_time": "2025-09-09T17:34:11.654740Z"
    }
   },
   "source": [
    "coa_qs, coa_map = entity_model.get_all_coa_accounts()"
   ],
   "outputs": [],
   "execution_count": 21
  },
  {
   "cell_type": "markdown",
   "metadata": {
    "collapsed": false,
    "jupyter": {
     "outputs_hidden": false
    }
   },
   "source": [
    "A dictionary, CoA Model -> Account List."
   ]
  },
  {
   "cell_type": "code",
   "metadata": {
    "collapsed": false,
    "jupyter": {
     "outputs_hidden": false
    },
    "ExecuteTime": {
     "end_time": "2025-09-09T17:34:11.674395Z",
     "start_time": "2025-09-09T17:34:11.672117Z"
    }
   },
   "source": [
    "coa_map.keys()"
   ],
   "outputs": [
    {
     "data": {
      "text/plain": [
       "dict_keys([<ChartOfAccountModel: My QuickStart CoA (coa-9adzs-a7sjgs81fkl9sm4)>, <ChartOfAccountModel: My Empty Chart of Accounts (coa-9adzs-gim7may1bdymr55)>])"
      ]
     },
     "execution_count": 22,
     "metadata": {},
     "output_type": "execute_result"
    }
   ],
   "execution_count": 22
  },
  {
   "cell_type": "code",
   "metadata": {
    "collapsed": false,
    "jupyter": {
     "outputs_hidden": false
    },
    "ExecuteTime": {
     "end_time": "2025-09-09T17:34:11.695307Z",
     "start_time": "2025-09-09T17:34:11.692236Z"
    }
   },
   "source": "coa_map[default_coa_model].values('code', 'name', 'role', 'balance_type', 'active', 'locked')",
   "outputs": [
    {
     "data": {
      "text/plain": [
       "<AccountModelQuerySet [{'code': '1010', 'name': 'Cash', 'role': 'asset_ca_cash', 'balance_type': 'debit', 'active': True, 'locked': False}, {'code': '1050', 'name': 'Short Term Investments', 'role': 'asset_ca_mkt_sec', 'balance_type': 'debit', 'active': True, 'locked': False}, {'code': '1100', 'name': 'Accounts Receivable', 'role': 'asset_ca_recv', 'balance_type': 'debit', 'active': True, 'locked': False}, {'code': '1110', 'name': 'Uncollectibles', 'role': 'asset_ca_uncoll', 'balance_type': 'credit', 'active': True, 'locked': False}, {'code': '1200', 'name': 'Inventory', 'role': 'asset_ca_inv', 'balance_type': 'debit', 'active': True, 'locked': False}, {'code': '1300', 'name': 'Prepaid Expenses', 'role': 'asset_ca_prepaid', 'balance_type': 'debit', 'active': True, 'locked': False}, {'code': '1510', 'name': 'Notes Receivable', 'role': 'asset_lti_notes', 'balance_type': 'debit', 'active': True, 'locked': False}, {'code': '1520', 'name': 'Land', 'role': 'asset_lti_land', 'balance_type': 'debit', 'active': True, 'locked': False}, {'code': '1530', 'name': 'Securities', 'role': 'asset_lti_sec', 'balance_type': 'debit', 'active': True, 'locked': False}, {'code': '1610', 'name': 'Buildings', 'role': 'asset_ppe_build', 'balance_type': 'debit', 'active': True, 'locked': False}, {'code': '1611', 'name': 'Less: Buildings Accumulated Depreciation', 'role': 'asset_ppe_build_accum_depr', 'balance_type': 'credit', 'active': True, 'locked': False}, {'code': '1620', 'name': 'Plant', 'role': 'asset_ppe_plant', 'balance_type': 'debit', 'active': True, 'locked': False}, {'code': '1621', 'name': 'Less: Plant Accumulated Depreciation', 'role': 'asset_ppe_plant_depr', 'balance_type': 'credit', 'active': True, 'locked': False}, {'code': '1630', 'name': 'Equipment', 'role': 'asset_ppe_equip', 'balance_type': 'debit', 'active': True, 'locked': False}, {'code': '1631', 'name': 'Less: Equipment Accumulated Depreciation', 'role': 'asset_ppe_equip_accum_depr', 'balance_type': 'credit', 'active': True, 'locked': False}, {'code': '1640', 'name': 'Vehicles', 'role': 'asset_ppe_plant', 'balance_type': 'debit', 'active': True, 'locked': False}, {'code': '1641', 'name': 'Less: Vehicles Accumulated Depreciation', 'role': 'asset_ppe_plant_depr', 'balance_type': 'credit', 'active': True, 'locked': False}, {'code': '1650', 'name': 'Furniture & Fixtures', 'role': 'asset_ppe_plant', 'balance_type': 'debit', 'active': True, 'locked': False}, {'code': '1651', 'name': 'Less: Furniture & Fixtures Accumulated Depreciation', 'role': 'asset_ppe_plant_depr', 'balance_type': 'credit', 'active': True, 'locked': False}, {'code': '1810', 'name': 'Goodwill', 'role': 'asset_ia', 'balance_type': 'debit', 'active': True, 'locked': False}, '...(remaining elements truncated)...']>"
      ]
     },
     "execution_count": 23,
     "metadata": {},
     "output_type": "execute_result"
    }
   ],
   "execution_count": 23
  },
  {
   "cell_type": "code",
   "metadata": {
    "collapsed": false,
    "jupyter": {
     "outputs_hidden": false
    },
    "ExecuteTime": {
     "end_time": "2025-09-09T17:34:11.718330Z",
     "start_time": "2025-09-09T17:34:11.715406Z"
    }
   },
   "source": "coa_map[another_coa_model].values('code', 'name', 'role', 'balance_type', 'active', 'locked')",
   "outputs": [
    {
     "data": {
      "text/plain": [
       "<AccountModelQuerySet []>"
      ]
     },
     "execution_count": 24,
     "metadata": {},
     "output_type": "execute_result"
    }
   ],
   "execution_count": 24
  },
  {
   "cell_type": "markdown",
   "metadata": {},
   "source": [
    "## Create Account Model\n",
    "- Creating AccountModel into empty \"another_coa_model\"..."
   ]
  },
  {
   "cell_type": "code",
   "metadata": {
    "tags": [],
    "ExecuteTime": {
     "end_time": "2025-09-09T17:34:11.739210Z",
     "start_time": "2025-09-09T17:34:11.732121Z"
    }
   },
   "source": [
    "account_model = entity_model.create_account(\n",
    "    coa_model=another_coa_model,\n",
    "    code=f'1{str(randint(10000, 99999))}',\n",
    "    role=roles.ASSET_CA_INVENTORY,\n",
    "    name='A cool account created from the EntityModel API!',\n",
    "    balance_type=roles.DEBIT,\n",
    "    active=True\n",
    ")"
   ],
   "outputs": [],
   "execution_count": 25
  },
  {
   "cell_type": "code",
   "metadata": {
    "tags": [],
    "ExecuteTime": {
     "end_time": "2025-09-09T17:34:11.754092Z",
     "start_time": "2025-09-09T17:34:11.751867Z"
    }
   },
   "source": [
    "account_model"
   ],
   "outputs": [
    {
     "data": {
      "text/plain": [
       "<AccountModel: ASSETS - 118965: A cool account created from the EntityModel API! (ASSET_CA_INV/debit)>"
      ]
     },
     "execution_count": 26,
     "metadata": {},
     "output_type": "execute_result"
    }
   ],
   "execution_count": 26
  },
  {
   "cell_type": "code",
   "metadata": {
    "tags": [],
    "ExecuteTime": {
     "end_time": "2025-09-09T17:34:11.775112Z",
     "start_time": "2025-09-09T17:34:11.771485Z"
    }
   },
   "source": [
    "another_coa_accounts_qs = entity_model.get_coa_accounts(coa_model=another_coa_model).values('code', 'name', 'role',\n",
    "                                                                                            'balance_type', 'active',\n",
    "                                                                                            'locked')\n",
    "pd.DataFrame(another_coa_accounts_qs) if PANDAS_INSTALLED else another_coa_accounts_qs"
   ],
   "outputs": [
    {
     "data": {
      "text/plain": [
       "<AccountModelQuerySet [{'code': '118965', 'name': 'A cool account created from the EntityModel API!', 'role': 'asset_ca_inv', 'balance_type': 'debit', 'active': True, 'locked': False}]>"
      ]
     },
     "execution_count": 27,
     "metadata": {},
     "output_type": "execute_result"
    }
   ],
   "execution_count": 27
  },
  {
   "cell_type": "markdown",
   "metadata": {
    "collapsed": false,
    "jupyter": {
     "outputs_hidden": false
    }
   },
   "source": [
    "# Basic Django Ledger Usage\n",
    "- The LedgerModel enables object-oriented programming into the accounting system.\n",
    "- Examples:\n",
    "    - A month.\n",
    "    - A customer.\n",
    "    - A vendor.\n",
    "    - A project.\n",
    "    - A building.\n",
    "- The more appropriate ledgers are created, the more segregation and control over transactions is possible."
   ]
  },
  {
   "cell_type": "markdown",
   "metadata": {},
   "source": [
    "## Creating an Empty Ledger using the Entity API."
   ]
  },
  {
   "cell_type": "code",
   "metadata": {
    "collapsed": false,
    "jupyter": {
     "outputs_hidden": false
    },
    "ExecuteTime": {
     "end_time": "2025-09-09T17:34:11.789703Z",
     "start_time": "2025-09-09T17:34:11.786798Z"
    }
   },
   "source": [
    "ledger_model = entity_model.create_ledger(name='My October 2023 Ledger', posted=True)"
   ],
   "outputs": [],
   "execution_count": 28
  },
  {
   "cell_type": "markdown",
   "metadata": {},
   "source": [
    "## Creating Transaction Libraries"
   ]
  },
  {
   "cell_type": "code",
   "metadata": {
    "ExecuteTime": {
     "end_time": "2025-09-09T17:34:11.804610Z",
     "start_time": "2025-09-09T17:34:11.802711Z"
    }
   },
   "source": [
    "library = IOLibrary(name='quickstart-library')"
   ],
   "outputs": [],
   "execution_count": 29
  },
  {
   "cell_type": "markdown",
   "metadata": {},
   "source": [
    "## Create and Register a BluePrint"
   ]
  },
  {
   "cell_type": "code",
   "metadata": {
    "ExecuteTime": {
     "end_time": "2025-09-09T17:34:11.814708Z",
     "start_time": "2025-09-09T17:34:11.812201Z"
    }
   },
   "source": [
    "@library.register\n",
    "def sale_blueprint(\n",
    "        sale_amount,\n",
    "        contribution_margin_percent: float,\n",
    "        description: str = None\n",
    ") -> IOBluePrint:\n",
    "    blueprint = IOBluePrint()\n",
    "    cogs_amount = (1 - contribution_margin_percent) * sale_amount\n",
    "    blueprint.debit(account_code='1010', amount=sale_amount, description=description)\n",
    "    blueprint.credit(account_code='4010', amount=sale_amount, description=description)\n",
    "    blueprint.credit(account_code='1200', amount=cogs_amount, description=description)\n",
    "    blueprint.debit(account_code='5010', amount=cogs_amount, description=description)\n",
    "    return blueprint"
   ],
   "outputs": [],
   "execution_count": 30
  },
  {
   "cell_type": "markdown",
   "metadata": {},
   "source": [
    "## Get a Cursor"
   ]
  },
  {
   "cell_type": "code",
   "metadata": {
    "ExecuteTime": {
     "end_time": "2025-09-09T17:34:11.824315Z",
     "start_time": "2025-09-09T17:34:11.822567Z"
    }
   },
   "source": [
    "cursor = library.get_cursor(entity_model=entity_model, user_model=user_model)"
   ],
   "outputs": [],
   "execution_count": 31
  },
  {
   "cell_type": "markdown",
   "metadata": {},
   "source": [
    "## Dispatch Some Instructions"
   ]
  },
  {
   "cell_type": "code",
   "metadata": {
    "ExecuteTime": {
     "end_time": "2025-09-09T17:34:11.835195Z",
     "start_time": "2025-09-09T17:34:11.832787Z"
    }
   },
   "source": [
    "cursor.dispatch('sale_blueprint',\n",
    "                ledger_model='ledger-test-1',\n",
    "                sale_amount=120.345,\n",
    "                contribution_margin_percent=0.25,\n",
    "                description='so cool')\n",
    "cursor.dispatch('sale_blueprint',\n",
    "                ledger_model='ledger-test-1',\n",
    "                sale_amount=12.345,\n",
    "                contribution_margin_percent=0.2,\n",
    "                description='so cool')\n",
    "cursor.dispatch('sale_blueprint',\n",
    "                ledger_model=ledger_model,\n",
    "                sale_amount=34.455,\n",
    "                contribution_margin_percent=0.13,\n",
    "                description='so cool')\n",
    "cursor.dispatch('sale_blueprint',\n",
    "                ledger_model='ledger-test-12',\n",
    "                sale_amount=90.43,\n",
    "                contribution_margin_percent=0.17,\n",
    "                description='so cool')"
   ],
   "outputs": [],
   "execution_count": 32
  },
  {
   "cell_type": "markdown",
   "metadata": {},
   "source": [
    "## Commit Your Instructions\n",
    "Not recommended to post both ledger and journal entries. Posted transactions will immediately affect the books.\n",
    "**result** contains the resulting ledger models, journal entries and transactions. "
   ]
  },
  {
   "cell_type": "code",
   "metadata": {
    "ExecuteTime": {
     "end_time": "2025-09-09T17:34:11.866958Z",
     "start_time": "2025-09-09T17:34:11.841906Z"
    }
   },
   "source": [
    "result = cursor.commit(\n",
    "    post_new_ledgers=True,\n",
    "    post_journal_entries=True,\n",
    "    je_timestamp='2023-12-02 12:00'\n",
    ")"
   ],
   "outputs": [],
   "execution_count": 33
  },
  {
   "cell_type": "code",
   "metadata": {
    "ExecuteTime": {
     "end_time": "2025-09-09T17:34:11.877580Z",
     "start_time": "2025-09-09T17:34:11.874706Z"
    }
   },
   "source": [
    "result"
   ],
   "outputs": [
    {
     "data": {
      "text/plain": [
       "{<LedgerModel: LedgerModel: Blueprint Commitment ledger-test-1 | Posted: True | Locked: False>: {'ledger_model': <LedgerModel: LedgerModel: Blueprint Commitment ledger-test-1 | Posted: True | Locked: False>,\n",
       "  'journal_entry': <JournalEntryModel: JE: JE-2023-000-0000000019 (posted=True, locked=True) - Desc: >,\n",
       "  'txs_models': [<TransactionModel: 1010-Cash/debit: 120.34/debit>,\n",
       "   <TransactionModel: 4010-Sales Income/credit: 120.34/credit>,\n",
       "   <TransactionModel: 1200-Inventory/debit: 90.26/credit>,\n",
       "   <TransactionModel: 5010-Cost of Goods Sold/debit: 90.26/debit>,\n",
       "   <TransactionModel: 1010-Cash/debit: 12.35/debit>,\n",
       "   <TransactionModel: 4010-Sales Income/credit: 12.35/credit>,\n",
       "   <TransactionModel: 1200-Inventory/debit: 9.88/credit>,\n",
       "   <TransactionModel: 5010-Cost of Goods Sold/debit: 9.88/debit>],\n",
       "  'instructions': [TransactionInstructionItem(account_code='1010', amount=Decimal('120.34'), tx_type='debit', description='so cool', account_model=<AccountModel: ASSETS - 1010: Cash (ASSET_CA_CASH/debit)>),\n",
       "   TransactionInstructionItem(account_code='4010', amount=Decimal('120.34'), tx_type='credit', description='so cool', account_model=<AccountModel: EQUITY - 4010: Sales Income (IN_OPERATIONAL/credit)>),\n",
       "   TransactionInstructionItem(account_code='1200', amount=Decimal('90.26'), tx_type='credit', description='so cool', account_model=<AccountModel: ASSETS - 1200: Inventory (ASSET_CA_INV/debit)>),\n",
       "   TransactionInstructionItem(account_code='5010', amount=Decimal('90.26'), tx_type='debit', description='so cool', account_model=<AccountModel: EQUITY - 5010: Cost of Goods Sold (COGS_REGULAR/debit)>),\n",
       "   TransactionInstructionItem(account_code='1010', amount=Decimal('12.35'), tx_type='debit', description='so cool', account_model=<AccountModel: ASSETS - 1010: Cash (ASSET_CA_CASH/debit)>),\n",
       "   TransactionInstructionItem(account_code='4010', amount=Decimal('12.35'), tx_type='credit', description='so cool', account_model=<AccountModel: EQUITY - 4010: Sales Income (IN_OPERATIONAL/credit)>),\n",
       "   TransactionInstructionItem(account_code='1200', amount=Decimal('9.88'), tx_type='credit', description='so cool', account_model=<AccountModel: ASSETS - 1200: Inventory (ASSET_CA_INV/debit)>),\n",
       "   TransactionInstructionItem(account_code='5010', amount=Decimal('9.88'), tx_type='debit', description='so cool', account_model=<AccountModel: EQUITY - 5010: Cost of Goods Sold (COGS_REGULAR/debit)>)],\n",
       "  'account_model_qs': <AccountModelQuerySet [<AccountModel: ASSETS - 1010: Cash (ASSET_CA_CASH/debit)>, <AccountModel: ASSETS - 1200: Inventory (ASSET_CA_INV/debit)>, <AccountModel: EQUITY - 4010: Sales Income (IN_OPERATIONAL/credit)>, <AccountModel: EQUITY - 5010: Cost of Goods Sold (COGS_REGULAR/debit)>]>},\n",
       " <LedgerModel: LedgerModel: My October 2023 Ledger | Posted: True | Locked: False>: {'ledger_model': <LedgerModel: LedgerModel: My October 2023 Ledger | Posted: True | Locked: False>,\n",
       "  'journal_entry': <JournalEntryModel: JE: JE-2023-000-0000000020 (posted=True, locked=True) - Desc: >,\n",
       "  'txs_models': [<TransactionModel: 1010-Cash/debit: 34.45/debit>,\n",
       "   <TransactionModel: 4010-Sales Income/credit: 34.45/credit>,\n",
       "   <TransactionModel: 1200-Inventory/debit: 29.98/credit>,\n",
       "   <TransactionModel: 5010-Cost of Goods Sold/debit: 29.98/debit>],\n",
       "  'instructions': [TransactionInstructionItem(account_code='1010', amount=Decimal('34.45'), tx_type='debit', description='so cool', account_model=<AccountModel: ASSETS - 1010: Cash (ASSET_CA_CASH/debit)>),\n",
       "   TransactionInstructionItem(account_code='4010', amount=Decimal('34.45'), tx_type='credit', description='so cool', account_model=<AccountModel: EQUITY - 4010: Sales Income (IN_OPERATIONAL/credit)>),\n",
       "   TransactionInstructionItem(account_code='1200', amount=Decimal('29.98'), tx_type='credit', description='so cool', account_model=<AccountModel: ASSETS - 1200: Inventory (ASSET_CA_INV/debit)>),\n",
       "   TransactionInstructionItem(account_code='5010', amount=Decimal('29.98'), tx_type='debit', description='so cool', account_model=<AccountModel: EQUITY - 5010: Cost of Goods Sold (COGS_REGULAR/debit)>)],\n",
       "  'account_model_qs': <AccountModelQuerySet [<AccountModel: ASSETS - 1010: Cash (ASSET_CA_CASH/debit)>, <AccountModel: ASSETS - 1200: Inventory (ASSET_CA_INV/debit)>, <AccountModel: EQUITY - 4010: Sales Income (IN_OPERATIONAL/credit)>, <AccountModel: EQUITY - 5010: Cost of Goods Sold (COGS_REGULAR/debit)>]>},\n",
       " <LedgerModel: LedgerModel: Blueprint Commitment ledger-test-12 | Posted: True | Locked: False>: {'ledger_model': <LedgerModel: LedgerModel: Blueprint Commitment ledger-test-12 | Posted: True | Locked: False>,\n",
       "  'journal_entry': <JournalEntryModel: JE: JE-2023-000-0000000021 (posted=True, locked=True) - Desc: >,\n",
       "  'txs_models': [<TransactionModel: 1010-Cash/debit: 90.43/debit>,\n",
       "   <TransactionModel: 4010-Sales Income/credit: 90.43/credit>,\n",
       "   <TransactionModel: 1200-Inventory/debit: 75.06/credit>,\n",
       "   <TransactionModel: 5010-Cost of Goods Sold/debit: 75.06/debit>],\n",
       "  'instructions': [TransactionInstructionItem(account_code='1010', amount=Decimal('90.43'), tx_type='debit', description='so cool', account_model=<AccountModel: ASSETS - 1010: Cash (ASSET_CA_CASH/debit)>),\n",
       "   TransactionInstructionItem(account_code='4010', amount=Decimal('90.43'), tx_type='credit', description='so cool', account_model=<AccountModel: EQUITY - 4010: Sales Income (IN_OPERATIONAL/credit)>),\n",
       "   TransactionInstructionItem(account_code='1200', amount=Decimal('75.06'), tx_type='credit', description='so cool', account_model=<AccountModel: ASSETS - 1200: Inventory (ASSET_CA_INV/debit)>),\n",
       "   TransactionInstructionItem(account_code='5010', amount=Decimal('75.06'), tx_type='debit', description='so cool', account_model=<AccountModel: EQUITY - 5010: Cost of Goods Sold (COGS_REGULAR/debit)>)],\n",
       "  'account_model_qs': <AccountModelQuerySet [<AccountModel: ASSETS - 1010: Cash (ASSET_CA_CASH/debit)>, <AccountModel: ASSETS - 1200: Inventory (ASSET_CA_INV/debit)>, <AccountModel: EQUITY - 4010: Sales Income (IN_OPERATIONAL/credit)>, <AccountModel: EQUITY - 5010: Cost of Goods Sold (COGS_REGULAR/debit)>]>}}"
      ]
     },
     "execution_count": 34,
     "metadata": {},
     "output_type": "execute_result"
    }
   ],
   "execution_count": 34
  },
  {
   "cell_type": "markdown",
   "metadata": {
    "collapsed": false,
    "jupyter": {
     "outputs_hidden": false
    }
   },
   "source": [
    "### Get Financial Statement Report Data fro Ledger Model"
   ]
  },
  {
   "cell_type": "markdown",
   "metadata": {
    "collapsed": false,
    "jupyter": {
     "outputs_hidden": false
    }
   },
   "source": [
    "Balance Sheet"
   ]
  },
  {
   "cell_type": "code",
   "metadata": {
    "collapsed": false,
    "jupyter": {
     "outputs_hidden": false
    },
    "ExecuteTime": {
     "end_time": "2025-09-09T17:34:11.898706Z",
     "start_time": "2025-09-09T17:34:11.894273Z"
    }
   },
   "source": [
    "bs_data = ledger_model.digest_balance_sheet(\n",
    "    to_date=date(2023, 12, 31),\n",
    "    entity_slug=entity_model\n",
    ")\n",
    "\n",
    "bs_data.get_balance_sheet_data()"
   ],
   "outputs": [
    {
     "data": {
      "text/plain": [
       "{'assets': {'total_balance': Decimal('4.4700000000000'),\n",
       "  'is_block': True,\n",
       "  'roles': {'asset_ca_cash': {'accounts': [{'account_uuid': UUID('ceca82da-05a2-4f09-8033-e1da9508e111'),\n",
       "      'coa_slug': 'coa-9adzs-a7sjgs81fkl9sm4',\n",
       "      'unit_uuid': None,\n",
       "      'unit_name': None,\n",
       "      'activity': None,\n",
       "      'period_year': None,\n",
       "      'period_month': None,\n",
       "      'role_bs': 'assets',\n",
       "      'role': 'asset_ca_cash',\n",
       "      'code': '1010',\n",
       "      'name': 'Cash',\n",
       "      'balance_type': 'debit',\n",
       "      'tx_type': None,\n",
       "      'balance': Decimal('34.4500000000000'),\n",
       "      'balance_abs': Decimal('34.4500000000000')}],\n",
       "    'total_balance': Decimal('34.4500000000000'),\n",
       "    'role_name': 'Current Asset'},\n",
       "   'asset_ca_inv': {'accounts': [{'account_uuid': UUID('213e4ae3-2603-4957-ac28-4596dff79716'),\n",
       "      'coa_slug': 'coa-9adzs-a7sjgs81fkl9sm4',\n",
       "      'unit_uuid': None,\n",
       "      'unit_name': None,\n",
       "      'activity': None,\n",
       "      'period_year': None,\n",
       "      'period_month': None,\n",
       "      'role_bs': 'assets',\n",
       "      'role': 'asset_ca_inv',\n",
       "      'code': '1200',\n",
       "      'name': 'Inventory',\n",
       "      'balance_type': 'debit',\n",
       "      'tx_type': None,\n",
       "      'balance': Decimal('-29.9800000000000'),\n",
       "      'balance_abs': Decimal('29.9800000000000')}],\n",
       "    'total_balance': Decimal('-29.9800000000000'),\n",
       "    'role_name': 'Inventory'}}},\n",
       " 'equity_balance': Decimal('4.4700000000000'),\n",
       " 'retained_earnings_balance': Decimal('4.4700000000000'),\n",
       " 'liabilities_equity_balance': Decimal('4.4700000000000')}"
      ]
     },
     "execution_count": 35,
     "metadata": {},
     "output_type": "execute_result"
    }
   ],
   "execution_count": 35
  },
  {
   "cell_type": "markdown",
   "metadata": {
    "collapsed": false,
    "jupyter": {
     "outputs_hidden": false
    }
   },
   "source": [
    "Income Statement"
   ]
  },
  {
   "cell_type": "code",
   "metadata": {
    "collapsed": false,
    "jupyter": {
     "outputs_hidden": false
    },
    "ExecuteTime": {
     "end_time": "2025-09-09T17:34:11.914450Z",
     "start_time": "2025-09-09T17:34:11.909818Z"
    }
   },
   "source": [
    "is_data = ledger_model.digest_income_statement(\n",
    "    from_date=date(2023, 1, 1),\n",
    "    to_date=date(2023, 12, 31),\n",
    "    entity_slug=entity_model\n",
    ")\n",
    "is_data.get_income_statement_data()"
   ],
   "outputs": [
    {
     "data": {
      "text/plain": [
       "{'operating': {'revenues': [{'account_uuid': UUID('13d064e4-365c-46aa-b480-2a4c8f5a79ae'),\n",
       "    'coa_slug': 'coa-9adzs-a7sjgs81fkl9sm4',\n",
       "    'unit_uuid': None,\n",
       "    'unit_name': None,\n",
       "    'activity': None,\n",
       "    'period_year': None,\n",
       "    'period_month': None,\n",
       "    'role_bs': 'equity',\n",
       "    'role': 'in_operational',\n",
       "    'code': '4010',\n",
       "    'name': 'Sales Income',\n",
       "    'balance_type': 'credit',\n",
       "    'tx_type': None,\n",
       "    'balance': Decimal('34.4500000000000'),\n",
       "    'balance_abs': Decimal('34.4500000000000'),\n",
       "    'role_name': 'Operational Income'}],\n",
       "  'cogs': [{'account_uuid': UUID('c6705d64-4c39-483c-9be8-9dd989a9db0e'),\n",
       "    'coa_slug': 'coa-9adzs-a7sjgs81fkl9sm4',\n",
       "    'unit_uuid': None,\n",
       "    'unit_name': None,\n",
       "    'activity': None,\n",
       "    'period_year': None,\n",
       "    'period_month': None,\n",
       "    'role_bs': 'equity',\n",
       "    'role': 'cogs_regular',\n",
       "    'code': '5010',\n",
       "    'name': 'Cost of Goods Sold',\n",
       "    'balance_type': 'debit',\n",
       "    'tx_type': None,\n",
       "    'balance': Decimal('-29.9800000000000'),\n",
       "    'balance_abs': Decimal('29.9800000000000'),\n",
       "    'role_name': 'Cost of Goods Sold'}],\n",
       "  'expenses': [],\n",
       "  'gross_profit': Decimal('4.4700000000000'),\n",
       "  'net_operating_income': Decimal('4.4700000000000'),\n",
       "  'net_operating_revenue': Decimal('34.4500000000000'),\n",
       "  'net_cogs': Decimal('-29.9800000000000'),\n",
       "  'net_operating_expenses': 0},\n",
       " 'other': {'revenues': [],\n",
       "  'expenses': [],\n",
       "  'net_other_revenues': 0,\n",
       "  'net_other_expenses': 0,\n",
       "  'net_other_income': 0},\n",
       " 'net_income': Decimal('4.4700000000000')}"
      ]
     },
     "execution_count": 36,
     "metadata": {},
     "output_type": "execute_result"
    }
   ],
   "execution_count": 36
  },
  {
   "cell_type": "markdown",
   "metadata": {
    "collapsed": false,
    "jupyter": {
     "outputs_hidden": false
    }
   },
   "source": [
    "Cash Flow Statement"
   ]
  },
  {
   "cell_type": "code",
   "metadata": {
    "collapsed": false,
    "jupyter": {
     "outputs_hidden": false
    },
    "ExecuteTime": {
     "end_time": "2025-09-09T17:34:11.930589Z",
     "start_time": "2025-09-09T17:34:11.925720Z"
    }
   },
   "source": [
    "cfs_data = ledger_model.digest_cash_flow_statement(\n",
    "    from_date=date(2023, 1, 1),\n",
    "    to_date=date(2023, 12, 31),\n",
    "    entity_slug=entity_model\n",
    ")\n",
    "\n",
    "cfs_data.get_cash_flow_statement_data()"
   ],
   "outputs": [
    {
     "data": {
      "text/plain": [
       "{'operating': {'GROUP_CFS_NET_INCOME': {'description': 'Net Income',\n",
       "   'balance': Decimal('4.4700000000000')},\n",
       "  'GROUP_CFS_OP_DEPRECIATION_AMORTIZATION': {'description': 'Depreciation & Amortization of Assets',\n",
       "   'balance': 0},\n",
       "  'GROUP_CFS_OP_INVESTMENT_GAINS': {'description': 'Gain/Loss Sale of Assets',\n",
       "   'balance': 0},\n",
       "  'GROUP_CFS_OP_ACCOUNTS_RECEIVABLE': {'description': 'Accounts Receivable',\n",
       "   'balance': 0},\n",
       "  'GROUP_CFS_OP_INVENTORY': {'description': 'Inventories',\n",
       "   'balance': Decimal('29.9800000000000')},\n",
       "  'GROUP_CFS_OP_ACCOUNTS_PAYABLE': {'description': 'Accounts Payable',\n",
       "   'balance': 0},\n",
       "  'GROUP_CFS_OP_OTHER_CURRENT_ASSETS_ADJUSTMENT': {'description': 'Other Current Assets',\n",
       "   'balance': 0},\n",
       "  'GROUP_CFS_OP_OTHER_CURRENT_LIABILITIES_ADJUSTMENT': {'description': 'Other Current Liabilities',\n",
       "   'balance': 0}},\n",
       " 'net_cash_by_activity': {'OPERATING': Decimal('34.4500000000000'),\n",
       "  'FINANCING': 0,\n",
       "  'INVESTING': 0},\n",
       " 'financing': {'GROUP_CFS_FIN_ISSUING_EQUITY': {'description': 'Common Stock, Preferred Stock and Capital Raised',\n",
       "   'balance': 0},\n",
       "  'GROUP_CFS_FIN_DIVIDENDS': {'description': 'Dividends Payed Out to Shareholders',\n",
       "   'balance': 0},\n",
       "  'GROUP_CFS_FIN_ST_DEBT_PAYMENTS': {'description': 'Increase/Reduction of Short-Term Debt Principal',\n",
       "   'balance': 0},\n",
       "  'GROUP_CFS_FIN_LT_DEBT_PAYMENTS': {'description': 'Increase/Reduction of Long-Term Debt Principal',\n",
       "   'balance': 0}},\n",
       " 'investing': {'GROUP_CFS_INVESTING_SECURITIES': {'description': 'Purchase, Maturity and Sales of Investments & Securities',\n",
       "   'balance': 0},\n",
       "  'GROUP_CFS_INVESTING_PPE': {'description': 'Addition and Disposition of Property, Plant & Equipment',\n",
       "   'balance': 0}},\n",
       " 'net_income': Decimal('4.4700000000000'),\n",
       " 'net_cash': Decimal('34.4500000000000')}"
      ]
     },
     "execution_count": 37,
     "metadata": {},
     "output_type": "execute_result"
    }
   ],
   "execution_count": 37
  },
  {
   "cell_type": "markdown",
   "metadata": {
    "collapsed": false,
    "jupyter": {
     "outputs_hidden": false
    }
   },
   "source": [
    "All Statements in a Single Call"
   ]
  },
  {
   "cell_type": "code",
   "metadata": {
    "collapsed": false,
    "jupyter": {
     "outputs_hidden": false
    },
    "ExecuteTime": {
     "end_time": "2025-09-09T17:34:11.945086Z",
     "start_time": "2025-09-09T17:34:11.941129Z"
    }
   },
   "source": [
    "fin_digest = ledger_model.digest_financial_statements(\n",
    "    from_date=date(2023, 1, 1),\n",
    "    to_date=date(2023, 12, 31),\n",
    "    entity_slug=entity_model\n",
    ")\n",
    "\n",
    "statement_data = fin_digest.get_financial_statements_data()"
   ],
   "outputs": [],
   "execution_count": 38
  },
  {
   "cell_type": "code",
   "metadata": {
    "collapsed": false,
    "jupyter": {
     "outputs_hidden": false
    },
    "ExecuteTime": {
     "end_time": "2025-09-09T17:34:11.958297Z",
     "start_time": "2025-09-09T17:34:11.955845Z"
    }
   },
   "source": [
    "statement_data['balance_sheet']"
   ],
   "outputs": [
    {
     "data": {
      "text/plain": [
       "{'assets': {'total_balance': Decimal('4.4700000000000'),\n",
       "  'is_block': True,\n",
       "  'roles': {'asset_ca_cash': {'accounts': [{'account_uuid': UUID('ceca82da-05a2-4f09-8033-e1da9508e111'),\n",
       "      'coa_slug': 'coa-9adzs-a7sjgs81fkl9sm4',\n",
       "      'unit_uuid': None,\n",
       "      'unit_name': None,\n",
       "      'activity': 'op',\n",
       "      'period_year': None,\n",
       "      'period_month': None,\n",
       "      'role_bs': 'assets',\n",
       "      'role': 'asset_ca_cash',\n",
       "      'code': '1010',\n",
       "      'name': 'Cash',\n",
       "      'balance_type': 'debit',\n",
       "      'tx_type': None,\n",
       "      'balance': Decimal('34.4500000000000'),\n",
       "      'balance_abs': Decimal('34.4500000000000')}],\n",
       "    'total_balance': Decimal('34.4500000000000'),\n",
       "    'role_name': 'Current Asset'},\n",
       "   'asset_ca_inv': {'accounts': [{'account_uuid': UUID('213e4ae3-2603-4957-ac28-4596dff79716'),\n",
       "      'coa_slug': 'coa-9adzs-a7sjgs81fkl9sm4',\n",
       "      'unit_uuid': None,\n",
       "      'unit_name': None,\n",
       "      'activity': 'op',\n",
       "      'period_year': None,\n",
       "      'period_month': None,\n",
       "      'role_bs': 'assets',\n",
       "      'role': 'asset_ca_inv',\n",
       "      'code': '1200',\n",
       "      'name': 'Inventory',\n",
       "      'balance_type': 'debit',\n",
       "      'tx_type': None,\n",
       "      'balance': Decimal('-29.9800000000000'),\n",
       "      'balance_abs': Decimal('29.9800000000000')}],\n",
       "    'total_balance': Decimal('-29.9800000000000'),\n",
       "    'role_name': 'Inventory'}}},\n",
       " 'equity_balance': Decimal('4.4700000000000'),\n",
       " 'retained_earnings_balance': Decimal('4.4700000000000'),\n",
       " 'liabilities_equity_balance': Decimal('4.4700000000000')}"
      ]
     },
     "execution_count": 39,
     "metadata": {},
     "output_type": "execute_result"
    }
   ],
   "execution_count": 39
  },
  {
   "cell_type": "code",
   "metadata": {
    "collapsed": false,
    "jupyter": {
     "outputs_hidden": false
    },
    "ExecuteTime": {
     "end_time": "2025-09-09T17:34:11.979718Z",
     "start_time": "2025-09-09T17:34:11.976685Z"
    }
   },
   "source": [
    "statement_data['income_statement']"
   ],
   "outputs": [
    {
     "data": {
      "text/plain": [
       "{'operating': {'revenues': [{'account_uuid': UUID('13d064e4-365c-46aa-b480-2a4c8f5a79ae'),\n",
       "    'coa_slug': 'coa-9adzs-a7sjgs81fkl9sm4',\n",
       "    'unit_uuid': None,\n",
       "    'unit_name': None,\n",
       "    'activity': 'op',\n",
       "    'period_year': None,\n",
       "    'period_month': None,\n",
       "    'role_bs': 'equity',\n",
       "    'role': 'in_operational',\n",
       "    'code': '4010',\n",
       "    'name': 'Sales Income',\n",
       "    'balance_type': 'credit',\n",
       "    'tx_type': None,\n",
       "    'balance': Decimal('34.4500000000000'),\n",
       "    'balance_abs': Decimal('34.4500000000000'),\n",
       "    'role_name': 'Operational Income'}],\n",
       "  'cogs': [{'account_uuid': UUID('c6705d64-4c39-483c-9be8-9dd989a9db0e'),\n",
       "    'coa_slug': 'coa-9adzs-a7sjgs81fkl9sm4',\n",
       "    'unit_uuid': None,\n",
       "    'unit_name': None,\n",
       "    'activity': 'op',\n",
       "    'period_year': None,\n",
       "    'period_month': None,\n",
       "    'role_bs': 'equity',\n",
       "    'role': 'cogs_regular',\n",
       "    'code': '5010',\n",
       "    'name': 'Cost of Goods Sold',\n",
       "    'balance_type': 'debit',\n",
       "    'tx_type': None,\n",
       "    'balance': Decimal('-29.9800000000000'),\n",
       "    'balance_abs': Decimal('29.9800000000000'),\n",
       "    'role_name': 'Cost of Goods Sold'}],\n",
       "  'expenses': [],\n",
       "  'gross_profit': Decimal('4.4700000000000'),\n",
       "  'net_operating_income': Decimal('4.4700000000000'),\n",
       "  'net_operating_revenue': Decimal('34.4500000000000'),\n",
       "  'net_cogs': Decimal('-29.9800000000000'),\n",
       "  'net_operating_expenses': 0},\n",
       " 'other': {'revenues': [],\n",
       "  'expenses': [],\n",
       "  'net_other_revenues': 0,\n",
       "  'net_other_expenses': 0,\n",
       "  'net_other_income': 0},\n",
       " 'net_income': Decimal('4.4700000000000')}"
      ]
     },
     "execution_count": 40,
     "metadata": {},
     "output_type": "execute_result"
    }
   ],
   "execution_count": 40
  },
  {
   "cell_type": "code",
   "metadata": {
    "collapsed": false,
    "jupyter": {
     "outputs_hidden": false
    },
    "ExecuteTime": {
     "end_time": "2025-09-09T17:34:11.995954Z",
     "start_time": "2025-09-09T17:34:11.993414Z"
    }
   },
   "source": [
    "statement_data['cash_flow_statement']"
   ],
   "outputs": [
    {
     "data": {
      "text/plain": [
       "{'operating': {'GROUP_CFS_NET_INCOME': {'description': 'Net Income',\n",
       "   'balance': Decimal('4.4700000000000')},\n",
       "  'GROUP_CFS_OP_DEPRECIATION_AMORTIZATION': {'description': 'Depreciation & Amortization of Assets',\n",
       "   'balance': 0},\n",
       "  'GROUP_CFS_OP_INVESTMENT_GAINS': {'description': 'Gain/Loss Sale of Assets',\n",
       "   'balance': 0},\n",
       "  'GROUP_CFS_OP_ACCOUNTS_RECEIVABLE': {'description': 'Accounts Receivable',\n",
       "   'balance': 0},\n",
       "  'GROUP_CFS_OP_INVENTORY': {'description': 'Inventories',\n",
       "   'balance': Decimal('29.9800000000000')},\n",
       "  'GROUP_CFS_OP_ACCOUNTS_PAYABLE': {'description': 'Accounts Payable',\n",
       "   'balance': 0},\n",
       "  'GROUP_CFS_OP_OTHER_CURRENT_ASSETS_ADJUSTMENT': {'description': 'Other Current Assets',\n",
       "   'balance': 0},\n",
       "  'GROUP_CFS_OP_OTHER_CURRENT_LIABILITIES_ADJUSTMENT': {'description': 'Other Current Liabilities',\n",
       "   'balance': 0}},\n",
       " 'net_cash_by_activity': {'OPERATING': Decimal('34.4500000000000'),\n",
       "  'FINANCING': 0,\n",
       "  'INVESTING': 0},\n",
       " 'financing': {'GROUP_CFS_FIN_ISSUING_EQUITY': {'description': 'Common Stock, Preferred Stock and Capital Raised',\n",
       "   'balance': 0},\n",
       "  'GROUP_CFS_FIN_DIVIDENDS': {'description': 'Dividends Payed Out to Shareholders',\n",
       "   'balance': 0},\n",
       "  'GROUP_CFS_FIN_ST_DEBT_PAYMENTS': {'description': 'Increase/Reduction of Short-Term Debt Principal',\n",
       "   'balance': 0},\n",
       "  'GROUP_CFS_FIN_LT_DEBT_PAYMENTS': {'description': 'Increase/Reduction of Long-Term Debt Principal',\n",
       "   'balance': 0}},\n",
       " 'investing': {'GROUP_CFS_INVESTING_SECURITIES': {'description': 'Purchase, Maturity and Sales of Investments & Securities',\n",
       "   'balance': 0},\n",
       "  'GROUP_CFS_INVESTING_PPE': {'description': 'Addition and Disposition of Property, Plant & Equipment',\n",
       "   'balance': 0}},\n",
       " 'net_income': Decimal('4.4700000000000'),\n",
       " 'net_cash': Decimal('34.4500000000000')}"
      ]
     },
     "execution_count": 41,
     "metadata": {},
     "output_type": "execute_result"
    }
   ],
   "execution_count": 41
  },
  {
   "cell_type": "markdown",
   "metadata": {},
   "source": [
    "# Customers"
   ]
  },
  {
   "cell_type": "markdown",
   "metadata": {},
   "source": [
    "## Get Customers"
   ]
  },
  {
   "cell_type": "code",
   "metadata": {
    "tags": [],
    "ExecuteTime": {
     "end_time": "2025-09-09T17:34:12.016206Z",
     "start_time": "2025-09-09T17:34:12.011793Z"
    }
   },
   "source": [
    "customer_qs = entity_model.get_customers()\n",
    "pd.DataFrame(customer_qs.values()) if PANDAS_INSTALLED else customer_qs"
   ],
   "outputs": [
    {
     "data": {
      "text/plain": [
       "<CustomerModelQueryset [<CustomerModel: C-0000000001: James Davidson>, <CustomerModel: C-0000000002: Dr. Shelby Davis>, <CustomerModel: C-0000000003: Carroll-Garcia>, <CustomerModel: C-0000000004: Ashley Stark>, <CustomerModel: C-0000000005: Brett Swanson>, <CustomerModel: C-0000000006: Melissa Brown>, <CustomerModel: C-0000000007: Ross LLC>, <CustomerModel: C-0000000008: Amanda Espinoza>, <CustomerModel: C-0000000009: Santos-Baker>, <CustomerModel: C-0000000010: Jason Russell>, <CustomerModel: C-0000000011: Christopher Hart>, <CustomerModel: C-0000000012: Davis, Mcdaniel and Parker>, <CustomerModel: C-0000000013: Dorothy Turner>, <CustomerModel: C-0000000014: Pruitt, Vargas and Mosley>, <CustomerModel: C-0000000015: Rachel Young>, <CustomerModel: C-0000000016: Marilyn Hicks>]>"
      ]
     },
     "execution_count": 42,
     "metadata": {},
     "output_type": "execute_result"
    }
   ],
   "execution_count": 42
  },
  {
   "cell_type": "markdown",
   "metadata": {},
   "source": [
    "## Create Customers"
   ]
  },
  {
   "cell_type": "code",
   "metadata": {
    "tags": [],
    "ExecuteTime": {
     "end_time": "2025-09-09T17:34:12.051713Z",
     "start_time": "2025-09-09T17:34:12.046401Z"
    }
   },
   "source": [
    "customer_model = entity_model.create_customer(customer_model_kwargs={\n",
    "    'customer_name': 'Mr. Big',\n",
    "    'description': 'A great paying customer!',\n",
    "})"
   ],
   "outputs": [],
   "execution_count": 43
  },
  {
   "cell_type": "markdown",
   "metadata": {},
   "source": [
    "# Vendors"
   ]
  },
  {
   "cell_type": "markdown",
   "metadata": {},
   "source": [
    "## Get Vendors"
   ]
  },
  {
   "cell_type": "code",
   "metadata": {
    "tags": [],
    "ExecuteTime": {
     "end_time": "2025-09-09T17:34:12.064052Z",
     "start_time": "2025-09-09T17:34:12.060119Z"
    }
   },
   "source": [
    "vendor_qs = entity_model.get_vendors()\n",
    "pd.DataFrame(vendor_qs.values()) if PANDAS_INSTALLED else vendor_qs"
   ],
   "outputs": [
    {
     "data": {
      "text/plain": [
       "<VendorModelQuerySet [<VendorModel: V-0000000001: Ashley Alexander>, <VendorModel: V-0000000002: Ann Griffin>, <VendorModel: V-0000000003: Castillo-Roberts>, <VendorModel: V-0000000004: Wilkins, Patrick and Andrews>, <VendorModel: V-0000000005: Cummings-Johnson>, <VendorModel: V-0000000006: Allison Davis>, <VendorModel: V-0000000007: Phillips, Murphy and Howard>, <VendorModel: V-0000000008: Huff and Sons>, <VendorModel: V-0000000009: Crane-Berry>, <VendorModel: V-0000000010: Simpson LLC>, <VendorModel: V-0000000011: Lynn Barrett DVM>, <VendorModel: V-0000000012: Whitney Lewis>, <VendorModel: V-0000000013: Lyons-Stein>, <VendorModel: V-0000000014: Wiggins Group>, <VendorModel: V-0000000015: Evan Fuentes>, <VendorModel: V-0000000016: Roberts, Ballard and Gray>, <VendorModel: V-0000000017: Lopez, Olson and Frank>, <VendorModel: V-0000000018: John Macias>, <VendorModel: V-0000000019: Ellis, Rose and Davis>, <VendorModel: V-0000000020: Sanchez and Sons>]>"
      ]
     },
     "execution_count": 44,
     "metadata": {},
     "output_type": "execute_result"
    }
   ],
   "execution_count": 44
  },
  {
   "cell_type": "markdown",
   "metadata": {},
   "source": [
    "## Create Vendor"
   ]
  },
  {
   "cell_type": "code",
   "metadata": {
    "tags": [],
    "ExecuteTime": {
     "end_time": "2025-09-09T17:34:12.085288Z",
     "start_time": "2025-09-09T17:34:12.080515Z"
    }
   },
   "source": [
    "vendor_model = entity_model.create_vendor(vendor_model_kwargs={\n",
    "    'vendor_name': 'ACME LLC',\n",
    "    'description': 'A Reliable Vendor!'\n",
    "})"
   ],
   "outputs": [],
   "execution_count": 45
  },
  {
   "cell_type": "markdown",
   "metadata": {},
   "source": [
    "# Invoices"
   ]
  },
  {
   "cell_type": "markdown",
   "metadata": {},
   "source": [
    "## Get Invoices"
   ]
  },
  {
   "cell_type": "code",
   "metadata": {
    "tags": [],
    "ExecuteTime": {
     "end_time": "2025-09-09T17:34:12.103559Z",
     "start_time": "2025-09-09T17:34:12.097256Z"
    }
   },
   "source": [
    "invoices_qs = entity_model.get_invoices()\n",
    "pd.DataFrame(invoices_qs.values()) if PANDAS_INSTALLED else invoices_qs"
   ],
   "outputs": [
    {
     "data": {
      "text/plain": [
       "<InvoiceModelQuerySet [<InvoiceModel: Invoice: I-2023-0000000013 | Draft>, <InvoiceModel: Invoice: I-2023-0000000012 | In Review>, <InvoiceModel: Invoice: I-2022-0000000012 | Draft>, <InvoiceModel: Invoice: I-2023-0000000011 | Draft>, <InvoiceModel: Invoice: I-2023-0000000010 | Void>, <InvoiceModel: Invoice: I-2022-0000000011 | Approved>, <InvoiceModel: Invoice: I-2023-0000000009 | In Review>, <InvoiceModel: Invoice: I-2022-0000000010 | Canceled>, <InvoiceModel: Invoice: I-2022-0000000009 | Approved>, <InvoiceModel: Invoice: I-2023-0000000008 | Draft>, <InvoiceModel: Invoice: I-2022-0000000008 | Draft>, <InvoiceModel: Invoice: I-2023-0000000007 | In Review>, <InvoiceModel: Invoice: I-2022-0000000007 | Draft>, <InvoiceModel: Invoice: I-2022-0000000006 | Paid>, <InvoiceModel: Invoice: I-2023-0000000006 | Draft>, <InvoiceModel: Invoice: I-2023-0000000005 | Paid>, <InvoiceModel: Invoice: I-2023-0000000004 | Paid>, <InvoiceModel: Invoice: I-2022-0000000005 | In Review>, <InvoiceModel: Invoice: I-2023-0000000003 | Paid>, <InvoiceModel: Invoice: I-2023-0000000002 | Approved>, '...(remaining elements truncated)...']>"
      ]
     },
     "execution_count": 46,
     "metadata": {},
     "output_type": "execute_result"
    }
   ],
   "execution_count": 46
  },
  {
   "cell_type": "markdown",
   "metadata": {},
   "source": [
    "## Create Invoice"
   ]
  },
  {
   "cell_type": "code",
   "metadata": {
    "tags": [],
    "ExecuteTime": {
     "end_time": "2025-09-09T17:34:12.130553Z",
     "start_time": "2025-09-09T17:34:12.117444Z"
    }
   },
   "source": [
    "invoice_model = entity_model.create_invoice(\n",
    "    customer_model='C-0000000006',\n",
    "    terms=InvoiceModel.TERMS_NET_30\n",
    ")"
   ],
   "outputs": [],
   "execution_count": 47
  },
  {
   "cell_type": "code",
   "metadata": {
    "ExecuteTime": {
     "end_time": "2025-09-09T17:34:12.141511Z",
     "start_time": "2025-09-09T17:34:12.139387Z"
    }
   },
   "source": "invoice_model",
   "outputs": [
    {
     "data": {
      "text/plain": [
       "<InvoiceModel: Invoice: I-2025-0000000001 | Draft>"
      ]
     },
     "execution_count": 48,
     "metadata": {},
     "output_type": "execute_result"
    }
   ],
   "execution_count": 48
  },
  {
   "cell_type": "markdown",
   "metadata": {},
   "source": [
    "## Add Items to Invoices"
   ]
  },
  {
   "cell_type": "code",
   "metadata": {
    "tags": [],
    "ExecuteTime": {
     "end_time": "2025-09-09T17:34:12.171033Z",
     "start_time": "2025-09-09T17:34:12.158691Z"
    }
   },
   "source": [
    "invoices_item_models = invoice_model.get_item_model_qs()\n",
    "\n",
    "# K= number of items...\n",
    "K = 6\n",
    "\n",
    "invoice_itemtxs = {\n",
    "    im.item_number: {\n",
    "        'unit_cost': round(random() * 10, 2),\n",
    "        'quantity': round(random() * 100, 2),\n",
    "        'total_amount': None\n",
    "    } for im in choices(invoices_item_models, k=K)\n",
    "}\n",
    "\n",
    "# Choose operation ITEMIZE_APPEND to append itemtxs...\n",
    "invoice_itemtxs = invoice_model.migrate_itemtxs(itemtxs=invoice_itemtxs,\n",
    "                                                commit=True,\n",
    "                                                operation=InvoiceModel.ITEMIZE_REPLACE)\n",
    "invoice_itemtxs"
   ],
   "outputs": [
    {
     "data": {
      "text/plain": [
       "[<ItemTransactionModel: Invoice Model: 4baf7ab8-df51-4e35-9f9a-71c5ca80569a | 37.80>,\n",
       " <ItemTransactionModel: Invoice Model: 4baf7ab8-df51-4e35-9f9a-71c5ca80569a | 90.27>,\n",
       " <ItemTransactionModel: Invoice Model: 4baf7ab8-df51-4e35-9f9a-71c5ca80569a | 0.57>,\n",
       " <ItemTransactionModel: Invoice Model: 4baf7ab8-df51-4e35-9f9a-71c5ca80569a | 197.34>,\n",
       " <ItemTransactionModel: Invoice Model: 4baf7ab8-df51-4e35-9f9a-71c5ca80569a | 303.65>]"
      ]
     },
     "execution_count": 49,
     "metadata": {},
     "output_type": "execute_result"
    }
   ],
   "execution_count": 49
  },
  {
   "cell_type": "code",
   "metadata": {
    "tags": [],
    "ExecuteTime": {
     "end_time": "2025-09-09T17:34:12.180582Z",
     "start_time": "2025-09-09T17:34:12.178560Z"
    }
   },
   "source": [
    "invoice_model.amount_due"
   ],
   "outputs": [
    {
     "data": {
      "text/plain": [
       "Decimal('629.63')"
      ]
     },
     "execution_count": 50,
     "metadata": {},
     "output_type": "execute_result"
    }
   ],
   "execution_count": 50
  },
  {
   "cell_type": "markdown",
   "metadata": {},
   "source": [
    "# Bills"
   ]
  },
  {
   "cell_type": "markdown",
   "metadata": {},
   "source": [
    "## Get Bills"
   ]
  },
  {
   "cell_type": "code",
   "metadata": {
    "tags": [],
    "ExecuteTime": {
     "end_time": "2025-09-09T17:34:12.211801Z",
     "start_time": "2025-09-09T17:34:12.205137Z"
    }
   },
   "source": [
    "bills_qs = entity_model.get_bills()\n",
    "pd.DataFrame(bills_qs.values()) if PANDAS_INSTALLED else bills_qs"
   ],
   "outputs": [
    {
     "data": {
      "text/plain": [
       "<BillModelQuerySet [<BillModel: Bill: B-2023-0000000018 | Draft>, <BillModel: Bill: B-2023-0000000017 | In Review>, <BillModel: Bill: B-2023-0000000016 | Draft>, <BillModel: Bill: B-2022-0000000017 | Approved>, <BillModel: Bill: B-2022-0000000016 | In Review>, <BillModel: Bill: B-2022-0000000015 | In Review>, <BillModel: Bill: B-2022-0000000014 | In Review>, <BillModel: Bill: B-2022-0000000013 | Paid>, <BillModel: Bill: B-2023-0000000015 | Draft>, <BillModel: Bill: B-2023-0000000014 | Draft>, <BillModel: Bill: B-2023-0000000013 | In Review>, <BillModel: Bill: B-2022-0000000012 | Approved>, <BillModel: Bill: B-2022-0000000011 | In Review>, <BillModel: Bill: B-2023-0000000012 | Draft>, <BillModel: Bill: B-2022-0000000010 | Paid>, <BillModel: Bill: B-2023-0000000011 | In Review>, <BillModel: Bill: B-2022-0000000009 | Draft>, <BillModel: Bill: B-2022-0000000008 | In Review>, <BillModel: Bill: B-2022-0000000007 | Approved>, <BillModel: Bill: B-2023-0000000010 | Paid>, '...(remaining elements truncated)...']>"
      ]
     },
     "execution_count": 51,
     "metadata": {},
     "output_type": "execute_result"
    }
   ],
   "execution_count": 51
  },
  {
   "cell_type": "markdown",
   "metadata": {},
   "source": [
    "## Create Bill"
   ]
  },
  {
   "cell_type": "code",
   "metadata": {
    "tags": [],
    "ExecuteTime": {
     "end_time": "2025-09-09T17:34:12.243381Z",
     "start_time": "2025-09-09T17:34:12.230828Z"
    }
   },
   "source": [
    "bill_model = entity_model.create_bill(\n",
    "    vendor_model='V-0000000002',\n",
    "    terms=BillModel.TERMS_NET_60\n",
    ")"
   ],
   "outputs": [],
   "execution_count": 52
  },
  {
   "cell_type": "code",
   "metadata": {
    "collapsed": false,
    "jupyter": {
     "outputs_hidden": false
    },
    "ExecuteTime": {
     "end_time": "2025-09-09T17:34:12.254849Z",
     "start_time": "2025-09-09T17:34:12.252589Z"
    }
   },
   "source": [
    "bill_model"
   ],
   "outputs": [
    {
     "data": {
      "text/plain": [
       "<BillModel: Bill: B-2025-0000000001 | Draft>"
      ]
     },
     "execution_count": 53,
     "metadata": {},
     "output_type": "execute_result"
    }
   ],
   "execution_count": 53
  },
  {
   "cell_type": "markdown",
   "metadata": {},
   "source": [
    "## Add Items to Bills"
   ]
  },
  {
   "cell_type": "code",
   "metadata": {
    "tags": [],
    "ExecuteTime": {
     "end_time": "2025-09-09T17:34:12.301969Z",
     "start_time": "2025-09-09T17:34:12.282615Z"
    }
   },
   "source": [
    "bill_item_models = bill_model.get_item_model_qs()\n",
    "\n",
    "K = 6\n",
    "\n",
    "bill_itemtxs = {\n",
    "    im.item_number: {\n",
    "        'unit_cost': round(random() * 10, 2),\n",
    "        'quantity': round(random() * 100, 2),\n",
    "        'total_amount': None\n",
    "    } for im in choices(bill_item_models, k=K)\n",
    "}\n",
    "\n",
    "# Choose operation ITEMIZE_APPEND to append itemtxs...\n",
    "bill_itemtxs = bill_model.migrate_itemtxs(itemtxs=bill_itemtxs,\n",
    "                                          commit=True,\n",
    "                                          operation=BillModel.ITEMIZE_REPLACE)\n",
    "\n",
    "bill_itemtxs"
   ],
   "outputs": [
    {
     "data": {
      "text/plain": [
       "[<ItemTransactionModel: Bill Model: 62f4b6ff-8975-4ed2-a811-b982c3053806 | 591.67>,\n",
       " <ItemTransactionModel: Bill Model: 62f4b6ff-8975-4ed2-a811-b982c3053806 | 241.72>,\n",
       " <ItemTransactionModel: Bill Model: 62f4b6ff-8975-4ed2-a811-b982c3053806 | 109.63>,\n",
       " <ItemTransactionModel: Bill Model: 62f4b6ff-8975-4ed2-a811-b982c3053806 | 248.61>,\n",
       " <ItemTransactionModel: Bill Model: 62f4b6ff-8975-4ed2-a811-b982c3053806 | 355.91>]"
      ]
     },
     "execution_count": 54,
     "metadata": {},
     "output_type": "execute_result"
    }
   ],
   "execution_count": 54
  },
  {
   "cell_type": "code",
   "metadata": {
    "tags": [],
    "ExecuteTime": {
     "end_time": "2025-09-09T17:34:12.318880Z",
     "start_time": "2025-09-09T17:34:12.316569Z"
    }
   },
   "source": [
    "bill_model.amount_due"
   ],
   "outputs": [
    {
     "data": {
      "text/plain": [
       "Decimal('1547.54')"
      ]
     },
     "execution_count": 55,
     "metadata": {},
     "output_type": "execute_result"
    }
   ],
   "execution_count": 55
  },
  {
   "cell_type": "markdown",
   "metadata": {},
   "source": [
    "# Purchase Orders"
   ]
  },
  {
   "cell_type": "markdown",
   "metadata": {},
   "source": [
    "## Get Purchase Orders"
   ]
  },
  {
   "cell_type": "code",
   "metadata": {
    "tags": [],
    "ExecuteTime": {
     "end_time": "2025-09-09T17:34:12.341722Z",
     "start_time": "2025-09-09T17:34:12.336961Z"
    }
   },
   "source": [
    "purchase_orders_qs = entity_model.get_purchase_orders()\n",
    "pd.DataFrame(purchase_orders_qs.values()) if PANDAS_INSTALLED else purchase_orders_qs"
   ],
   "outputs": [
    {
     "data": {
      "text/plain": [
       "<PurchaseOrderModelQuerySet [<PurchaseOrderModel: PO Model: PO-2023-0000000001 | In Review>, <PurchaseOrderModel: PO Model: PO-2022-0000000001 | Draft>, <PurchaseOrderModel: PO Model: PO-2022-0000000002 | Approved>, <PurchaseOrderModel: PO Model: PO-2023-0000000002 | Approved>, <PurchaseOrderModel: PO Model: PO-2022-0000000003 | Approved>, <PurchaseOrderModel: PO Model: PO-2022-0000000004 | Fulfilled>, <PurchaseOrderModel: PO Model: PO-2023-0000000003 | Approved>, <PurchaseOrderModel: PO Model: PO-2022-0000000005 | In Review>, <PurchaseOrderModel: PO Model: PO-2023-0000000004 | Approved>, <PurchaseOrderModel: PO Model: PO-2023-0000000005 | Approved>, <PurchaseOrderModel: PO Model: PO-2022-0000000006 | Draft>, <PurchaseOrderModel: PO Model: PO-2022-0000000007 | Approved>, <PurchaseOrderModel: PO Model: PO-2023-0000000006 | In Review>, <PurchaseOrderModel: PO Model: PO-2022-0000000008 | Draft>, <PurchaseOrderModel: PO Model: PO-2023-0000000007 | In Review>, <PurchaseOrderModel: PO Model: PO-2022-0000000009 | Approved>, <PurchaseOrderModel: PO Model: PO-2023-0000000008 | Approved>, <PurchaseOrderModel: PO Model: PO-2023-0000000009 | Draft>, <PurchaseOrderModel: PO Model: PO-2023-0000000010 | Draft>, <PurchaseOrderModel: PO Model: PO-2022-0000000010 | Approved>, '...(remaining elements truncated)...']>"
      ]
     },
     "execution_count": 56,
     "metadata": {},
     "output_type": "execute_result"
    }
   ],
   "execution_count": 56
  },
  {
   "cell_type": "markdown",
   "metadata": {},
   "source": [
    "## Create Purchase Order"
   ]
  },
  {
   "cell_type": "code",
   "metadata": {
    "tags": [],
    "ExecuteTime": {
     "end_time": "2025-09-09T17:34:12.361078Z",
     "start_time": "2025-09-09T17:34:12.353709Z"
    }
   },
   "source": [
    "po_model = entity_model.create_purchase_order()"
   ],
   "outputs": [],
   "execution_count": 57
  },
  {
   "cell_type": "markdown",
   "metadata": {},
   "source": [
    "## Add Items to Purchase Orders"
   ]
  },
  {
   "cell_type": "code",
   "metadata": {
    "tags": [],
    "ExecuteTime": {
     "end_time": "2025-09-09T17:34:12.382911Z",
     "start_time": "2025-09-09T17:34:12.370075Z"
    }
   },
   "source": [
    "po_item_models = po_model.get_item_model_qs()\n",
    "\n",
    "K = 6\n",
    "\n",
    "po_itemtxs = {\n",
    "    im.item_number: {\n",
    "        'unit_cost': round(random() * 10, 2),\n",
    "        'quantity': round(random() * 100, 2),\n",
    "        'total_amount': None\n",
    "    } for im in choices(po_item_models, k=K)\n",
    "}\n",
    "\n",
    "# Choose operation ITEMIZE_APPEND to append itemtxs...\n",
    "po_itemtxs = po_model.migrate_itemtxs(itemtxs=po_itemtxs,\n",
    "                                      commit=True,\n",
    "                                      operation=EstimateModel.ITEMIZE_REPLACE)\n",
    "\n",
    "po_itemtxs"
   ],
   "outputs": [
    {
     "data": {
      "text/plain": [
       "[<ItemTransactionModel: PO Model: c17659b3-36c4-4a2d-894d-2d9759ea368d | Not Ordered | 88.73>,\n",
       " <ItemTransactionModel: PO Model: c17659b3-36c4-4a2d-894d-2d9759ea368d | Not Ordered | 80.19>,\n",
       " <ItemTransactionModel: PO Model: c17659b3-36c4-4a2d-894d-2d9759ea368d | Not Ordered | 412.49>,\n",
       " <ItemTransactionModel: PO Model: c17659b3-36c4-4a2d-894d-2d9759ea368d | Not Ordered | 131.70>,\n",
       " <ItemTransactionModel: PO Model: c17659b3-36c4-4a2d-894d-2d9759ea368d | Not Ordered | 120.45>,\n",
       " <ItemTransactionModel: PO Model: c17659b3-36c4-4a2d-894d-2d9759ea368d | Not Ordered | 248.15>]"
      ]
     },
     "execution_count": 58,
     "metadata": {},
     "output_type": "execute_result"
    }
   ],
   "execution_count": 58
  },
  {
   "cell_type": "code",
   "metadata": {
    "tags": [],
    "ExecuteTime": {
     "end_time": "2025-09-09T17:34:12.392096Z",
     "start_time": "2025-09-09T17:34:12.390118Z"
    }
   },
   "source": [
    "po_model.po_amount"
   ],
   "outputs": [
    {
     "data": {
      "text/plain": [
       "Decimal('1081.71')"
      ]
     },
     "execution_count": 59,
     "metadata": {},
     "output_type": "execute_result"
    }
   ],
   "execution_count": 59
  },
  {
   "cell_type": "markdown",
   "metadata": {},
   "source": [
    "# Estimates/Contracts"
   ]
  },
  {
   "cell_type": "markdown",
   "metadata": {},
   "source": [
    "## Get Estimates/Contracts"
   ]
  },
  {
   "cell_type": "code",
   "metadata": {
    "tags": [],
    "ExecuteTime": {
     "end_time": "2025-09-09T17:34:12.411180Z",
     "start_time": "2025-09-09T17:34:12.406531Z"
    }
   },
   "source": [
    "estimates_qs = entity_model.get_estimates()\n",
    "pd.DataFrame(estimates_qs.values()) if PANDAS_INSTALLED else estimates_qs"
   ],
   "outputs": [
    {
     "data": {
      "text/plain": [
       "<EstimateModelQuerySet [<EstimateModel: Estimate E-2025-0000000025 | Customer Estimate 2023-01-21 00:00:00+00:00>, <EstimateModel: Estimate E-2025-0000000024 | Customer Estimate 2023-03-01 00:00:00+00:00>, <EstimateModel: Estimate E-2025-0000000023 | Customer Estimate 2022-10-08 00:00:00+00:00>, <EstimateModel: Estimate E-2025-0000000022 | Customer Estimate 2022-10-25 00:00:00+00:00>, <EstimateModel: Estimate E-2025-0000000021 | Customer Estimate 2022-10-25 00:00:00+00:00>, <EstimateModel: Estimate E-2025-0000000020 | Customer Estimate 2022-11-21 00:00:00+00:00>, <EstimateModel: Estimate E-2025-0000000019 | Customer Estimate 2023-02-21 00:00:00+00:00>, <EstimateModel: Contract E-2025-0000000018 | Customer Estimate 2023-03-19 00:00:00+00:00>, <EstimateModel: Estimate E-2025-0000000017 | Customer Estimate 2023-03-13 00:00:00+00:00>, <EstimateModel: Contract E-2025-0000000016 | Customer Estimate 2022-11-07 00:00:00+00:00>, <EstimateModel: Estimate E-2025-0000000015 | Customer Estimate 2023-03-29 00:00:00+00:00>, <EstimateModel: Estimate E-2025-0000000014 | Customer Estimate 2022-12-17 00:00:00+00:00>, <EstimateModel: Estimate E-2025-0000000013 | Customer Estimate 2023-01-04 00:00:00+00:00>, <EstimateModel: Estimate E-2025-0000000012 | Customer Estimate 2022-11-15 00:00:00+00:00>, <EstimateModel: Estimate E-2025-0000000011 | Customer Estimate 2022-10-23 00:00:00+00:00>, <EstimateModel: Estimate E-2025-0000000010 | Customer Estimate 2023-03-22 00:00:00+00:00>, <EstimateModel: Estimate E-2025-0000000009 | Customer Estimate 2023-03-05 00:00:00+00:00>, <EstimateModel: Estimate E-2025-0000000008 | Customer Estimate 2022-10-24 00:00:00+00:00>, <EstimateModel: Estimate E-2025-0000000007 | Customer Estimate 2023-03-04 00:00:00+00:00>, <EstimateModel: Estimate E-2025-0000000006 | Customer Estimate 2022-12-31 00:00:00+00:00>, '...(remaining elements truncated)...']>"
      ]
     },
     "execution_count": 60,
     "metadata": {},
     "output_type": "execute_result"
    }
   ],
   "execution_count": 60
  },
  {
   "cell_type": "markdown",
   "metadata": {},
   "source": [
    "## Create Estimate"
   ]
  },
  {
   "cell_type": "code",
   "metadata": {
    "tags": [],
    "ExecuteTime": {
     "end_time": "2025-09-09T17:34:12.430638Z",
     "start_time": "2025-09-09T17:34:12.424052Z"
    }
   },
   "source": [
    "estimate_model = entity_model.create_estimate(\n",
    "    estimate_title='A quote for new potential customer!',\n",
    "    customer_model='C-0000000009',\n",
    "    contract_terms=EstimateModel.CONTRACT_TERMS_FIXED\n",
    ")"
   ],
   "outputs": [],
   "execution_count": 61
  },
  {
   "cell_type": "markdown",
   "metadata": {},
   "source": [
    "## Add Items to Estimates"
   ]
  },
  {
   "cell_type": "code",
   "metadata": {
    "tags": [],
    "ExecuteTime": {
     "end_time": "2025-09-09T17:34:12.454305Z",
     "start_time": "2025-09-09T17:34:12.440987Z"
    }
   },
   "source": [
    "estimate_item_models = estimate_model.get_item_model_qs()\n",
    "\n",
    "K = 6\n",
    "\n",
    "estimate_itemtxs = {\n",
    "    im.item_number: {\n",
    "        'unit_cost': round(random() * 10, 2),\n",
    "        'unit_revenue': round(random() * 20, 2),\n",
    "        'quantity': round(random() * 100, 2),\n",
    "        'total_amount': None\n",
    "    } for im in choices(estimate_item_models, k=K)\n",
    "}\n",
    "\n",
    "# Choose operation ITEMIZE_APPEND to append itemtxs...\n",
    "estimate_itemtxs = estimate_model.migrate_itemtxs(itemtxs=estimate_itemtxs,\n",
    "                                                  commit=True,\n",
    "                                                  operation=EstimateModel.ITEMIZE_REPLACE)\n",
    "\n",
    "estimate_itemtxs"
   ],
   "outputs": [
    {
     "data": {
      "text/plain": [
       "[<ItemTransactionModel: Estimate/Contract Model: 46a4ae9d-263a-45b3-b4af-68de7493e929 | 121.52>,\n",
       " <ItemTransactionModel: Estimate/Contract Model: 46a4ae9d-263a-45b3-b4af-68de7493e929 | 79.82>,\n",
       " <ItemTransactionModel: Estimate/Contract Model: 46a4ae9d-263a-45b3-b4af-68de7493e929 | 1.15>,\n",
       " <ItemTransactionModel: Estimate/Contract Model: 46a4ae9d-263a-45b3-b4af-68de7493e929 | 322.76>,\n",
       " <ItemTransactionModel: Estimate/Contract Model: 46a4ae9d-263a-45b3-b4af-68de7493e929 | 613.22>,\n",
       " <ItemTransactionModel: Estimate/Contract Model: 46a4ae9d-263a-45b3-b4af-68de7493e929 | 115.60>]"
      ]
     },
     "execution_count": 62,
     "metadata": {},
     "output_type": "execute_result"
    }
   ],
   "execution_count": 62
  },
  {
   "cell_type": "code",
   "metadata": {
    "tags": [],
    "ExecuteTime": {
     "end_time": "2025-09-09T17:34:12.465424Z",
     "start_time": "2025-09-09T17:34:12.463230Z"
    }
   },
   "source": [
    "estimate_model.get_cost_estimate()"
   ],
   "outputs": [
    {
     "data": {
      "text/plain": [
       "Decimal('1254.07')"
      ]
     },
     "execution_count": 63,
     "metadata": {},
     "output_type": "execute_result"
    }
   ],
   "execution_count": 63
  },
  {
   "cell_type": "code",
   "metadata": {
    "tags": [],
    "ExecuteTime": {
     "end_time": "2025-09-09T17:34:12.483441Z",
     "start_time": "2025-09-09T17:34:12.480844Z"
    }
   },
   "source": [
    "estimate_model.get_revenue_estimate()"
   ],
   "outputs": [
    {
     "data": {
      "text/plain": [
       "Decimal('1565.297500000000007869260799')"
      ]
     },
     "execution_count": 64,
     "metadata": {},
     "output_type": "execute_result"
    }
   ],
   "execution_count": 64
  },
  {
   "cell_type": "code",
   "metadata": {
    "tags": [],
    "ExecuteTime": {
     "end_time": "2025-09-09T17:34:12.498488Z",
     "start_time": "2025-09-09T17:34:12.496563Z"
    }
   },
   "source": [
    "estimate_model.get_profit_estimate()"
   ],
   "outputs": [
    {
     "data": {
      "text/plain": [
       "Decimal('311.227500000000007869260799')"
      ]
     },
     "execution_count": 65,
     "metadata": {},
     "output_type": "execute_result"
    }
   ],
   "execution_count": 65
  },
  {
   "cell_type": "code",
   "metadata": {
    "tags": [],
    "ExecuteTime": {
     "end_time": "2025-09-09T17:34:12.512520Z",
     "start_time": "2025-09-09T17:34:12.510205Z"
    }
   },
   "source": [
    "estimate_model.get_gross_margin_estimate(as_percent=True)"
   ],
   "outputs": [
    {
     "data": {
      "text/plain": [
       "24.817394563301896"
      ]
     },
     "execution_count": 66,
     "metadata": {},
     "output_type": "execute_result"
    }
   ],
   "execution_count": 66
  },
  {
   "cell_type": "markdown",
   "metadata": {},
   "source": [
    "# Bank Accounts"
   ]
  },
  {
   "cell_type": "markdown",
   "metadata": {},
   "source": [
    "## Get Bank Accounts"
   ]
  },
  {
   "cell_type": "code",
   "metadata": {
    "ExecuteTime": {
     "end_time": "2025-09-09T17:34:12.530845Z",
     "start_time": "2025-09-09T17:34:12.527077Z"
    }
   },
   "source": [
    "bank_accounts_qs = entity_model.get_bank_accounts()\n",
    "pd.DataFrame(bank_accounts_qs.values()) if PANDAS_INSTALLED else bank_accounts_qs"
   ],
   "outputs": [
    {
     "data": {
      "text/plain": [
       "<BankAccountModelQuerySet [<BankAccountModel: Checking Bank Account: One Big Company, LLC Checking Account>, <BankAccountModel: Savings Bank Account: One Big Company, LLC Savings Account>]>"
      ]
     },
     "execution_count": 67,
     "metadata": {},
     "output_type": "execute_result"
    }
   ],
   "execution_count": 67
  },
  {
   "cell_type": "markdown",
   "metadata": {},
   "source": [
    "## Create Bank Account"
   ]
  },
  {
   "cell_type": "code",
   "metadata": {
    "ExecuteTime": {
     "end_time": "2025-09-09T17:34:12.554882Z",
     "start_time": "2025-09-09T17:34:12.550543Z"
    }
   },
   "source": [
    "bank_account_model = entity_model.create_bank_account(name='A big bank account!',\n",
    "                                                      account_type='checking')"
   ],
   "outputs": [],
   "execution_count": 68
  },
  {
   "cell_type": "markdown",
   "metadata": {},
   "source": [
    "# Items"
   ]
  },
  {
   "cell_type": "markdown",
   "metadata": {},
   "source": [
    "## Unit of Measures"
   ]
  },
  {
   "cell_type": "markdown",
   "metadata": {},
   "source": [
    "### Get Unit of Measures"
   ]
  },
  {
   "cell_type": "code",
   "metadata": {
    "ExecuteTime": {
     "end_time": "2025-09-09T17:34:12.565864Z",
     "start_time": "2025-09-09T17:34:12.562758Z"
    }
   },
   "source": [
    "uom_qs = entity_model.get_uom_all()\n",
    "pd.DataFrame(uom_qs.values()) if PANDAS_INSTALLED else uom_qs"
   ],
   "outputs": [
    {
     "data": {
      "text/plain": [
       "<UnitOfMeasureModelQuerySet [<UnitOfMeasureModel: Pound (lb)>, <UnitOfMeasureModel: Linear Feet (ln-ft)>, <UnitOfMeasureModel: Man Hour (man-hour)>, <UnitOfMeasureModel: Pallet (pallet)>, <UnitOfMeasureModel: Square Fee t (sq-ft)>, <UnitOfMeasureModel: Unit (unit)>]>"
      ]
     },
     "execution_count": 69,
     "metadata": {},
     "output_type": "execute_result"
    }
   ],
   "execution_count": 69
  },
  {
   "cell_type": "markdown",
   "metadata": {},
   "source": [
    "### Create a UOM"
   ]
  },
  {
   "cell_type": "code",
   "metadata": {
    "ExecuteTime": {
     "end_time": "2025-09-09T17:34:12.583211Z",
     "start_time": "2025-09-09T17:34:12.579534Z"
    }
   },
   "source": [
    "uom_model_ft = entity_model.create_uom(\n",
    "    name='Linear Feet',\n",
    "    unit_abbr='lin-ft'\n",
    ")"
   ],
   "outputs": [],
   "execution_count": 70
  },
  {
   "cell_type": "markdown",
   "metadata": {},
   "source": [
    "### Get Some UoMs"
   ]
  },
  {
   "cell_type": "code",
   "metadata": {
    "ExecuteTime": {
     "end_time": "2025-09-09T17:34:12.596653Z",
     "start_time": "2025-09-09T17:34:12.592314Z"
    }
   },
   "source": [
    "uom_model_unit = uom_qs.get(unit_abbr__exact='unit')\n",
    "uom_model_man_hr = uom_qs.get(unit_abbr__exact='man-hour')"
   ],
   "outputs": [],
   "execution_count": 71
  },
  {
   "cell_type": "markdown",
   "metadata": {},
   "source": [
    "## Expenses"
   ]
  },
  {
   "cell_type": "markdown",
   "metadata": {},
   "source": [
    "### Get Expense Items"
   ]
  },
  {
   "cell_type": "code",
   "metadata": {
    "ExecuteTime": {
     "end_time": "2025-09-09T17:34:12.610641Z",
     "start_time": "2025-09-09T17:34:12.604922Z"
    }
   },
   "source": [
    "expenses_qs = entity_model.get_items_expenses()\n",
    "pd.DataFrame(expenses_qs.values()) if PANDAS_INSTALLED else expenses_qs"
   ],
   "outputs": [
    {
     "data": {
      "text/plain": [
       "<ItemModelQuerySet [<ItemModel: Expense: Expense Item 2730 | Equipment>, <ItemModel: Expense: Expense Item 2307 | Material>, <ItemModel: Expense: Expense Item 3752 | Equipment>, <ItemModel: Expense: Expense Item 2014 | Material>, <ItemModel: Expense: Expense Item 3401 | Lump Sum>, <ItemModel: Expense: Expense Item 7428 | Labor>, <ItemModel: Expense: Expense Item 3588 | Labor>, <ItemModel: Expense: Expense Item 7555 | Lump Sum>, <ItemModel: Expense: Expense Item 4180 | Material>, <ItemModel: Expense: Expense Item 1575 | Material>, <ItemModel: Expense: Expense Item 4173 | Equipment>, <ItemModel: Expense: Expense Item 7986 | Equipment>, <ItemModel: Expense: Expense Item 4257 | Material>, <ItemModel: Expense: Expense Item 8859 | Material>, <ItemModel: Expense: Expense Item 3029 | Other>, <ItemModel: Expense: Expense Item 4034 | Material>, <ItemModel: Expense: Expense Item 8195 | Other>, <ItemModel: Expense: Expense Item 2601 | Lump Sum>, <ItemModel: Expense: Expense Item 1334 | Lump Sum>, <ItemModel: Expense: Expense Item 8284 | Material>, '...(remaining elements truncated)...']>"
      ]
     },
     "execution_count": 72,
     "metadata": {},
     "output_type": "execute_result"
    }
   ],
   "execution_count": 72
  },
  {
   "cell_type": "markdown",
   "metadata": {},
   "source": [
    "### Create Expense Item"
   ]
  },
  {
   "cell_type": "code",
   "metadata": {
    "ExecuteTime": {
     "end_time": "2025-09-09T17:34:12.629305Z",
     "start_time": "2025-09-09T17:34:12.621922Z"
    }
   },
   "source": [
    "expense_item_model = entity_model.create_item_expense(\n",
    "    name='Premium Pencils',\n",
    "    uom_model=uom_model_unit,\n",
    "    expense_type=ItemModel.ITEM_TYPE_MATERIAL\n",
    ")"
   ],
   "outputs": [],
   "execution_count": 73
  },
  {
   "cell_type": "code",
   "metadata": {
    "ExecuteTime": {
     "end_time": "2025-09-09T17:34:12.642347Z",
     "start_time": "2025-09-09T17:34:12.640315Z"
    }
   },
   "source": [
    "expense_item_model.is_expense()"
   ],
   "outputs": [
    {
     "data": {
      "text/plain": [
       "True"
      ]
     },
     "execution_count": 74,
     "metadata": {},
     "output_type": "execute_result"
    }
   ],
   "execution_count": 74
  },
  {
   "cell_type": "markdown",
   "metadata": {},
   "source": [
    "## Services"
   ]
  },
  {
   "cell_type": "markdown",
   "metadata": {},
   "source": [
    "### Get Service Items"
   ]
  },
  {
   "cell_type": "code",
   "metadata": {
    "ExecuteTime": {
     "end_time": "2025-09-09T17:34:12.662551Z",
     "start_time": "2025-09-09T17:34:12.656741Z"
    }
   },
   "source": [
    "services_qs = entity_model.get_items_services()\n",
    "pd.DataFrame(services_qs.values()) if PANDAS_INSTALLED else services_qs"
   ],
   "outputs": [
    {
     "data": {
      "text/plain": [
       "<ItemModelQuerySet [<ItemModel: Service: Service #7777 | Labor>, <ItemModel: Service: Service #5722 | Labor>, <ItemModel: Service: Service #8867 | Labor>, <ItemModel: Service: Service #7816 | Labor>, <ItemModel: Service: Service #8998 | Labor>, <ItemModel: Service: Service #7712 | Labor>, <ItemModel: Service: Service #7535 | Labor>, <ItemModel: Service: Service #9844 | Labor>, <ItemModel: Service: Service #4243 | Labor>, <ItemModel: Service: Service #3464 | Labor>, <ItemModel: Service: Service #5665 | Labor>, <ItemModel: Service: Service #3873 | Labor>, <ItemModel: Service: Service #4163 | Labor>, <ItemModel: Service: Service #2979 | Labor>, <ItemModel: Service: Service #6268 | Labor>, <ItemModel: Service: Service #7352 | Labor>, <ItemModel: Service: Service #6987 | Labor>, <ItemModel: Service: Service #7061 | Labor>, <ItemModel: Service: Service #4886 | Labor>, <ItemModel: Service: Service #9026 | Labor>, '...(remaining elements truncated)...']>"
      ]
     },
     "execution_count": 75,
     "metadata": {},
     "output_type": "execute_result"
    }
   ],
   "execution_count": 75
  },
  {
   "cell_type": "markdown",
   "metadata": {},
   "source": [
    "### Create Service Item"
   ]
  },
  {
   "cell_type": "code",
   "metadata": {
    "ExecuteTime": {
     "end_time": "2025-09-09T17:34:12.680773Z",
     "start_time": "2025-09-09T17:34:12.672010Z"
    }
   },
   "source": [
    "service_model = entity_model.create_item_service(\n",
    "    name='Yoga Class',\n",
    "    uom_model=uom_model_man_hr\n",
    ")"
   ],
   "outputs": [],
   "execution_count": 76
  },
  {
   "cell_type": "code",
   "metadata": {
    "ExecuteTime": {
     "end_time": "2025-09-09T17:34:12.692695Z",
     "start_time": "2025-09-09T17:34:12.690717Z"
    }
   },
   "source": [
    "service_model.is_service()"
   ],
   "outputs": [
    {
     "data": {
      "text/plain": [
       "True"
      ]
     },
     "execution_count": 77,
     "metadata": {},
     "output_type": "execute_result"
    }
   ],
   "execution_count": 77
  },
  {
   "cell_type": "markdown",
   "metadata": {},
   "source": [
    "## Products"
   ]
  },
  {
   "cell_type": "markdown",
   "metadata": {},
   "source": [
    "### Get Product Items"
   ]
  },
  {
   "cell_type": "code",
   "metadata": {
    "ExecuteTime": {
     "end_time": "2025-09-09T17:34:12.711347Z",
     "start_time": "2025-09-09T17:34:12.705649Z"
    }
   },
   "source": [
    "products_qs = entity_model.get_items_products()\n",
    "pd.DataFrame(products_qs.values()) if PANDAS_INSTALLED else products_qs"
   ],
   "outputs": [
    {
     "data": {
      "text/plain": [
       "<ItemModelQuerySet [<ItemModel: Product: Product #3237>, <ItemModel: Product: Product #6044>, <ItemModel: Product: Product #8888>, <ItemModel: Product: Product #7050>, <ItemModel: Product: Product #6920>, <ItemModel: Product: Product #6418>, <ItemModel: Product: Product #2290>, <ItemModel: Product: Product #1736>, <ItemModel: Product: Product #7452>, <ItemModel: Product: Product #4772>, <ItemModel: Product: Product #3127>, <ItemModel: Product: Product #3228>, <ItemModel: Product: Product #3228>, <ItemModel: Product: Product #9034>, <ItemModel: Product: Product #3234>, <ItemModel: Product: Product #5255>, <ItemModel: Product: Product #6762>, <ItemModel: Product: Product #7904>, <ItemModel: Product: Product #7365>, <ItemModel: Product: Product #8815>, '...(remaining elements truncated)...']>"
      ]
     },
     "execution_count": 78,
     "metadata": {},
     "output_type": "execute_result"
    }
   ],
   "execution_count": 78
  },
  {
   "cell_type": "markdown",
   "metadata": {},
   "source": [
    "### Create Product Items"
   ]
  },
  {
   "cell_type": "code",
   "metadata": {
    "ExecuteTime": {
     "end_time": "2025-09-09T17:34:12.731447Z",
     "start_time": "2025-09-09T17:34:12.720614Z"
    }
   },
   "source": [
    "product_model = entity_model.create_item_product(\n",
    "    name='1/2\" Premium PVC Pipe',\n",
    "    uom_model=uom_model_ft,\n",
    "    item_type=ItemModel.ITEM_TYPE_MATERIAL\n",
    ")"
   ],
   "outputs": [],
   "execution_count": 79
  },
  {
   "cell_type": "code",
   "metadata": {
    "ExecuteTime": {
     "end_time": "2025-09-09T17:34:12.742249Z",
     "start_time": "2025-09-09T17:34:12.740227Z"
    }
   },
   "source": [
    "product_model.is_product()"
   ],
   "outputs": [
    {
     "data": {
      "text/plain": [
       "True"
      ]
     },
     "execution_count": 80,
     "metadata": {},
     "output_type": "execute_result"
    }
   ],
   "execution_count": 80
  },
  {
   "cell_type": "markdown",
   "metadata": {},
   "source": [
    "## Inventory"
   ]
  },
  {
   "cell_type": "markdown",
   "metadata": {},
   "source": [
    "### Get Inventory Items"
   ]
  },
  {
   "cell_type": "code",
   "metadata": {
    "ExecuteTime": {
     "end_time": "2025-09-09T17:34:12.761533Z",
     "start_time": "2025-09-09T17:34:12.755884Z"
    }
   },
   "source": [
    "inventory_qs = entity_model.get_items_inventory()\n",
    "pd.DataFrame(inventory_qs.values()) if PANDAS_INSTALLED else inventory_qs"
   ],
   "outputs": [
    {
     "data": {
      "text/plain": [
       "<ItemModelQuerySet [<ItemModel: Product: Product #3237>, <ItemModel: Product: Product #6044>, <ItemModel: Product: Product #8888>, <ItemModel: Product: Product #7050>, <ItemModel: Product: Product #6920>, <ItemModel: Product: Product #6418>, <ItemModel: Product: Product #2290>, <ItemModel: Product: Product #1736>, <ItemModel: Product: Product #7452>, <ItemModel: Product: Product #4772>, <ItemModel: Product: Product #3127>, <ItemModel: Product: Product #3228>, <ItemModel: Product: Product #3228>, <ItemModel: Product: Product #9034>, <ItemModel: Product: Product #3234>, <ItemModel: Product: Product #5255>, <ItemModel: Product: Product #6762>, <ItemModel: Product: Product #7904>, <ItemModel: Product: Product #7365>, <ItemModel: Product: Product #8815>, '...(remaining elements truncated)...']>"
      ]
     },
     "execution_count": 81,
     "metadata": {},
     "output_type": "execute_result"
    }
   ],
   "execution_count": 81
  },
  {
   "cell_type": "markdown",
   "metadata": {},
   "source": [
    "### Create Inventory Items"
   ]
  },
  {
   "cell_type": "code",
   "metadata": {
    "ExecuteTime": {
     "end_time": "2025-09-09T17:34:12.776851Z",
     "start_time": "2025-09-09T17:34:12.769452Z"
    }
   },
   "source": [
    "inventory_model = entity_model.create_item_inventory(\n",
    "    name='A Home to Flip!',\n",
    "    uom_model=uom_model_unit,\n",
    "    item_type=ItemModel.ITEM_TYPE_LUMP_SUM\n",
    ")"
   ],
   "outputs": [],
   "execution_count": 82
  },
  {
   "cell_type": "code",
   "metadata": {
    "ExecuteTime": {
     "end_time": "2025-09-09T17:34:12.787Z",
     "start_time": "2025-09-09T17:34:12.784994Z"
    }
   },
   "source": [
    "inventory_model.is_inventory()"
   ],
   "outputs": [
    {
     "data": {
      "text/plain": [
       "True"
      ]
     },
     "execution_count": 83,
     "metadata": {},
     "output_type": "execute_result"
    }
   ],
   "execution_count": 83
  },
  {
   "cell_type": "markdown",
   "metadata": {},
   "source": [
    "# Financial Statement PDF Reports"
   ]
  },
  {
   "cell_type": "markdown",
   "metadata": {},
   "source": [
    "## Set Up\n",
    "- Must enable PDF support by installing dependencies via *pipenv*.\n",
    "    - pipenv install --categories pdf"
   ]
  },
  {
   "cell_type": "markdown",
   "metadata": {},
   "source": [
    "## Balance Sheet"
   ]
  },
  {
   "cell_type": "code",
   "metadata": {
    "ExecuteTime": {
     "end_time": "2025-09-09T17:34:12.922385Z",
     "start_time": "2025-09-09T17:34:12.798556Z"
    }
   },
   "source": [
    "bs_report = entity_model.get_balance_sheet_statement(\n",
    "    to_date=date(2022, 12, 31),\n",
    "    save_pdf=True,\n",
    "    filepath='./'\n",
    ")\n",
    "# save_pdf=True saves the PDF report in the project's BASE_DIR.\n",
    "# filename and filepath may also be specified...\n",
    "# will raise not implemented error if PDF support is not enabled..."
   ],
   "outputs": [],
   "execution_count": 84
  },
  {
   "cell_type": "markdown",
   "metadata": {},
   "source": [
    "### Balance Sheet Statement Raw Data"
   ]
  },
  {
   "cell_type": "code",
   "metadata": {
    "ExecuteTime": {
     "end_time": "2025-09-09T17:34:12.933841Z",
     "start_time": "2025-09-09T17:34:12.930904Z"
    }
   },
   "source": [
    "bs_report.get_report_data()"
   ],
   "outputs": [
    {
     "data": {
      "text/plain": [
       "{'assets': {'total_balance': Decimal('50125.080000000000'),\n",
       "  'is_block': True,\n",
       "  'roles': {'asset_ca_cash': {'accounts': [{'account_uuid': UUID('ceca82da-05a2-4f09-8033-e1da9508e111'),\n",
       "      'coa_slug': 'coa-9adzs-a7sjgs81fkl9sm4',\n",
       "      'unit_uuid': None,\n",
       "      'unit_name': None,\n",
       "      'activity': None,\n",
       "      'period_year': None,\n",
       "      'period_month': None,\n",
       "      'role_bs': 'assets',\n",
       "      'role': 'asset_ca_cash',\n",
       "      'code': '1010',\n",
       "      'name': 'Cash',\n",
       "      'balance_type': 'debit',\n",
       "      'tx_type': None,\n",
       "      'balance': Decimal('49810.32000000000'),\n",
       "      'balance_abs': Decimal('49810.32000000000')}],\n",
       "    'total_balance': Decimal('49810.32000000000'),\n",
       "    'role_name': 'Current Asset'},\n",
       "   'asset_ca_recv': {'accounts': [{'account_uuid': UUID('d58be633-4976-4292-b550-f1a686ab4da2'),\n",
       "      'coa_slug': 'coa-9adzs-a7sjgs81fkl9sm4',\n",
       "      'unit_uuid': None,\n",
       "      'unit_name': None,\n",
       "      'activity': None,\n",
       "      'period_year': None,\n",
       "      'period_month': None,\n",
       "      'role_bs': 'assets',\n",
       "      'role': 'asset_ca_recv',\n",
       "      'code': '1100',\n",
       "      'name': 'Accounts Receivable',\n",
       "      'balance_type': 'debit',\n",
       "      'tx_type': None,\n",
       "      'balance': Decimal('711.250000000000'),\n",
       "      'balance_abs': Decimal('711.250000000000')}],\n",
       "    'total_balance': Decimal('711.250000000000'),\n",
       "    'role_name': 'Receivables'},\n",
       "   'asset_ca_inv': {'accounts': [{'account_uuid': UUID('213e4ae3-2603-4957-ac28-4596dff79716'),\n",
       "      'coa_slug': 'coa-9adzs-a7sjgs81fkl9sm4',\n",
       "      'unit_uuid': None,\n",
       "      'unit_name': None,\n",
       "      'activity': None,\n",
       "      'period_year': None,\n",
       "      'period_month': None,\n",
       "      'role_bs': 'assets',\n",
       "      'role': 'asset_ca_inv',\n",
       "      'code': '1200',\n",
       "      'name': 'Inventory',\n",
       "      'balance_type': 'debit',\n",
       "      'tx_type': None,\n",
       "      'balance': Decimal('-396.490000000000'),\n",
       "      'balance_abs': Decimal('396.490000000000')}],\n",
       "    'total_balance': Decimal('-396.490000000000'),\n",
       "    'role_name': 'Inventory'}}},\n",
       " 'liabilities': {'total_balance': Decimal('6262.54000000000'),\n",
       "  'is_block': True,\n",
       "  'roles': {'lia_cl_acc_payable': {'accounts': [{'account_uuid': UUID('f4c82dae-b4d9-4d69-8238-7e7076dc1637'),\n",
       "      'coa_slug': 'coa-9adzs-a7sjgs81fkl9sm4',\n",
       "      'unit_uuid': None,\n",
       "      'unit_name': None,\n",
       "      'activity': None,\n",
       "      'period_year': None,\n",
       "      'period_month': None,\n",
       "      'role_bs': 'liabilities',\n",
       "      'role': 'lia_cl_acc_payable',\n",
       "      'code': '2010',\n",
       "      'name': 'Accounts Payable',\n",
       "      'balance_type': 'credit',\n",
       "      'tx_type': None,\n",
       "      'balance': Decimal('6262.54000000000'),\n",
       "      'balance_abs': Decimal('6262.54000000000')}],\n",
       "    'total_balance': Decimal('6262.54000000000'),\n",
       "    'role_name': 'Accounts Payable'}}},\n",
       " 'equity': {'total_balance': Decimal('50000'),\n",
       "  'is_block': True,\n",
       "  'roles': {'eq_capital': {'accounts': [{'account_uuid': UUID('db82dcc1-74bb-4dfc-a96f-6e9a17844187'),\n",
       "      'coa_slug': 'coa-9adzs-a7sjgs81fkl9sm4',\n",
       "      'unit_uuid': None,\n",
       "      'unit_name': None,\n",
       "      'activity': None,\n",
       "      'period_year': None,\n",
       "      'period_month': None,\n",
       "      'role_bs': 'equity',\n",
       "      'role': 'eq_capital',\n",
       "      'code': '3010',\n",
       "      'name': 'Capital Account 1',\n",
       "      'balance_type': 'credit',\n",
       "      'tx_type': None,\n",
       "      'balance': Decimal('50000'),\n",
       "      'balance_abs': Decimal('50000')}],\n",
       "    'total_balance': Decimal('50000'),\n",
       "    'role_name': 'Capital'}}},\n",
       " 'equity_balance': Decimal('43862.54000000000000'),\n",
       " 'retained_earnings_balance': Decimal('-6137.46000000000000'),\n",
       " 'liabilities_equity_balance': Decimal('50125.08000000000000')}"
      ]
     },
     "execution_count": 85,
     "metadata": {},
     "output_type": "execute_result"
    }
   ],
   "execution_count": 85
  },
  {
   "cell_type": "markdown",
   "metadata": {},
   "source": [
    "## Income Statement"
   ]
  },
  {
   "cell_type": "code",
   "metadata": {
    "ExecuteTime": {
     "end_time": "2025-09-09T17:34:12.965169Z",
     "start_time": "2025-09-09T17:34:12.953243Z"
    }
   },
   "source": [
    "ic_report = entity_model.get_income_statement(\n",
    "    from_date=date(2022, 1, 1),\n",
    "    to_date=date(2022, 12, 31),\n",
    "    save_pdf=True,\n",
    "    filepath='./'\n",
    ")\n",
    "# save_pdf=True saves the PDF report in the project's BASE_DIR.\n",
    "# filename and filepath may also be specified...\n",
    "# will raise not implemented error if PDF support is not enabled..."
   ],
   "outputs": [],
   "execution_count": 86
  },
  {
   "cell_type": "markdown",
   "metadata": {},
   "source": [
    "### Income Statement Raw Data"
   ]
  },
  {
   "cell_type": "code",
   "metadata": {
    "scrolled": true,
    "ExecuteTime": {
     "end_time": "2025-09-09T17:34:12.977889Z",
     "start_time": "2025-09-09T17:34:12.973631Z"
    }
   },
   "source": [
    "ic_report.get_report_data()"
   ],
   "outputs": [
    {
     "data": {
      "text/plain": [
       "{'operating': {'revenues': [{'account_uuid': UUID('13d064e4-365c-46aa-b480-2a4c8f5a79ae'),\n",
       "    'coa_slug': 'coa-9adzs-a7sjgs81fkl9sm4',\n",
       "    'unit_uuid': None,\n",
       "    'unit_name': None,\n",
       "    'activity': None,\n",
       "    'period_year': None,\n",
       "    'period_month': None,\n",
       "    'role_bs': 'equity',\n",
       "    'role': 'in_operational',\n",
       "    'code': '4010',\n",
       "    'name': 'Sales Income',\n",
       "    'balance_type': 'credit',\n",
       "    'tx_type': None,\n",
       "    'balance': Decimal('1543.03000000000'),\n",
       "    'balance_abs': Decimal('1543.03000000000'),\n",
       "    'role_name': 'Operational Income'}],\n",
       "  'cogs': [{'account_uuid': UUID('c6705d64-4c39-483c-9be8-9dd989a9db0e'),\n",
       "    'coa_slug': 'coa-9adzs-a7sjgs81fkl9sm4',\n",
       "    'unit_uuid': None,\n",
       "    'unit_name': None,\n",
       "    'activity': None,\n",
       "    'period_year': None,\n",
       "    'period_month': None,\n",
       "    'role_bs': 'equity',\n",
       "    'role': 'cogs_regular',\n",
       "    'code': '5010',\n",
       "    'name': 'Cost of Goods Sold',\n",
       "    'balance_type': 'debit',\n",
       "    'tx_type': None,\n",
       "    'balance': Decimal('-396.490000000000'),\n",
       "    'balance_abs': Decimal('396.490000000000'),\n",
       "    'role_name': 'Cost of Goods Sold'}],\n",
       "  'expenses': [{'account_uuid': UUID('00a74c7b-789f-4b9d-a9c2-b29c3794afb8'),\n",
       "    'coa_slug': 'coa-9adzs-a7sjgs81fkl9sm4',\n",
       "    'unit_uuid': None,\n",
       "    'unit_name': None,\n",
       "    'activity': None,\n",
       "    'period_year': None,\n",
       "    'period_month': None,\n",
       "    'role_bs': 'equity',\n",
       "    'role': 'ex_regular',\n",
       "    'code': '6060',\n",
       "    'name': 'Commission Expense',\n",
       "    'balance_type': 'debit',\n",
       "    'tx_type': None,\n",
       "    'balance': Decimal('-43.9400000000000'),\n",
       "    'balance_abs': Decimal('43.9400000000000'),\n",
       "    'role_name': 'Regular Expense'},\n",
       "   {'account_uuid': UUID('03aa5a52-0ef1-4df4-9838-8875f837d9b5'),\n",
       "    'coa_slug': 'coa-9adzs-a7sjgs81fkl9sm4',\n",
       "    'unit_uuid': None,\n",
       "    'unit_name': None,\n",
       "    'activity': None,\n",
       "    'period_year': None,\n",
       "    'period_month': None,\n",
       "    'role_bs': 'equity',\n",
       "    'role': 'ex_regular',\n",
       "    'code': '6255',\n",
       "    'name': 'Lawn Care',\n",
       "    'balance_type': 'debit',\n",
       "    'tx_type': None,\n",
       "    'balance': Decimal('-955.660000000000'),\n",
       "    'balance_abs': Decimal('955.660000000000'),\n",
       "    'role_name': 'Regular Expense'},\n",
       "   {'account_uuid': UUID('09a1464d-ba1f-465b-a0be-806cb339ff32'),\n",
       "    'coa_slug': 'coa-9adzs-a7sjgs81fkl9sm4',\n",
       "    'unit_uuid': None,\n",
       "    'unit_name': None,\n",
       "    'activity': None,\n",
       "    'period_year': None,\n",
       "    'period_month': None,\n",
       "    'role_bs': 'equity',\n",
       "    'role': 'ex_regular',\n",
       "    'code': '6251',\n",
       "    'name': 'Maintenance',\n",
       "    'balance_type': 'debit',\n",
       "    'tx_type': None,\n",
       "    'balance': Decimal('-59.6900000000000'),\n",
       "    'balance_abs': Decimal('59.6900000000000'),\n",
       "    'role_name': 'Regular Expense'},\n",
       "   {'account_uuid': UUID('2a6b0708-1336-4688-a0fc-2100798331da'),\n",
       "    'coa_slug': 'coa-9adzs-a7sjgs81fkl9sm4',\n",
       "    'unit_uuid': None,\n",
       "    'unit_name': None,\n",
       "    'activity': None,\n",
       "    'period_year': None,\n",
       "    'period_month': None,\n",
       "    'role_bs': 'equity',\n",
       "    'role': 'ex_regular',\n",
       "    'code': '6254',\n",
       "    'name': 'Snow Removal',\n",
       "    'balance_type': 'debit',\n",
       "    'tx_type': None,\n",
       "    'balance': Decimal('-134.510000000000'),\n",
       "    'balance_abs': Decimal('134.510000000000'),\n",
       "    'role_name': 'Regular Expense'},\n",
       "   {'account_uuid': UUID('34e5a28c-84a7-468f-91bf-bb1597eb27e6'),\n",
       "    'coa_slug': 'coa-9adzs-a7sjgs81fkl9sm4',\n",
       "    'unit_uuid': None,\n",
       "    'unit_name': None,\n",
       "    'activity': None,\n",
       "    'period_year': None,\n",
       "    'period_month': None,\n",
       "    'role_bs': 'equity',\n",
       "    'role': 'ex_regular',\n",
       "    'code': '6190',\n",
       "    'name': 'Office Expense',\n",
       "    'balance_type': 'debit',\n",
       "    'tx_type': None,\n",
       "    'balance': Decimal('-50.1400000000000'),\n",
       "    'balance_abs': Decimal('50.1400000000000'),\n",
       "    'role_name': 'Regular Expense'},\n",
       "   {'account_uuid': UUID('73398f84-ae4b-48fd-9f30-a70654a2b9b6'),\n",
       "    'coa_slug': 'coa-9adzs-a7sjgs81fkl9sm4',\n",
       "    'unit_uuid': None,\n",
       "    'unit_name': None,\n",
       "    'activity': None,\n",
       "    'period_year': None,\n",
       "    'period_month': None,\n",
       "    'role_bs': 'equity',\n",
       "    'role': 'ex_regular',\n",
       "    'code': '6260',\n",
       "    'name': 'Salaries',\n",
       "    'balance_type': 'debit',\n",
       "    'tx_type': None,\n",
       "    'balance': Decimal('-1035.57000000000'),\n",
       "    'balance_abs': Decimal('1035.57000000000'),\n",
       "    'role_name': 'Regular Expense'},\n",
       "   {'account_uuid': UUID('75e27a98-e90b-41b3-9ed3-6f1714b1c349'),\n",
       "    'coa_slug': 'coa-9adzs-a7sjgs81fkl9sm4',\n",
       "    'unit_uuid': None,\n",
       "    'unit_name': None,\n",
       "    'activity': None,\n",
       "    'period_year': None,\n",
       "    'period_month': None,\n",
       "    'role_bs': 'equity',\n",
       "    'role': 'ex_regular',\n",
       "    'code': '6081',\n",
       "    'name': 'Employee Wages',\n",
       "    'balance_type': 'debit',\n",
       "    'tx_type': None,\n",
       "    'balance': Decimal('-254.820000000000'),\n",
       "    'balance_abs': Decimal('254.820000000000'),\n",
       "    'role_name': 'Regular Expense'},\n",
       "   {'account_uuid': UUID('7c99e75e-af8e-48ef-8bbd-39443d30c931'),\n",
       "    'coa_slug': 'coa-9adzs-a7sjgs81fkl9sm4',\n",
       "    'unit_uuid': None,\n",
       "    'unit_name': None,\n",
       "    'activity': None,\n",
       "    'period_year': None,\n",
       "    'period_month': None,\n",
       "    'role_bs': 'equity',\n",
       "    'role': 'ex_regular',\n",
       "    'code': '6140',\n",
       "    'name': 'Professional Fees',\n",
       "    'balance_type': 'debit',\n",
       "    'tx_type': None,\n",
       "    'balance': Decimal('-6.76000000000000'),\n",
       "    'balance_abs': Decimal('6.76000000000000'),\n",
       "    'role_name': 'Regular Expense'},\n",
       "   {'account_uuid': UUID('99fffe18-ae92-4a6a-92ff-565019ca8930'),\n",
       "    'coa_slug': 'coa-9adzs-a7sjgs81fkl9sm4',\n",
       "    'unit_uuid': None,\n",
       "    'unit_name': None,\n",
       "    'activity': None,\n",
       "    'period_year': None,\n",
       "    'period_month': None,\n",
       "    'role_bs': 'equity',\n",
       "    'role': 'ex_regular',\n",
       "    'code': '6080',\n",
       "    'name': 'Employee Benefits',\n",
       "    'balance_type': 'debit',\n",
       "    'tx_type': None,\n",
       "    'balance': Decimal('-1471.61000000000'),\n",
       "    'balance_abs': Decimal('1471.61000000000'),\n",
       "    'role_name': 'Regular Expense'},\n",
       "   {'account_uuid': UUID('a3e07d69-84b7-4c7a-87e7-e602d0aa5c50'),\n",
       "    'coa_slug': 'coa-9adzs-a7sjgs81fkl9sm4',\n",
       "    'unit_uuid': None,\n",
       "    'unit_name': None,\n",
       "    'activity': None,\n",
       "    'period_year': None,\n",
       "    'period_month': None,\n",
       "    'role_bs': 'equity',\n",
       "    'role': 'ex_regular',\n",
       "    'code': '6294',\n",
       "    'name': 'Garbage',\n",
       "    'balance_type': 'debit',\n",
       "    'tx_type': None,\n",
       "    'balance': Decimal('-338.720000000000'),\n",
       "    'balance_abs': Decimal('338.720000000000'),\n",
       "    'role_name': 'Regular Expense'},\n",
       "   {'account_uuid': UUID('a7a2999f-65de-4223-b550-fd62077631f1'),\n",
       "    'coa_slug': 'coa-9adzs-a7sjgs81fkl9sm4',\n",
       "    'unit_uuid': None,\n",
       "    'unit_name': None,\n",
       "    'activity': None,\n",
       "    'period_year': None,\n",
       "    'period_month': None,\n",
       "    'role_bs': 'equity',\n",
       "    'role': 'ex_regular',\n",
       "    'code': '6220',\n",
       "    'name': 'Printing',\n",
       "    'balance_type': 'debit',\n",
       "    'tx_type': None,\n",
       "    'balance': Decimal('-129.360000000000'),\n",
       "    'balance_abs': Decimal('129.360000000000'),\n",
       "    'role_name': 'Regular Expense'},\n",
       "   {'account_uuid': UUID('b5745296-2c0d-4ccd-8260-0f909e53b640'),\n",
       "    'coa_slug': 'coa-9adzs-a7sjgs81fkl9sm4',\n",
       "    'unit_uuid': None,\n",
       "    'unit_name': None,\n",
       "    'activity': None,\n",
       "    'period_year': None,\n",
       "    'period_month': None,\n",
       "    'role_bs': 'equity',\n",
       "    'role': 'ex_regular',\n",
       "    'code': '6292',\n",
       "    'name': 'Sewer',\n",
       "    'balance_type': 'debit',\n",
       "    'tx_type': None,\n",
       "    'balance': Decimal('-156.780000000000'),\n",
       "    'balance_abs': Decimal('156.780000000000'),\n",
       "    'role_name': 'Regular Expense'},\n",
       "   {'account_uuid': UUID('d476ac8d-d769-4501-bf1e-9bbcb63f7512'),\n",
       "    'coa_slug': 'coa-9adzs-a7sjgs81fkl9sm4',\n",
       "    'unit_uuid': None,\n",
       "    'unit_name': None,\n",
       "    'activity': None,\n",
       "    'period_year': None,\n",
       "    'period_month': None,\n",
       "    'role_bs': 'equity',\n",
       "    'role': 'ex_regular',\n",
       "    'code': '6150',\n",
       "    'name': 'License Expense',\n",
       "    'balance_type': 'debit',\n",
       "    'tx_type': None,\n",
       "    'balance': Decimal('-859.620000000000'),\n",
       "    'balance_abs': Decimal('859.620000000000'),\n",
       "    'role_name': 'Regular Expense'},\n",
       "   {'account_uuid': UUID('e0192c4e-50a1-4964-8cf1-f25436235e28'),\n",
       "    'coa_slug': 'coa-9adzs-a7sjgs81fkl9sm4',\n",
       "    'unit_uuid': None,\n",
       "    'unit_name': None,\n",
       "    'activity': None,\n",
       "    'period_year': None,\n",
       "    'period_month': None,\n",
       "    'role_bs': 'equity',\n",
       "    'role': 'ex_regular',\n",
       "    'code': '6170',\n",
       "    'name': 'Maintenance Expense',\n",
       "    'balance_type': 'debit',\n",
       "    'tx_type': None,\n",
       "    'balance': Decimal('-1306.98000000000'),\n",
       "    'balance_abs': Decimal('1306.98000000000'),\n",
       "    'role_name': 'Regular Expense'},\n",
       "   {'account_uuid': UUID('e03dcda2-83fc-4563-81a9-03cbf13e28fd'),\n",
       "    'coa_slug': 'coa-9adzs-a7sjgs81fkl9sm4',\n",
       "    'unit_uuid': None,\n",
       "    'unit_name': None,\n",
       "    'activity': None,\n",
       "    'period_year': None,\n",
       "    'period_month': None,\n",
       "    'role_bs': 'equity',\n",
       "    'role': 'ex_regular',\n",
       "    'code': '6400',\n",
       "    'name': 'Vacancy',\n",
       "    'balance_type': 'debit',\n",
       "    'tx_type': None,\n",
       "    'balance': Decimal('-209.620000000000'),\n",
       "    'balance_abs': Decimal('209.620000000000'),\n",
       "    'role_name': 'Regular Expense'},\n",
       "   {'account_uuid': UUID('ff13fdec-95cb-4ab8-894c-347f791afab4'),\n",
       "    'coa_slug': 'coa-9adzs-a7sjgs81fkl9sm4',\n",
       "    'unit_uuid': None,\n",
       "    'unit_name': None,\n",
       "    'activity': None,\n",
       "    'period_year': None,\n",
       "    'period_month': None,\n",
       "    'role_bs': 'equity',\n",
       "    'role': 'ex_regular',\n",
       "    'code': '6110',\n",
       "    'name': 'Gifts',\n",
       "    'balance_type': 'debit',\n",
       "    'tx_type': None,\n",
       "    'balance': Decimal('-270.220000000000'),\n",
       "    'balance_abs': Decimal('270.220000000000'),\n",
       "    'role_name': 'Regular Expense'}],\n",
       "  'gross_profit': Decimal('1146.540000000000'),\n",
       "  'net_operating_income': Decimal('-6137.46000000000000'),\n",
       "  'net_operating_revenue': Decimal('1543.03000000000'),\n",
       "  'net_cogs': Decimal('-396.490000000000'),\n",
       "  'net_operating_expenses': Decimal('-7284.00000000000000')},\n",
       " 'other': {'revenues': [],\n",
       "  'expenses': [],\n",
       "  'net_other_revenues': 0,\n",
       "  'net_other_expenses': 0,\n",
       "  'net_other_income': 0},\n",
       " 'net_income': Decimal('-6137.46000000000000')}"
      ]
     },
     "execution_count": 87,
     "metadata": {},
     "output_type": "execute_result"
    }
   ],
   "execution_count": 87
  },
  {
   "cell_type": "markdown",
   "metadata": {},
   "source": [
    "## Cash Flow Statement"
   ]
  },
  {
   "cell_type": "code",
   "metadata": {
    "ExecuteTime": {
     "end_time": "2025-09-09T17:34:13.001275Z",
     "start_time": "2025-09-09T17:34:12.988690Z"
    }
   },
   "source": [
    "cf_report = entity_model.get_cash_flow_statement(\n",
    "    from_date=date(2022, 1, 1),\n",
    "    to_date=date(2022, 12, 31),\n",
    "    save_pdf=True,\n",
    "    filepath='./'\n",
    ")\n",
    "# save_pdf=True saves the PDF report in the project's BASE_DIR.\n",
    "# filename and filepath may also be specified..."
   ],
   "outputs": [],
   "execution_count": 88
  },
  {
   "cell_type": "markdown",
   "metadata": {},
   "source": [
    "### Cash Flow Statement Raw Data"
   ]
  },
  {
   "cell_type": "code",
   "metadata": {
    "ExecuteTime": {
     "end_time": "2025-09-09T17:34:13.014792Z",
     "start_time": "2025-09-09T17:34:13.012172Z"
    }
   },
   "source": [
    "cf_report.get_report_data()"
   ],
   "outputs": [
    {
     "data": {
      "text/plain": [
       "{'operating': {'GROUP_CFS_NET_INCOME': {'description': 'Net Income',\n",
       "   'balance': Decimal('-6137.46000000000000')},\n",
       "  'GROUP_CFS_OP_DEPRECIATION_AMORTIZATION': {'description': 'Depreciation & Amortization of Assets',\n",
       "   'balance': 0},\n",
       "  'GROUP_CFS_OP_INVESTMENT_GAINS': {'description': 'Gain/Loss Sale of Assets',\n",
       "   'balance': 0},\n",
       "  'GROUP_CFS_OP_ACCOUNTS_RECEIVABLE': {'description': 'Accounts Receivable',\n",
       "   'balance': Decimal('-711.250000000000')},\n",
       "  'GROUP_CFS_OP_INVENTORY': {'description': 'Inventories',\n",
       "   'balance': Decimal('396.490000000000')},\n",
       "  'GROUP_CFS_OP_ACCOUNTS_PAYABLE': {'description': 'Accounts Payable',\n",
       "   'balance': Decimal('6262.54000000000')},\n",
       "  'GROUP_CFS_OP_OTHER_CURRENT_ASSETS_ADJUSTMENT': {'description': 'Other Current Assets',\n",
       "   'balance': 0},\n",
       "  'GROUP_CFS_OP_OTHER_CURRENT_LIABILITIES_ADJUSTMENT': {'description': 'Other Current Liabilities',\n",
       "   'balance': 0}},\n",
       " 'net_cash_by_activity': {'OPERATING': Decimal('-189.68000000000000'),\n",
       "  'FINANCING': Decimal('48978.54000000000'),\n",
       "  'INVESTING': 0},\n",
       " 'financing': {'GROUP_CFS_FIN_ISSUING_EQUITY': {'description': 'Common Stock, Preferred Stock and Capital Raised',\n",
       "   'balance': Decimal('50000')},\n",
       "  'GROUP_CFS_FIN_DIVIDENDS': {'description': 'Dividends Payed Out to Shareholders',\n",
       "   'balance': 0},\n",
       "  'GROUP_CFS_FIN_ST_DEBT_PAYMENTS': {'description': 'Increase/Reduction of Short-Term Debt Principal',\n",
       "   'balance': Decimal('-1021.46000000000')},\n",
       "  'GROUP_CFS_FIN_LT_DEBT_PAYMENTS': {'description': 'Increase/Reduction of Long-Term Debt Principal',\n",
       "   'balance': 0}},\n",
       " 'investing': {'GROUP_CFS_INVESTING_SECURITIES': {'description': 'Purchase, Maturity and Sales of Investments & Securities',\n",
       "   'balance': 0},\n",
       "  'GROUP_CFS_INVESTING_PPE': {'description': 'Addition and Disposition of Property, Plant & Equipment',\n",
       "   'balance': 0}},\n",
       " 'net_income': Decimal('-6137.46000000000000'),\n",
       " 'net_cash': Decimal('48788.86000000000000')}"
      ]
     },
     "execution_count": 89,
     "metadata": {},
     "output_type": "execute_result"
    }
   ],
   "execution_count": 89
  },
  {
   "cell_type": "markdown",
   "metadata": {},
   "source": [
    "## All Financial Statements Data in a single Call"
   ]
  },
  {
   "cell_type": "code",
   "metadata": {
    "ExecuteTime": {
     "end_time": "2025-09-09T17:34:13.049867Z",
     "start_time": "2025-09-09T17:34:13.027810Z"
    }
   },
   "source": [
    "reports = entity_model.get_financial_statements(\n",
    "    user_model=user_model,\n",
    "    from_date=date(2022, 1, 1),\n",
    "    to_date=date(2022, 12, 31),\n",
    "    save_pdf=True,\n",
    "    filepath='./'\n",
    ")\n",
    "# save_pdf=True saves the PDF report in the project's BASE_DIR.\n",
    "# filename and filepath may also be specified..."
   ],
   "outputs": [
    {
     "name": "stdout",
     "output_type": "stream",
     "text": [
      "/Users/elarroba/PycharmProjects/django-ledger/notebooks\n"
     ]
    }
   ],
   "execution_count": 90
  },
  {
   "cell_type": "code",
   "metadata": {
    "ExecuteTime": {
     "end_time": "2025-09-09T17:34:13.059455Z",
     "start_time": "2025-09-09T17:34:13.056211Z"
    }
   },
   "source": [
    "reports.balance_sheet_statement.get_report_data()"
   ],
   "outputs": [
    {
     "data": {
      "text/plain": [
       "{'assets': {'total_balance': Decimal('50125.080000000000'),\n",
       "  'is_block': True,\n",
       "  'roles': {'asset_ca_cash': {'accounts': [{'account_uuid': UUID('ceca82da-05a2-4f09-8033-e1da9508e111'),\n",
       "      'coa_slug': 'coa-9adzs-a7sjgs81fkl9sm4',\n",
       "      'unit_uuid': None,\n",
       "      'unit_name': None,\n",
       "      'activity': 'fin_equity',\n",
       "      'period_year': None,\n",
       "      'period_month': None,\n",
       "      'role_bs': 'assets',\n",
       "      'role': 'asset_ca_cash',\n",
       "      'code': '1010',\n",
       "      'name': 'Cash',\n",
       "      'balance_type': 'debit',\n",
       "      'tx_type': None,\n",
       "      'balance': Decimal('50000'),\n",
       "      'balance_abs': Decimal('50000')},\n",
       "     {'account_uuid': UUID('ceca82da-05a2-4f09-8033-e1da9508e111'),\n",
       "      'coa_slug': 'coa-9adzs-a7sjgs81fkl9sm4',\n",
       "      'unit_uuid': None,\n",
       "      'unit_name': None,\n",
       "      'activity': 'fin_std',\n",
       "      'period_year': None,\n",
       "      'period_month': None,\n",
       "      'role_bs': 'assets',\n",
       "      'role': 'asset_ca_cash',\n",
       "      'code': '1010',\n",
       "      'name': 'Cash',\n",
       "      'balance_type': 'debit',\n",
       "      'tx_type': None,\n",
       "      'balance': Decimal('-1021.46000000000'),\n",
       "      'balance_abs': Decimal('1021.46000000000')},\n",
       "     {'account_uuid': UUID('ceca82da-05a2-4f09-8033-e1da9508e111'),\n",
       "      'coa_slug': 'coa-9adzs-a7sjgs81fkl9sm4',\n",
       "      'unit_uuid': None,\n",
       "      'unit_name': None,\n",
       "      'activity': 'op',\n",
       "      'period_year': None,\n",
       "      'period_month': None,\n",
       "      'role_bs': 'assets',\n",
       "      'role': 'asset_ca_cash',\n",
       "      'code': '1010',\n",
       "      'name': 'Cash',\n",
       "      'balance_type': 'debit',\n",
       "      'tx_type': None,\n",
       "      'balance': Decimal('831.780000000000'),\n",
       "      'balance_abs': Decimal('831.780000000000')}],\n",
       "    'total_balance': Decimal('49810.320000000000'),\n",
       "    'role_name': 'Current Asset'},\n",
       "   'asset_ca_recv': {'accounts': [{'account_uuid': UUID('d58be633-4976-4292-b550-f1a686ab4da2'),\n",
       "      'coa_slug': 'coa-9adzs-a7sjgs81fkl9sm4',\n",
       "      'unit_uuid': None,\n",
       "      'unit_name': None,\n",
       "      'activity': None,\n",
       "      'period_year': None,\n",
       "      'period_month': None,\n",
       "      'role_bs': 'assets',\n",
       "      'role': 'asset_ca_recv',\n",
       "      'code': '1100',\n",
       "      'name': 'Accounts Receivable',\n",
       "      'balance_type': 'debit',\n",
       "      'tx_type': None,\n",
       "      'balance': Decimal('1543.03000000000'),\n",
       "      'balance_abs': Decimal('1543.03000000000')},\n",
       "     {'account_uuid': UUID('d58be633-4976-4292-b550-f1a686ab4da2'),\n",
       "      'coa_slug': 'coa-9adzs-a7sjgs81fkl9sm4',\n",
       "      'unit_uuid': None,\n",
       "      'unit_name': None,\n",
       "      'activity': 'op',\n",
       "      'period_year': None,\n",
       "      'period_month': None,\n",
       "      'role_bs': 'assets',\n",
       "      'role': 'asset_ca_recv',\n",
       "      'code': '1100',\n",
       "      'name': 'Accounts Receivable',\n",
       "      'balance_type': 'debit',\n",
       "      'tx_type': None,\n",
       "      'balance': Decimal('-831.780000000000'),\n",
       "      'balance_abs': Decimal('831.780000000000')}],\n",
       "    'total_balance': Decimal('711.250000000000'),\n",
       "    'role_name': 'Receivables'},\n",
       "   'asset_ca_inv': {'accounts': [{'account_uuid': UUID('213e4ae3-2603-4957-ac28-4596dff79716'),\n",
       "      'coa_slug': 'coa-9adzs-a7sjgs81fkl9sm4',\n",
       "      'unit_uuid': None,\n",
       "      'unit_name': None,\n",
       "      'activity': None,\n",
       "      'period_year': None,\n",
       "      'period_month': None,\n",
       "      'role_bs': 'assets',\n",
       "      'role': 'asset_ca_inv',\n",
       "      'code': '1200',\n",
       "      'name': 'Inventory',\n",
       "      'balance_type': 'debit',\n",
       "      'tx_type': None,\n",
       "      'balance': Decimal('-396.490000000000'),\n",
       "      'balance_abs': Decimal('396.490000000000')}],\n",
       "    'total_balance': Decimal('-396.490000000000'),\n",
       "    'role_name': 'Inventory'}}},\n",
       " 'liabilities': {'total_balance': Decimal('6262.54000000000'),\n",
       "  'is_block': True,\n",
       "  'roles': {'lia_cl_acc_payable': {'accounts': [{'account_uuid': UUID('f4c82dae-b4d9-4d69-8238-7e7076dc1637'),\n",
       "      'coa_slug': 'coa-9adzs-a7sjgs81fkl9sm4',\n",
       "      'unit_uuid': None,\n",
       "      'unit_name': None,\n",
       "      'activity': None,\n",
       "      'period_year': None,\n",
       "      'period_month': None,\n",
       "      'role_bs': 'liabilities',\n",
       "      'role': 'lia_cl_acc_payable',\n",
       "      'code': '2010',\n",
       "      'name': 'Accounts Payable',\n",
       "      'balance_type': 'credit',\n",
       "      'tx_type': None,\n",
       "      'balance': Decimal('7284'),\n",
       "      'balance_abs': Decimal('7284')},\n",
       "     {'account_uuid': UUID('f4c82dae-b4d9-4d69-8238-7e7076dc1637'),\n",
       "      'coa_slug': 'coa-9adzs-a7sjgs81fkl9sm4',\n",
       "      'unit_uuid': None,\n",
       "      'unit_name': None,\n",
       "      'activity': 'fin_std',\n",
       "      'period_year': None,\n",
       "      'period_month': None,\n",
       "      'role_bs': 'liabilities',\n",
       "      'role': 'lia_cl_acc_payable',\n",
       "      'code': '2010',\n",
       "      'name': 'Accounts Payable',\n",
       "      'balance_type': 'credit',\n",
       "      'tx_type': None,\n",
       "      'balance': Decimal('-1021.46000000000'),\n",
       "      'balance_abs': Decimal('1021.46000000000')}],\n",
       "    'total_balance': Decimal('6262.54000000000'),\n",
       "    'role_name': 'Accounts Payable'}}},\n",
       " 'equity': {'total_balance': Decimal('50000'),\n",
       "  'is_block': True,\n",
       "  'roles': {'eq_capital': {'accounts': [{'account_uuid': UUID('db82dcc1-74bb-4dfc-a96f-6e9a17844187'),\n",
       "      'coa_slug': 'coa-9adzs-a7sjgs81fkl9sm4',\n",
       "      'unit_uuid': None,\n",
       "      'unit_name': None,\n",
       "      'activity': 'fin_equity',\n",
       "      'period_year': None,\n",
       "      'period_month': None,\n",
       "      'role_bs': 'equity',\n",
       "      'role': 'eq_capital',\n",
       "      'code': '3010',\n",
       "      'name': 'Capital Account 1',\n",
       "      'balance_type': 'credit',\n",
       "      'tx_type': None,\n",
       "      'balance': Decimal('50000'),\n",
       "      'balance_abs': Decimal('50000')}],\n",
       "    'total_balance': Decimal('50000'),\n",
       "    'role_name': 'Capital'}}},\n",
       " 'equity_balance': Decimal('43862.54000000000000'),\n",
       " 'retained_earnings_balance': Decimal('-6137.46000000000000'),\n",
       " 'liabilities_equity_balance': Decimal('50125.08000000000000')}"
      ]
     },
     "execution_count": 91,
     "metadata": {},
     "output_type": "execute_result"
    }
   ],
   "execution_count": 91
  },
  {
   "cell_type": "code",
   "metadata": {
    "ExecuteTime": {
     "end_time": "2025-09-09T17:34:13.074936Z",
     "start_time": "2025-09-09T17:34:13.070626Z"
    }
   },
   "source": [
    "reports.income_statement.get_report_data()"
   ],
   "outputs": [
    {
     "data": {
      "text/plain": [
       "{'operating': {'revenues': [{'account_uuid': UUID('13d064e4-365c-46aa-b480-2a4c8f5a79ae'),\n",
       "    'coa_slug': 'coa-9adzs-a7sjgs81fkl9sm4',\n",
       "    'unit_uuid': None,\n",
       "    'unit_name': None,\n",
       "    'activity': None,\n",
       "    'period_year': None,\n",
       "    'period_month': None,\n",
       "    'role_bs': 'equity',\n",
       "    'role': 'in_operational',\n",
       "    'code': '4010',\n",
       "    'name': 'Sales Income',\n",
       "    'balance_type': 'credit',\n",
       "    'tx_type': None,\n",
       "    'balance': Decimal('1543.03000000000'),\n",
       "    'balance_abs': Decimal('1543.03000000000'),\n",
       "    'role_name': 'Operational Income'}],\n",
       "  'cogs': [{'account_uuid': UUID('c6705d64-4c39-483c-9be8-9dd989a9db0e'),\n",
       "    'coa_slug': 'coa-9adzs-a7sjgs81fkl9sm4',\n",
       "    'unit_uuid': None,\n",
       "    'unit_name': None,\n",
       "    'activity': None,\n",
       "    'period_year': None,\n",
       "    'period_month': None,\n",
       "    'role_bs': 'equity',\n",
       "    'role': 'cogs_regular',\n",
       "    'code': '5010',\n",
       "    'name': 'Cost of Goods Sold',\n",
       "    'balance_type': 'debit',\n",
       "    'tx_type': None,\n",
       "    'balance': Decimal('-396.490000000000'),\n",
       "    'balance_abs': Decimal('396.490000000000'),\n",
       "    'role_name': 'Cost of Goods Sold'}],\n",
       "  'expenses': [{'account_uuid': UUID('00a74c7b-789f-4b9d-a9c2-b29c3794afb8'),\n",
       "    'coa_slug': 'coa-9adzs-a7sjgs81fkl9sm4',\n",
       "    'unit_uuid': None,\n",
       "    'unit_name': None,\n",
       "    'activity': None,\n",
       "    'period_year': None,\n",
       "    'period_month': None,\n",
       "    'role_bs': 'equity',\n",
       "    'role': 'ex_regular',\n",
       "    'code': '6060',\n",
       "    'name': 'Commission Expense',\n",
       "    'balance_type': 'debit',\n",
       "    'tx_type': None,\n",
       "    'balance': Decimal('-43.9400000000000'),\n",
       "    'balance_abs': Decimal('43.9400000000000'),\n",
       "    'role_name': 'Regular Expense'},\n",
       "   {'account_uuid': UUID('03aa5a52-0ef1-4df4-9838-8875f837d9b5'),\n",
       "    'coa_slug': 'coa-9adzs-a7sjgs81fkl9sm4',\n",
       "    'unit_uuid': None,\n",
       "    'unit_name': None,\n",
       "    'activity': None,\n",
       "    'period_year': None,\n",
       "    'period_month': None,\n",
       "    'role_bs': 'equity',\n",
       "    'role': 'ex_regular',\n",
       "    'code': '6255',\n",
       "    'name': 'Lawn Care',\n",
       "    'balance_type': 'debit',\n",
       "    'tx_type': None,\n",
       "    'balance': Decimal('-955.660000000000'),\n",
       "    'balance_abs': Decimal('955.660000000000'),\n",
       "    'role_name': 'Regular Expense'},\n",
       "   {'account_uuid': UUID('09a1464d-ba1f-465b-a0be-806cb339ff32'),\n",
       "    'coa_slug': 'coa-9adzs-a7sjgs81fkl9sm4',\n",
       "    'unit_uuid': None,\n",
       "    'unit_name': None,\n",
       "    'activity': None,\n",
       "    'period_year': None,\n",
       "    'period_month': None,\n",
       "    'role_bs': 'equity',\n",
       "    'role': 'ex_regular',\n",
       "    'code': '6251',\n",
       "    'name': 'Maintenance',\n",
       "    'balance_type': 'debit',\n",
       "    'tx_type': None,\n",
       "    'balance': Decimal('-59.6900000000000'),\n",
       "    'balance_abs': Decimal('59.6900000000000'),\n",
       "    'role_name': 'Regular Expense'},\n",
       "   {'account_uuid': UUID('2a6b0708-1336-4688-a0fc-2100798331da'),\n",
       "    'coa_slug': 'coa-9adzs-a7sjgs81fkl9sm4',\n",
       "    'unit_uuid': None,\n",
       "    'unit_name': None,\n",
       "    'activity': None,\n",
       "    'period_year': None,\n",
       "    'period_month': None,\n",
       "    'role_bs': 'equity',\n",
       "    'role': 'ex_regular',\n",
       "    'code': '6254',\n",
       "    'name': 'Snow Removal',\n",
       "    'balance_type': 'debit',\n",
       "    'tx_type': None,\n",
       "    'balance': Decimal('-134.510000000000'),\n",
       "    'balance_abs': Decimal('134.510000000000'),\n",
       "    'role_name': 'Regular Expense'},\n",
       "   {'account_uuid': UUID('34e5a28c-84a7-468f-91bf-bb1597eb27e6'),\n",
       "    'coa_slug': 'coa-9adzs-a7sjgs81fkl9sm4',\n",
       "    'unit_uuid': None,\n",
       "    'unit_name': None,\n",
       "    'activity': None,\n",
       "    'period_year': None,\n",
       "    'period_month': None,\n",
       "    'role_bs': 'equity',\n",
       "    'role': 'ex_regular',\n",
       "    'code': '6190',\n",
       "    'name': 'Office Expense',\n",
       "    'balance_type': 'debit',\n",
       "    'tx_type': None,\n",
       "    'balance': Decimal('-50.1400000000000'),\n",
       "    'balance_abs': Decimal('50.1400000000000'),\n",
       "    'role_name': 'Regular Expense'},\n",
       "   {'account_uuid': UUID('73398f84-ae4b-48fd-9f30-a70654a2b9b6'),\n",
       "    'coa_slug': 'coa-9adzs-a7sjgs81fkl9sm4',\n",
       "    'unit_uuid': None,\n",
       "    'unit_name': None,\n",
       "    'activity': None,\n",
       "    'period_year': None,\n",
       "    'period_month': None,\n",
       "    'role_bs': 'equity',\n",
       "    'role': 'ex_regular',\n",
       "    'code': '6260',\n",
       "    'name': 'Salaries',\n",
       "    'balance_type': 'debit',\n",
       "    'tx_type': None,\n",
       "    'balance': Decimal('-1035.57000000000'),\n",
       "    'balance_abs': Decimal('1035.57000000000'),\n",
       "    'role_name': 'Regular Expense'},\n",
       "   {'account_uuid': UUID('75e27a98-e90b-41b3-9ed3-6f1714b1c349'),\n",
       "    'coa_slug': 'coa-9adzs-a7sjgs81fkl9sm4',\n",
       "    'unit_uuid': None,\n",
       "    'unit_name': None,\n",
       "    'activity': None,\n",
       "    'period_year': None,\n",
       "    'period_month': None,\n",
       "    'role_bs': 'equity',\n",
       "    'role': 'ex_regular',\n",
       "    'code': '6081',\n",
       "    'name': 'Employee Wages',\n",
       "    'balance_type': 'debit',\n",
       "    'tx_type': None,\n",
       "    'balance': Decimal('-254.820000000000'),\n",
       "    'balance_abs': Decimal('254.820000000000'),\n",
       "    'role_name': 'Regular Expense'},\n",
       "   {'account_uuid': UUID('7c99e75e-af8e-48ef-8bbd-39443d30c931'),\n",
       "    'coa_slug': 'coa-9adzs-a7sjgs81fkl9sm4',\n",
       "    'unit_uuid': None,\n",
       "    'unit_name': None,\n",
       "    'activity': None,\n",
       "    'period_year': None,\n",
       "    'period_month': None,\n",
       "    'role_bs': 'equity',\n",
       "    'role': 'ex_regular',\n",
       "    'code': '6140',\n",
       "    'name': 'Professional Fees',\n",
       "    'balance_type': 'debit',\n",
       "    'tx_type': None,\n",
       "    'balance': Decimal('-6.76000000000000'),\n",
       "    'balance_abs': Decimal('6.76000000000000'),\n",
       "    'role_name': 'Regular Expense'},\n",
       "   {'account_uuid': UUID('99fffe18-ae92-4a6a-92ff-565019ca8930'),\n",
       "    'coa_slug': 'coa-9adzs-a7sjgs81fkl9sm4',\n",
       "    'unit_uuid': None,\n",
       "    'unit_name': None,\n",
       "    'activity': None,\n",
       "    'period_year': None,\n",
       "    'period_month': None,\n",
       "    'role_bs': 'equity',\n",
       "    'role': 'ex_regular',\n",
       "    'code': '6080',\n",
       "    'name': 'Employee Benefits',\n",
       "    'balance_type': 'debit',\n",
       "    'tx_type': None,\n",
       "    'balance': Decimal('-1471.61000000000'),\n",
       "    'balance_abs': Decimal('1471.61000000000'),\n",
       "    'role_name': 'Regular Expense'},\n",
       "   {'account_uuid': UUID('a3e07d69-84b7-4c7a-87e7-e602d0aa5c50'),\n",
       "    'coa_slug': 'coa-9adzs-a7sjgs81fkl9sm4',\n",
       "    'unit_uuid': None,\n",
       "    'unit_name': None,\n",
       "    'activity': None,\n",
       "    'period_year': None,\n",
       "    'period_month': None,\n",
       "    'role_bs': 'equity',\n",
       "    'role': 'ex_regular',\n",
       "    'code': '6294',\n",
       "    'name': 'Garbage',\n",
       "    'balance_type': 'debit',\n",
       "    'tx_type': None,\n",
       "    'balance': Decimal('-338.720000000000'),\n",
       "    'balance_abs': Decimal('338.720000000000'),\n",
       "    'role_name': 'Regular Expense'},\n",
       "   {'account_uuid': UUID('a7a2999f-65de-4223-b550-fd62077631f1'),\n",
       "    'coa_slug': 'coa-9adzs-a7sjgs81fkl9sm4',\n",
       "    'unit_uuid': None,\n",
       "    'unit_name': None,\n",
       "    'activity': None,\n",
       "    'period_year': None,\n",
       "    'period_month': None,\n",
       "    'role_bs': 'equity',\n",
       "    'role': 'ex_regular',\n",
       "    'code': '6220',\n",
       "    'name': 'Printing',\n",
       "    'balance_type': 'debit',\n",
       "    'tx_type': None,\n",
       "    'balance': Decimal('-129.360000000000'),\n",
       "    'balance_abs': Decimal('129.360000000000'),\n",
       "    'role_name': 'Regular Expense'},\n",
       "   {'account_uuid': UUID('b5745296-2c0d-4ccd-8260-0f909e53b640'),\n",
       "    'coa_slug': 'coa-9adzs-a7sjgs81fkl9sm4',\n",
       "    'unit_uuid': None,\n",
       "    'unit_name': None,\n",
       "    'activity': None,\n",
       "    'period_year': None,\n",
       "    'period_month': None,\n",
       "    'role_bs': 'equity',\n",
       "    'role': 'ex_regular',\n",
       "    'code': '6292',\n",
       "    'name': 'Sewer',\n",
       "    'balance_type': 'debit',\n",
       "    'tx_type': None,\n",
       "    'balance': Decimal('-156.780000000000'),\n",
       "    'balance_abs': Decimal('156.780000000000'),\n",
       "    'role_name': 'Regular Expense'},\n",
       "   {'account_uuid': UUID('d476ac8d-d769-4501-bf1e-9bbcb63f7512'),\n",
       "    'coa_slug': 'coa-9adzs-a7sjgs81fkl9sm4',\n",
       "    'unit_uuid': None,\n",
       "    'unit_name': None,\n",
       "    'activity': None,\n",
       "    'period_year': None,\n",
       "    'period_month': None,\n",
       "    'role_bs': 'equity',\n",
       "    'role': 'ex_regular',\n",
       "    'code': '6150',\n",
       "    'name': 'License Expense',\n",
       "    'balance_type': 'debit',\n",
       "    'tx_type': None,\n",
       "    'balance': Decimal('-859.620000000000'),\n",
       "    'balance_abs': Decimal('859.620000000000'),\n",
       "    'role_name': 'Regular Expense'},\n",
       "   {'account_uuid': UUID('e0192c4e-50a1-4964-8cf1-f25436235e28'),\n",
       "    'coa_slug': 'coa-9adzs-a7sjgs81fkl9sm4',\n",
       "    'unit_uuid': None,\n",
       "    'unit_name': None,\n",
       "    'activity': None,\n",
       "    'period_year': None,\n",
       "    'period_month': None,\n",
       "    'role_bs': 'equity',\n",
       "    'role': 'ex_regular',\n",
       "    'code': '6170',\n",
       "    'name': 'Maintenance Expense',\n",
       "    'balance_type': 'debit',\n",
       "    'tx_type': None,\n",
       "    'balance': Decimal('-1306.98000000000'),\n",
       "    'balance_abs': Decimal('1306.98000000000'),\n",
       "    'role_name': 'Regular Expense'},\n",
       "   {'account_uuid': UUID('e03dcda2-83fc-4563-81a9-03cbf13e28fd'),\n",
       "    'coa_slug': 'coa-9adzs-a7sjgs81fkl9sm4',\n",
       "    'unit_uuid': None,\n",
       "    'unit_name': None,\n",
       "    'activity': None,\n",
       "    'period_year': None,\n",
       "    'period_month': None,\n",
       "    'role_bs': 'equity',\n",
       "    'role': 'ex_regular',\n",
       "    'code': '6400',\n",
       "    'name': 'Vacancy',\n",
       "    'balance_type': 'debit',\n",
       "    'tx_type': None,\n",
       "    'balance': Decimal('-209.620000000000'),\n",
       "    'balance_abs': Decimal('209.620000000000'),\n",
       "    'role_name': 'Regular Expense'},\n",
       "   {'account_uuid': UUID('ff13fdec-95cb-4ab8-894c-347f791afab4'),\n",
       "    'coa_slug': 'coa-9adzs-a7sjgs81fkl9sm4',\n",
       "    'unit_uuid': None,\n",
       "    'unit_name': None,\n",
       "    'activity': None,\n",
       "    'period_year': None,\n",
       "    'period_month': None,\n",
       "    'role_bs': 'equity',\n",
       "    'role': 'ex_regular',\n",
       "    'code': '6110',\n",
       "    'name': 'Gifts',\n",
       "    'balance_type': 'debit',\n",
       "    'tx_type': None,\n",
       "    'balance': Decimal('-270.220000000000'),\n",
       "    'balance_abs': Decimal('270.220000000000'),\n",
       "    'role_name': 'Regular Expense'}],\n",
       "  'gross_profit': Decimal('1146.540000000000'),\n",
       "  'net_operating_income': Decimal('-6137.46000000000000'),\n",
       "  'net_operating_revenue': Decimal('1543.03000000000'),\n",
       "  'net_cogs': Decimal('-396.490000000000'),\n",
       "  'net_operating_expenses': Decimal('-7284.00000000000000')},\n",
       " 'other': {'revenues': [],\n",
       "  'expenses': [],\n",
       "  'net_other_revenues': 0,\n",
       "  'net_other_expenses': 0,\n",
       "  'net_other_income': 0},\n",
       " 'net_income': Decimal('-6137.46000000000000')}"
      ]
     },
     "execution_count": 92,
     "metadata": {},
     "output_type": "execute_result"
    }
   ],
   "execution_count": 92
  },
  {
   "cell_type": "code",
   "metadata": {
    "ExecuteTime": {
     "end_time": "2025-09-09T17:34:13.087686Z",
     "start_time": "2025-09-09T17:34:13.085135Z"
    }
   },
   "source": [
    "reports.cash_flow_statement.get_report_data()"
   ],
   "outputs": [
    {
     "data": {
      "text/plain": [
       "{'operating': {'GROUP_CFS_NET_INCOME': {'description': 'Net Income',\n",
       "   'balance': Decimal('-6137.46000000000000')},\n",
       "  'GROUP_CFS_OP_DEPRECIATION_AMORTIZATION': {'description': 'Depreciation & Amortization of Assets',\n",
       "   'balance': 0},\n",
       "  'GROUP_CFS_OP_INVESTMENT_GAINS': {'description': 'Gain/Loss Sale of Assets',\n",
       "   'balance': 0},\n",
       "  'GROUP_CFS_OP_ACCOUNTS_RECEIVABLE': {'description': 'Accounts Receivable',\n",
       "   'balance': Decimal('-711.250000000000')},\n",
       "  'GROUP_CFS_OP_INVENTORY': {'description': 'Inventories',\n",
       "   'balance': Decimal('396.490000000000')},\n",
       "  'GROUP_CFS_OP_ACCOUNTS_PAYABLE': {'description': 'Accounts Payable',\n",
       "   'balance': Decimal('6262.54000000000')},\n",
       "  'GROUP_CFS_OP_OTHER_CURRENT_ASSETS_ADJUSTMENT': {'description': 'Other Current Assets',\n",
       "   'balance': 0},\n",
       "  'GROUP_CFS_OP_OTHER_CURRENT_LIABILITIES_ADJUSTMENT': {'description': 'Other Current Liabilities',\n",
       "   'balance': 0}},\n",
       " 'net_cash_by_activity': {'OPERATING': Decimal('-189.68000000000000'),\n",
       "  'FINANCING': Decimal('48978.54000000000'),\n",
       "  'INVESTING': 0},\n",
       " 'financing': {'GROUP_CFS_FIN_ISSUING_EQUITY': {'description': 'Common Stock, Preferred Stock and Capital Raised',\n",
       "   'balance': Decimal('50000')},\n",
       "  'GROUP_CFS_FIN_DIVIDENDS': {'description': 'Dividends Payed Out to Shareholders',\n",
       "   'balance': 0},\n",
       "  'GROUP_CFS_FIN_ST_DEBT_PAYMENTS': {'description': 'Increase/Reduction of Short-Term Debt Principal',\n",
       "   'balance': Decimal('-1021.46000000000')},\n",
       "  'GROUP_CFS_FIN_LT_DEBT_PAYMENTS': {'description': 'Increase/Reduction of Long-Term Debt Principal',\n",
       "   'balance': 0}},\n",
       " 'investing': {'GROUP_CFS_INVESTING_SECURITIES': {'description': 'Purchase, Maturity and Sales of Investments & Securities',\n",
       "   'balance': 0},\n",
       "  'GROUP_CFS_INVESTING_PPE': {'description': 'Addition and Disposition of Property, Plant & Equipment',\n",
       "   'balance': 0}},\n",
       " 'net_income': Decimal('-6137.46000000000000'),\n",
       " 'net_cash': Decimal('48788.86000000000000')}"
      ]
     },
     "execution_count": 93,
     "metadata": {},
     "output_type": "execute_result"
    }
   ],
   "execution_count": 93
  }
 ],
 "metadata": {
  "kernelspec": {
   "display_name": "Python 3 (ipykernel)",
   "language": "python",
   "name": "python3"
  },
  "language_info": {
   "codemirror_mode": {
    "name": "ipython",
    "version": 3
   },
   "file_extension": ".py",
   "mimetype": "text/x-python",
   "name": "python",
   "nbconvert_exporter": "python",
   "pygments_lexer": "ipython3",
   "version": "3.12.7"
  }
 },
 "nbformat": 4,
 "nbformat_minor": 4
}
