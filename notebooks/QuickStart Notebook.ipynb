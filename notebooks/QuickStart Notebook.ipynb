{
 "cells": [
  {
   "cell_type": "code",
   "execution_count": null,
   "metadata": {
    "is_executing": true
   },
   "outputs": [],
   "source": [
    "import os\n",
    "from datetime import date, datetime\n",
    "from random import randint\n",
    "\n",
    "import django\n",
    "\n",
    "# for easier visualization it is recommended to use pandas to render data...\n",
    "# if pandas is not installed, you may install it with this command: pip install -U pandas\n",
    "# pandas is not a dependecy of django_ledger...\n",
    "import pandas as pd\n",
    "\n",
    "# Set your django settings module if needed...\n",
    "os.environ['DJANGO_SETTINGS_MODULE'] = 'dev_env.settings'\n",
    "\n",
    "# if using jupyter notebook need to set DJANGO_ALLOW_ASYNC_UNSAFE as \"true\"\n",
    "os.environ['DJANGO_ALLOW_ASYNC_UNSAFE'] = 'true'\n",
    "\n",
    "# change your working directory as needed...\n",
    "os.chdir('../')\n",
    "\n",
    "django.setup()\n",
    "\n",
    "from django_ledger.models.entity import EntityModel\n",
    "from django_ledger.models.items import ItemModel\n",
    "from django_ledger.models.invoice import InvoiceModel\n",
    "from django_ledger.models.bill import BillModel\n",
    "from django_ledger.models.estimate import EstimateModel\n",
    "from django.contrib.auth import get_user_model\n",
    "from django_ledger.io import roles"
   ]
  },
  {
   "cell_type": "markdown",
   "metadata": {},
   "source": [
    "# Get Your Entity Administrator UserModel"
   ]
  },
  {
   "cell_type": "code",
   "execution_count": null,
   "metadata": {
    "ExecuteTime": {
     "end_time": "2023-05-02T12:25:51.456598352Z",
     "start_time": "2023-05-02T12:25:51.447664279Z"
    }
   },
   "outputs": [],
   "source": [
    "# change this to your preferred django username...\n",
    "MY_USERNAME = 'elarroba'\n",
    "UserModel = get_user_model()\n",
    "user_model = UserModel.objects.get(username__exact=MY_USERNAME)"
   ]
  },
  {
   "cell_type": "markdown",
   "metadata": {},
   "source": [
    "# Create an Entity Model"
   ]
  },
  {
   "cell_type": "code",
   "execution_count": null,
   "metadata": {
    "ExecuteTime": {
     "end_time": "2023-05-02T12:25:52.456383236Z",
     "start_time": "2023-05-02T12:25:52.433795957Z"
    }
   },
   "outputs": [],
   "source": [
    "entity_model = EntityModel(\n",
    "    name='One Big Company, LLC',\n",
    "    admin=user_model,\n",
    ")\n",
    "entity_model.clean()\n",
    "entity_model = EntityModel.add_root(instance=entity_model)"
   ]
  },
  {
   "cell_type": "markdown",
   "metadata": {},
   "source": [
    "# Chart of Accounts"
   ]
  },
  {
   "cell_type": "markdown",
   "metadata": {},
   "source": [
    "## Create a Default Chart of Accounts"
   ]
  },
  {
   "cell_type": "code",
   "execution_count": null,
   "metadata": {
    "ExecuteTime": {
     "end_time": "2023-05-02T12:25:55.034942055Z",
     "start_time": "2023-05-02T12:25:55.032364115Z"
    }
   },
   "outputs": [],
   "source": [
    "entity_model.has_default_coa()"
   ]
  },
  {
   "cell_type": "code",
   "execution_count": null,
   "metadata": {
    "ExecuteTime": {
     "end_time": "2023-05-02T12:25:55.592227653Z",
     "start_time": "2023-05-02T12:25:55.540012210Z"
    }
   },
   "outputs": [],
   "source": [
    "default_coa_model = entity_model.create_chart_of_accounts(\n",
    "    assign_as_default=True, \n",
    "    commit=True, \n",
    "    coa_name='My QuickStart CoA')"
   ]
  },
  {
   "cell_type": "code",
   "execution_count": null,
   "metadata": {
    "ExecuteTime": {
     "end_time": "2023-05-02T12:25:56.272229803Z",
     "start_time": "2023-05-02T12:25:56.265634611Z"
    }
   },
   "outputs": [],
   "source": [
    "default_coa_model"
   ]
  },
  {
   "cell_type": "markdown",
   "metadata": {},
   "source": [
    "# Populate Entity with Random Data"
   ]
  },
  {
   "cell_type": "markdown",
   "metadata": {},
   "source": [
    "### Define a Start Date for Transactions"
   ]
  },
  {
   "cell_type": "code",
   "execution_count": null,
   "metadata": {
    "ExecuteTime": {
     "end_time": "2023-05-02T12:25:59.223473672Z",
     "start_time": "2023-05-02T12:25:59.219511440Z"
    }
   },
   "outputs": [],
   "source": [
    "START_DATE = date(year=2022, month=10, day=1)"
   ]
  },
  {
   "cell_type": "code",
   "execution_count": null,
   "metadata": {
    "ExecuteTime": {
     "end_time": "2023-05-02T12:26:07.661561066Z",
     "start_time": "2023-05-02T12:26:00.739321371Z"
    }
   },
   "outputs": [],
   "source": [
    "entity_model.populate_random_data(start_date=START_DATE)"
   ]
  },
  {
   "cell_type": "markdown",
   "metadata": {},
   "source": [
    "### EntityModel has now a Default Chart of Accounts"
   ]
  },
  {
   "cell_type": "code",
   "execution_count": null,
   "metadata": {
    "ExecuteTime": {
     "end_time": "2023-05-02T12:26:38.055549032Z",
     "start_time": "2023-05-02T12:26:37.999323946Z"
    }
   },
   "outputs": [],
   "source": [
    "entity_model.has_default_coa()"
   ]
  },
  {
   "cell_type": "code",
   "execution_count": null,
   "metadata": {
    "ExecuteTime": {
     "end_time": "2023-05-02T12:26:39.921887978Z",
     "start_time": "2023-05-02T12:26:39.915563054Z"
    }
   },
   "outputs": [],
   "source": [
    "default_coa_model = entity_model.get_default_coa()"
   ]
  },
  {
   "cell_type": "markdown",
   "metadata": {},
   "source": [
    "# Chart of Accounts (CoA)"
   ]
  },
  {
   "cell_type": "markdown",
   "metadata": {},
   "source": [
    "## Django Ledger support multiple chart of accounts."
   ]
  },
  {
   "cell_type": "code",
   "execution_count": null,
   "metadata": {
    "ExecuteTime": {
     "end_time": "2023-05-02T12:26:43.009405285Z",
     "start_time": "2023-05-02T12:26:42.942771183Z"
    }
   },
   "outputs": [],
   "source": [
    "another_coa_model = entity_model.create_chart_of_accounts(\n",
    "    assign_as_default=False, \n",
    "    commit=True, \n",
    "    coa_name='My Legacy Chart of Accounts')"
   ]
  },
  {
   "cell_type": "markdown",
   "metadata": {},
   "source": [
    "# Accounts"
   ]
  },
  {
   "cell_type": "markdown",
   "metadata": {},
   "source": [
    "## Get All Accounts"
   ]
  },
  {
   "cell_type": "code",
   "execution_count": null,
   "metadata": {
    "ExecuteTime": {
     "end_time": "2023-05-02T12:26:44.617468507Z",
     "start_time": "2023-05-02T12:26:44.579227915Z"
    }
   },
   "outputs": [],
   "source": [
    "coa_qs, coa_map = entity_model.get_all_coa_accounts()\n",
    "pd.DataFrame(coa_map[default_coa_model].values())"
   ]
  },
  {
   "cell_type": "code",
   "execution_count": null,
   "metadata": {
    "ExecuteTime": {
     "end_time": "2023-05-02T12:26:45.435390661Z",
     "start_time": "2023-05-02T12:26:45.357464265Z"
    }
   },
   "outputs": [],
   "source": [
    "# new CoA does not have any accounts yet...\n",
    "pd.DataFrame(coa_map[another_coa_model].values())"
   ]
  },
  {
   "cell_type": "markdown",
   "metadata": {},
   "source": [
    "## Get Default CoA Accounts"
   ]
  },
  {
   "cell_type": "code",
   "execution_count": null,
   "metadata": {
    "ExecuteTime": {
     "end_time": "2023-05-02T12:26:46.584346488Z",
     "start_time": "2023-05-02T12:26:46.556516411Z"
    }
   },
   "outputs": [],
   "source": [
    "default_coa_accounts_qs = entity_model.get_default_coa_accounts()\n",
    "pd.DataFrame(default_coa_accounts_qs.values())"
   ]
  },
  {
   "cell_type": "markdown",
   "metadata": {},
   "source": [
    "## Get CoA Accounts by CoA Model"
   ]
  },
  {
   "cell_type": "code",
   "execution_count": null,
   "metadata": {
    "ExecuteTime": {
     "end_time": "2023-05-02T12:26:47.779311513Z",
     "start_time": "2023-05-02T12:26:47.704570419Z"
    }
   },
   "outputs": [],
   "source": [
    "coa_accounts_by_coa_model_qs = entity_model.get_coa_accounts(coa_model=default_coa_model)\n",
    "pd.DataFrame(coa_accounts_by_coa_model_qs.values())"
   ]
  },
  {
   "cell_type": "markdown",
   "metadata": {},
   "source": [
    "## Get CoA Accounts by CoA Model UUID"
   ]
  },
  {
   "cell_type": "code",
   "execution_count": null,
   "metadata": {
    "ExecuteTime": {
     "end_time": "2023-05-02T12:26:49.123819554Z",
     "start_time": "2023-05-02T12:26:49.032005255Z"
    }
   },
   "outputs": [],
   "source": [
    "coa_accounts_by_coa_uuid_qs = entity_model.get_coa_accounts(coa_model=default_coa_model.uuid)\n",
    "pd.DataFrame(coa_accounts_by_coa_uuid_qs.values())"
   ]
  },
  {
   "cell_type": "markdown",
   "metadata": {},
   "source": [
    "## Get CoA Accounts by CoA Model Slug"
   ]
  },
  {
   "cell_type": "code",
   "execution_count": null,
   "metadata": {
    "ExecuteTime": {
     "end_time": "2023-05-02T12:26:50.730393083Z",
     "start_time": "2023-05-02T12:26:50.637183861Z"
    }
   },
   "outputs": [],
   "source": [
    "coa_accounts_by_coa_slug_qs = entity_model.get_coa_accounts(coa_model=default_coa_model.slug)\n",
    "pd.DataFrame(coa_accounts_by_coa_slug_qs.values())"
   ]
  },
  {
   "cell_type": "code",
   "execution_count": null,
   "metadata": {
    "ExecuteTime": {
     "end_time": "2023-05-02T12:26:56.399161427Z",
     "start_time": "2023-05-02T12:26:56.387512126Z"
    }
   },
   "outputs": [],
   "source": [
    "# coa_accounts_by_codes_qs = entity_model.get_accounts_with_codes(code_list=['ABC'], \n",
    "#                                                                 coa_model=another_coa_model)\n",
    "# pd.DataFrame(coa_accounts_by_codes_qs.values())"
   ]
  },
  {
   "cell_type": "markdown",
   "metadata": {},
   "source": [
    "## Get Accounts With Codes and CoA Model"
   ]
  },
  {
   "cell_type": "code",
   "execution_count": null,
   "metadata": {
    "ExecuteTime": {
     "end_time": "2023-05-02T12:26:54.214820993Z",
     "start_time": "2023-05-02T12:26:54.203960372Z"
    }
   },
   "outputs": [],
   "source": [
    "coa_accounts_by_codes_qs = entity_model.get_accounts_with_codes(code_list=['1010', '1050'])\n",
    "pd.DataFrame(coa_accounts_by_codes_qs.values())"
   ]
  },
  {
   "cell_type": "markdown",
   "metadata": {},
   "source": [
    "## Create Account Model"
   ]
  },
  {
   "cell_type": "code",
   "execution_count": null,
   "metadata": {
    "ExecuteTime": {
     "end_time": "2023-05-02T12:27:05.534234034Z",
     "start_time": "2023-05-02T12:27:05.527369317Z"
    }
   },
   "outputs": [],
   "source": [
    "coa_model, account_model = entity_model.create_account(\n",
    "    coa_model=another_coa_model,\n",
    "    account_model_kwargs={\n",
    "        'code': f'1{str(randint(10000,99999))}ABC',\n",
    "        'role': roles.ASSET_CA_INVENTORY,\n",
    "        'name': 'A cool account created from the EntityModel API!',\n",
    "        'balance_type': roles.DEBIT,\n",
    "        'active': True\n",
    "    })"
   ]
  },
  {
   "cell_type": "code",
   "execution_count": null,
   "metadata": {
    "ExecuteTime": {
     "end_time": "2023-05-02T12:27:06.296801083Z",
     "start_time": "2023-05-02T12:27:06.292091840Z"
    }
   },
   "outputs": [],
   "source": [
    "account_model"
   ]
  },
  {
   "cell_type": "code",
   "execution_count": null,
   "metadata": {
    "ExecuteTime": {
     "end_time": "2023-05-02T12:27:46.379850935Z",
     "start_time": "2023-05-02T12:27:46.368793177Z"
    }
   },
   "outputs": [],
   "source": [
    "given_coa_accounts_qs = entity_model.get_coa_accounts(coa_model=another_coa_model)\n",
    "pd.DataFrame(given_coa_accounts_qs.values())"
   ]
  },
  {
   "cell_type": "markdown",
   "metadata": {},
   "source": [
    "# Customers"
   ]
  },
  {
   "cell_type": "markdown",
   "metadata": {},
   "source": [
    "## Get Customers"
   ]
  },
  {
   "cell_type": "code",
   "execution_count": null,
   "metadata": {
    "ExecuteTime": {
     "end_time": "2023-05-02T12:27:51.093768675Z",
     "start_time": "2023-05-02T12:27:51.036828067Z"
    }
   },
   "outputs": [],
   "source": [
    "customer_qs = entity_model.get_customers()\n",
    "pd.DataFrame(customer_qs.values())"
   ]
  },
  {
   "cell_type": "markdown",
   "metadata": {},
   "source": [
    "## Create Customers"
   ]
  },
  {
   "cell_type": "code",
   "execution_count": null,
   "metadata": {
    "ExecuteTime": {
     "end_time": "2023-05-02T12:27:54.352306250Z",
     "start_time": "2023-05-02T12:27:54.346310783Z"
    }
   },
   "outputs": [],
   "source": [
    "customer_model = entity_model.create_customer(customer_model_kwargs={\n",
    "    'customer_name': 'Mr. Big',\n",
    "    'description': 'A great paying customer!',\n",
    "})"
   ]
  },
  {
   "cell_type": "markdown",
   "metadata": {},
   "source": [
    "# Vendors"
   ]
  },
  {
   "cell_type": "markdown",
   "metadata": {},
   "source": [
    "## Get Vendors"
   ]
  },
  {
   "cell_type": "code",
   "execution_count": null,
   "metadata": {
    "ExecuteTime": {
     "end_time": "2023-05-02T12:27:56.752528818Z",
     "start_time": "2023-05-02T12:27:56.657579646Z"
    }
   },
   "outputs": [],
   "source": [
    "vendor_qs = entity_model.get_vendors()\n",
    "pd.DataFrame(vendor_qs.values())"
   ]
  },
  {
   "cell_type": "markdown",
   "metadata": {},
   "source": [
    "## Create Vendor"
   ]
  },
  {
   "cell_type": "code",
   "execution_count": null,
   "metadata": {
    "ExecuteTime": {
     "end_time": "2023-05-02T12:27:58.048776998Z",
     "start_time": "2023-05-02T12:27:58.042439513Z"
    }
   },
   "outputs": [],
   "source": [
    "vendor_model = entity_model.create_vendor(vendor_model_kwargs={\n",
    "    'vendor_name': 'ACME LLC',\n",
    "    'description': 'A Reliable Vendor!'\n",
    "})"
   ]
  },
  {
   "cell_type": "markdown",
   "metadata": {},
   "source": [
    "# Invoices"
   ]
  },
  {
   "cell_type": "markdown",
   "metadata": {},
   "source": [
    "## Get Invoices"
   ]
  },
  {
   "cell_type": "code",
   "execution_count": null,
   "metadata": {
    "ExecuteTime": {
     "end_time": "2023-05-02T12:32:21.218218856Z",
     "start_time": "2023-05-02T12:32:21.142651261Z"
    }
   },
   "outputs": [],
   "source": [
    "invoices_qs = entity_model.get_invoices()\n",
    "pd.DataFrame(invoices_qs.values())"
   ]
  },
  {
   "cell_type": "markdown",
   "metadata": {},
   "source": [
    "## Create Invoice"
   ]
  },
  {
   "cell_type": "code",
   "execution_count": null,
   "metadata": {
    "ExecuteTime": {
     "end_time": "2023-05-02T12:32:27.206572755Z",
     "start_time": "2023-05-02T12:32:27.186853182Z"
    }
   },
   "outputs": [],
   "source": [
    "invoice_model = entity_model.create_invoice(\n",
    "    customer_model='C-0000000006',\n",
    "    terms=InvoiceModel.TERMS_NET_30\n",
    ")"
   ]
  },
  {
   "cell_type": "markdown",
   "metadata": {},
   "source": [
    "# Bills"
   ]
  },
  {
   "cell_type": "markdown",
   "metadata": {},
   "source": [
    "## Get Bills"
   ]
  },
  {
   "cell_type": "code",
   "execution_count": null,
   "metadata": {
    "ExecuteTime": {
     "end_time": "2023-05-02T12:37:18.049868700Z",
     "start_time": "2023-05-02T12:37:17.947993149Z"
    }
   },
   "outputs": [],
   "source": [
    "bills_qs = entity_model.get_bills()\n",
    "pd.DataFrame(bills_qs.values())"
   ]
  },
  {
   "cell_type": "markdown",
   "metadata": {},
   "source": [
    "## Create Bill"
   ]
  },
  {
   "cell_type": "code",
   "execution_count": null,
   "metadata": {
    "ExecuteTime": {
     "end_time": "2023-05-02T12:37:26.105399746Z",
     "start_time": "2023-05-02T12:37:26.047062814Z"
    }
   },
   "outputs": [],
   "source": [
    "bill_model = entity_model.create_bill(\n",
    "    vendor_model='V-0000000002',\n",
    "    terms=BillModel.TERMS_NET_60\n",
    ")"
   ]
  },
  {
   "cell_type": "markdown",
   "metadata": {},
   "source": [
    "# Purchase Orders"
   ]
  },
  {
   "cell_type": "markdown",
   "metadata": {},
   "source": [
    "## Get Purchase Orders"
   ]
  },
  {
   "cell_type": "code",
   "execution_count": null,
   "metadata": {
    "ExecuteTime": {
     "end_time": "2023-05-02T12:43:41.688757495Z",
     "start_time": "2023-05-02T12:43:41.651313834Z"
    }
   },
   "outputs": [],
   "source": [
    "purchase_orders_qs = entity_model.get_purchase_orders()\n",
    "pd.DataFrame(purchase_orders_qs.values())"
   ]
  },
  {
   "cell_type": "markdown",
   "metadata": {},
   "source": [
    "## Create Purchase Order"
   ]
  },
  {
   "cell_type": "code",
   "execution_count": null,
   "metadata": {
    "ExecuteTime": {
     "end_time": "2023-05-02T12:44:42.654178152Z",
     "start_time": "2023-05-02T12:44:42.646667501Z"
    }
   },
   "outputs": [],
   "source": [
    "purchase_order = entity_model.create_purchase_order()"
   ]
  },
  {
   "cell_type": "markdown",
   "metadata": {},
   "source": [
    "# Estimates/Contracts"
   ]
  },
  {
   "cell_type": "markdown",
   "metadata": {},
   "source": [
    "## Get Estimates/Contracts"
   ]
  },
  {
   "cell_type": "code",
   "execution_count": null,
   "metadata": {
    "ExecuteTime": {
     "end_time": "2023-05-02T12:45:59.156196405Z",
     "start_time": "2023-05-02T12:45:58.942829638Z"
    }
   },
   "outputs": [],
   "source": [
    "estimates_qs = entity_model.get_estimates()\n",
    "pd.DataFrame(estimates_qs.values())"
   ]
  },
  {
   "cell_type": "markdown",
   "metadata": {},
   "source": [
    "## Create Estimate"
   ]
  },
  {
   "cell_type": "code",
   "execution_count": null,
   "metadata": {
    "ExecuteTime": {
     "end_time": "2023-05-02T12:49:33.186131292Z",
     "start_time": "2023-05-02T12:49:33.125270860Z"
    }
   },
   "outputs": [],
   "source": [
    "estimate_model = entity_model.create_estimate(\n",
    "    estimate_title='A quote for new potential customer!', \n",
    "    customer_model='C-0000000009',\n",
    "    contract_terms=EstimateModel.CONTRACT_TERMS_FIXED\n",
    ")"
   ]
  },
  {
   "cell_type": "markdown",
   "metadata": {},
   "source": [
    "# Bank Accounts"
   ]
  },
  {
   "cell_type": "markdown",
   "metadata": {},
   "source": [
    "## Get Bank Accounts"
   ]
  },
  {
   "cell_type": "code",
   "execution_count": null,
   "metadata": {},
   "outputs": [],
   "source": [
    "bank_accounts_qs = entity_model.get_bank_accounts()\n",
    "pd.DataFrame(bank_accounts_qs.values())"
   ]
  },
  {
   "cell_type": "markdown",
   "metadata": {},
   "source": [
    "## Create Bank Account"
   ]
  },
  {
   "cell_type": "code",
   "execution_count": null,
   "metadata": {},
   "outputs": [],
   "source": [
    "bank_account_model = entity_model.create_bank_account(name='A big bank account!',\n",
    "                                                      account_type='checking')"
   ]
  },
  {
   "cell_type": "markdown",
   "metadata": {},
   "source": [
    "# Items"
   ]
  },
  {
   "cell_type": "markdown",
   "metadata": {},
   "source": [
    "## Unit of Measures"
   ]
  },
  {
   "cell_type": "markdown",
   "metadata": {},
   "source": [
    "### Get Unit of Measures"
   ]
  },
  {
   "cell_type": "code",
   "execution_count": null,
   "metadata": {},
   "outputs": [],
   "source": [
    "uom_qs = entity_model.get_uom_all()\n",
    "pd.DataFrame(uom_qs.values())"
   ]
  },
  {
   "cell_type": "markdown",
   "metadata": {},
   "source": [
    "### Create a UOM"
   ]
  },
  {
   "cell_type": "code",
   "execution_count": null,
   "metadata": {},
   "outputs": [],
   "source": [
    "uom_model_ft = entity_model.create_uom(\n",
    "    name='Linear Feet',\n",
    "    unit_abbr='lin-ft'\n",
    ")"
   ]
  },
  {
   "cell_type": "markdown",
   "metadata": {},
   "source": [
    "### Get Some UoMs"
   ]
  },
  {
   "cell_type": "code",
   "execution_count": null,
   "metadata": {},
   "outputs": [],
   "source": [
    "uom_model_unit = uom_qs.get(unit_abbr__exact='unit')\n",
    "uom_model_man_hr = uom_qs.get(unit_abbr__exact='man-hour')"
   ]
  },
  {
   "cell_type": "markdown",
   "metadata": {},
   "source": [
    "## Expenses"
   ]
  },
  {
   "cell_type": "markdown",
   "metadata": {},
   "source": [
    "### Get Expense Items"
   ]
  },
  {
   "cell_type": "code",
   "execution_count": null,
   "metadata": {},
   "outputs": [],
   "source": [
    "expenses_qs = entity_model.get_items_expenses()\n",
    "pd.DataFrame(expenses_qs.values())"
   ]
  },
  {
   "cell_type": "markdown",
   "metadata": {},
   "source": [
    "### Create Expense Item"
   ]
  },
  {
   "cell_type": "code",
   "execution_count": null,
   "metadata": {},
   "outputs": [],
   "source": [
    "expense_item_model = entity_model.create_item_expense(\n",
    "    name='Premium Pencils',\n",
    "    uom_model=uom_model_unit,\n",
    "    expense_type=ItemModel.ITEM_TYPE_MATERIAL\n",
    ")"
   ]
  },
  {
   "cell_type": "code",
   "execution_count": null,
   "metadata": {},
   "outputs": [],
   "source": [
    "expense_item_model.is_expense()"
   ]
  },
  {
   "cell_type": "markdown",
   "metadata": {},
   "source": [
    "## Services"
   ]
  },
  {
   "cell_type": "markdown",
   "metadata": {},
   "source": [
    "### Get Service Items"
   ]
  },
  {
   "cell_type": "code",
   "execution_count": null,
   "metadata": {},
   "outputs": [],
   "source": [
    "services_qs = entity_model.get_items_services()\n",
    "pd.DataFrame(services_qs.values())"
   ]
  },
  {
   "cell_type": "markdown",
   "metadata": {},
   "source": [
    "### Create Service Item"
   ]
  },
  {
   "cell_type": "code",
   "execution_count": null,
   "metadata": {},
   "outputs": [],
   "source": [
    "service_model = entity_model.create_item_service(\n",
    "    name='Yoga Class',\n",
    "    uom_model=uom_model_man_hr\n",
    ")"
   ]
  },
  {
   "cell_type": "code",
   "execution_count": null,
   "metadata": {},
   "outputs": [],
   "source": [
    "service_model.is_service()"
   ]
  },
  {
   "cell_type": "markdown",
   "metadata": {},
   "source": [
    "## Products"
   ]
  },
  {
   "cell_type": "markdown",
   "metadata": {},
   "source": [
    "### Get Product Items"
   ]
  },
  {
   "cell_type": "code",
   "execution_count": null,
   "metadata": {},
   "outputs": [],
   "source": [
    "products_qs = entity_model.get_items_products()\n",
    "pd.DataFrame(products_qs.values())"
   ]
  },
  {
   "cell_type": "markdown",
   "metadata": {},
   "source": [
    "### Create Product Items"
   ]
  },
  {
   "cell_type": "code",
   "execution_count": null,
   "metadata": {},
   "outputs": [],
   "source": [
    "product_model = entity_model.create_item_product(\n",
    "    name='1/2\" Premium PVC Pipe',\n",
    "    uom_model=uom_model_ft,\n",
    "    item_type=ItemModel.ITEM_TYPE_MATERIAL\n",
    ")"
   ]
  },
  {
   "cell_type": "code",
   "execution_count": null,
   "metadata": {},
   "outputs": [],
   "source": [
    "product_model.is_product()"
   ]
  },
  {
   "cell_type": "markdown",
   "metadata": {},
   "source": [
    "## Inventory"
   ]
  },
  {
   "cell_type": "markdown",
   "metadata": {},
   "source": [
    "### Get Inventory Items"
   ]
  },
  {
   "cell_type": "code",
   "execution_count": null,
   "metadata": {},
   "outputs": [],
   "source": [
    "inventory_qs = entity_model.get_items_inventory()\n",
    "pd.DataFrame(inventory_qs.values())"
   ]
  },
  {
   "cell_type": "markdown",
   "metadata": {},
   "source": [
    "### Create Inventory Items"
   ]
  },
  {
   "cell_type": "code",
   "execution_count": null,
   "metadata": {},
   "outputs": [],
   "source": [
    "inventory_model = entity_model.create_item_inventory(\n",
    "    name='A Home to Flip!',\n",
    "    uom_model=uom_model_unit,\n",
    "    item_type=ItemModel.ITEM_TYPE_LUMP_SUM\n",
    ")"
   ]
  },
  {
   "cell_type": "code",
   "execution_count": null,
   "metadata": {},
   "outputs": [],
   "source": [
    "inventory_model.is_inventory()"
   ]
  },
  {
   "cell_type": "markdown",
   "metadata": {},
   "source": [
    "# Financial Statements"
   ]
  },
  {
   "cell_type": "markdown",
   "metadata": {},
   "source": [
    "## Balance Sheet"
   ]
  },
  {
   "cell_type": "code",
   "execution_count": null,
   "metadata": {},
   "outputs": [],
   "source": [
    "txs_qs, io_digest = entity_model.get_balance_sheet(\n",
    "    user_model=user_model,\n",
    "    to_date=date(2022,12,31)\n",
    ")"
   ]
  },
  {
   "cell_type": "markdown",
   "metadata": {},
   "source": [
    "### The digest object contains all relevant financial data for the requested period\n",
    "#### The balance sheet information is summarized in its own namespace"
   ]
  },
  {
   "cell_type": "code",
   "execution_count": null,
   "metadata": {},
   "outputs": [],
   "source": [
    "io_digest['tx_digest']['balance_sheet']"
   ]
  },
  {
   "cell_type": "markdown",
   "metadata": {},
   "source": [
    "## Income Statement"
   ]
  },
  {
   "cell_type": "code",
   "execution_count": null,
   "metadata": {},
   "outputs": [],
   "source": [
    "txs_qs, io_digest = entity_model.get_income_statement(\n",
    "    user_model=user_model,\n",
    "    from_date=date(2022,1,1),\n",
    "    to_date=date(2022,12,31)\n",
    ")"
   ]
  },
  {
   "cell_type": "markdown",
   "metadata": {},
   "source": [
    "### The digest object contains all relevant financial data for the requested period\n",
    "#### The income statement information is summarized in its own namespace"
   ]
  },
  {
   "cell_type": "code",
   "execution_count": null,
   "metadata": {
    "scrolled": true
   },
   "outputs": [],
   "source": [
    "io_digest['tx_digest']['income_statement']"
   ]
  },
  {
   "cell_type": "markdown",
   "metadata": {},
   "source": [
    "## Cash Flow Statement"
   ]
  },
  {
   "cell_type": "code",
   "execution_count": null,
   "metadata": {},
   "outputs": [],
   "source": [
    "txs_qs, io_digest = entity_model.get_cash_flow_statement(\n",
    "    user_model=user_model,\n",
    "    from_date=date(2022,1,1),\n",
    "    to_date=date(2022,12,31)\n",
    ")"
   ]
  },
  {
   "cell_type": "markdown",
   "metadata": {},
   "source": [
    "### The digest object contains all relevant financial data for the requested period\n",
    "#### The cash flow statement information is summarized in its own namespace"
   ]
  },
  {
   "cell_type": "code",
   "execution_count": null,
   "metadata": {},
   "outputs": [],
   "source": [
    "io_digest['tx_digest']['cash_flow_statement']"
   ]
  },
  {
   "cell_type": "markdown",
   "metadata": {},
   "source": [
    "## All Financial Statements in a single call"
   ]
  },
  {
   "cell_type": "code",
   "execution_count": null,
   "metadata": {},
   "outputs": [],
   "source": [
    "txs_qs, io_digest = entity_model.get_financial_statements(\n",
    "    user_model=user_model,\n",
    "    from_date=date(2022,1,1),\n",
    "    to_date=date(2022,12,31)\n",
    ")"
   ]
  },
  {
   "cell_type": "markdown",
   "metadata": {},
   "source": [
    "### The digest object contains all relevant financial data for the requested period\n",
    "#### All financial statements are summarized in its own namespace"
   ]
  },
  {
   "cell_type": "code",
   "execution_count": null,
   "metadata": {
    "scrolled": true
   },
   "outputs": [],
   "source": [
    "io_digest['tx_digest']['balance_sheet']"
   ]
  },
  {
   "cell_type": "code",
   "execution_count": null,
   "metadata": {},
   "outputs": [],
   "source": [
    "io_digest['tx_digest']['income_statement']"
   ]
  },
  {
   "cell_type": "code",
   "execution_count": null,
   "metadata": {},
   "outputs": [],
   "source": [
    "io_digest['tx_digest']['cash_flow_statement']"
   ]
  }
 ],
 "metadata": {
  "kernelspec": {
   "display_name": "Python 3 (ipykernel)",
   "language": "python",
   "name": "python3"
  },
  "language_info": {
   "codemirror_mode": {
    "name": "ipython",
    "version": 3
   },
   "file_extension": ".py",
   "mimetype": "text/x-python",
   "name": "python",
   "nbconvert_exporter": "python",
   "pygments_lexer": "ipython3",
   "version": "3.11.3"
  }
 },
 "nbformat": 4,
 "nbformat_minor": 1
}
